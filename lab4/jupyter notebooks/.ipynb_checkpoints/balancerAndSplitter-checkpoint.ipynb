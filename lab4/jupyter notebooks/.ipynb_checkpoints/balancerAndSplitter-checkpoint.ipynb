{
 "cells": [
  {
   "cell_type": "code",
   "execution_count": 1,
   "id": "03b0f20d",
   "metadata": {},
   "outputs": [],
   "source": [
    "import random\n",
    "from random import sample"
   ]
  },
  {
   "cell_type": "code",
   "execution_count": 2,
   "id": "455e5652",
   "metadata": {},
   "outputs": [],
   "source": [
    "sourceFile = open('../IMDB Dataset.csv', 'r')"
   ]
  },
  {
   "cell_type": "code",
   "execution_count": 3,
   "id": "29f3088e",
   "metadata": {},
   "outputs": [],
   "source": [
    "data = sourceFile.readlines()\n",
    "sourceFile.close()\n",
    "print(l)\n",
    "# data1 = data[0:12332].copy()  # contains 12332 gamma elements\n",
    "# data2 = data[12332:].copy()  # contains 6688 hadron elements\n",
    "# print(data1[0:9])"
   ]
  },
  {
   "cell_type": "code",
   "execution_count": 4,
   "id": "3d6c7977",
   "metadata": {},
   "outputs": [],
   "source": [
    "random.shuffle(data1)\n",
    "random.shuffle(data1)\n",
    "# print(data1[0:10])"
   ]
  },
  {
   "cell_type": "code",
   "execution_count": 5,
   "id": "016717f9",
   "metadata": {},
   "outputs": [],
   "source": [
    "gammasTemp = data1[0:6688].copy()\n",
    "hadronsTemp = data2.copy()"
   ]
  },
  {
   "cell_type": "code",
   "execution_count": 6,
   "id": "9a9073ec",
   "metadata": {},
   "outputs": [],
   "source": [
    "gammas = [sub.replace('g', '1') for sub in gammasTemp]\n",
    "hadrons = [sub.replace('h', '0') for sub in hadronsTemp]"
   ]
  },
  {
   "cell_type": "code",
   "execution_count": 7,
   "id": "0c9ecfd1",
   "metadata": {},
   "outputs": [
    {
     "name": "stdout",
     "output_type": "stream",
     "text": [
      "6688\n",
      "6688\n",
      "['24.4431,7.1007,2.3424,0.7045,0.4568,-11.4103,-11.2916,-4.5861,9.668,171.046,1\\n', '26.7063,18.6618,2.8842,0.3499,0.1821,11.9666,16.8838,14.2216,17.71,89.0357,1\\n', '27.0691,11.0807,2.4955,0.4537,0.2923,8.4642,15.1443,4.0944,15.9689,224.57,1\\n', '17.9766,12.7049,2.4108,0.567,0.3398,2.1079,-9.2332,-9.5437,38.495,138.628,1\\n', '23.2702,10.5065,2.4005,0.5686,0.3201,-9.624,-16.8084,7.4585,20.9345,94.6289,1\\n', '29.6154,15.3251,2.721,0.3479,0.1797,36.0308,20.5275,3.5068,18.362,84.186,1\\n', '21.0701,9.7165,2.2742,0.6649,0.375,20.6119,18.804,11.4202,6.7698,111.115,1\\n', '19.0154,12.8813,2.5085,0.6326,0.4264,8.3826,17.2241,8.0364,58.903,174.401,1\\n', '73.3506,24.1373,3.4044,0.2396,0.1338,46.351,80.3803,-14.2326,1.0087,291.889,1\\n', '31.9404,17.4155,2.7054,0.2936,0.1567,-47.7046,-17.4858,13.8939,29.895,112.626,1\\n']\n",
      "['93.7035,37.9432,3.1454,0.168,0.1011,53.2566,89.0566,11.8175,14.1224,231.9028,0\\n', '102.0005,22.0017,3.3161,0.1064,0.0724,-54.0862,43.0553,-15.0647,88.4636,274.9392,0\\n', '100.2775,21.8784,3.11,0.312,0.1446,-48.1834,57.6547,-9.6341,20.7848,346.433,0\\n', '91.6558,18.8293,2.7097,0.4386,0.342,-52.6841,-97.8373,-17.0955,63.8834,130.7998,0\\n', '38.0195,12.6736,2.8747,0.4084,0.1928,-51.484,8.3471,7.962,24.5402,163.8674,0\\n', '215.323,67.8238,3.4396,0.1363,0.0725,298.614,-95.0773,-57.2209,76.924,243.064,0\\n', '160.068,87.0446,4.003,0.094,0.0508,-31.9238,-169.2824,-54.7814,10.2033,292.7602,0\\n', '19.7907,19.353,2.646,0.5332,0.2678,14.7705,4.8395,-9.4805,80.0427,63.7561,0\\n', '49.8986,12.6365,2.5172,0.3191,0.1626,-47.4998,17.2189,-8.8468,35.934,204.903,0\\n', '61.0387,9.9631,2.6232,0.3667,0.194,29.4891,50.759,-7.303,64.2081,243.605,0\\n']\n"
     ]
    }
   ],
   "source": [
    "print(len(gammas))\n",
    "print(len(hadrons))\n",
    "print(gammas[0:10])\n",
    "print(hadrons[0:10])"
   ]
  },
  {
   "cell_type": "code",
   "execution_count": 8,
   "id": "c5c92a03",
   "metadata": {},
   "outputs": [],
   "source": [
    "random.shuffle(gammas)\n",
    "random.shuffle(gammas)\n",
    "random.shuffle(gammas)\n",
    "gammas70 = gammas[0:4682]\n",
    "gammas30 = gammas[4682:]"
   ]
  },
  {
   "cell_type": "code",
   "execution_count": 9,
   "id": "ba0d1d19",
   "metadata": {},
   "outputs": [],
   "source": [
    "random.shuffle(hadrons)\n",
    "random.shuffle(hadrons)\n",
    "random.shuffle(hadrons)\n",
    "hadrons70 = hadrons[0:4682]\n",
    "hadrons30 = hadrons[4682:]"
   ]
  },
  {
   "cell_type": "code",
   "execution_count": 10,
   "id": "e6f4bedc",
   "metadata": {},
   "outputs": [
    {
     "name": "stdout",
     "output_type": "stream",
     "text": [
      "4682\n",
      "2006\n",
      "4682\n",
      "2006\n"
     ]
    }
   ],
   "source": [
    "print(len(gammas70))\n",
    "print(len(gammas30))\n",
    "print(len(hadrons70))\n",
    "print(len(hadrons30))"
   ]
  },
  {
   "cell_type": "code",
   "execution_count": 11,
   "id": "dfacb178",
   "metadata": {},
   "outputs": [],
   "source": [
    "trainList = gammas70 + hadrons70\n",
    "testList = gammas30 + hadrons30\n",
    "random.shuffle(trainList)  # training data must be shuffled\n",
    "random.shuffle(testList)  # testing data needs to be shuffled"
   ]
  },
  {
   "cell_type": "code",
   "execution_count": 12,
   "id": "917c1369",
   "metadata": {},
   "outputs": [],
   "source": [
    "with open('data/allData.csv', 'w') as allDataFile:\n",
    "    allDataFile.write('fLength,fWidth,fSize,fConc,fConc1,fAsym,fM3Long,fM3Trans,fAlpha,fDist,class\\n')\n",
    "    for line in gammas + hadrons:\n",
    "        allDataFile.write(line)\n",
    "\n",
    "with open('data/training.csv', 'w') as trainingFile:\n",
    "    trainingFile.write('fLength,fWidth,fSize,fConc,fConc1,fAsym,fM3Long,fM3Trans,fAlpha,fDist,class\\n')\n",
    "    for line in trainList:\n",
    "        trainingFile.write(line)\n",
    "\n",
    "with open('data/testing.csv', 'w') as testingFile:\n",
    "    testingFile.write('fLength,fWidth,fSize,fConc,fConc1,fAsym,fM3Long,fM3Trans,fAlpha,fDist,class\\n')\n",
    "    for line in testList:\n",
    "        testingFile.write(line)\n",
    "\n",
    "with open('data/gammas70.csv', 'w') as g70File:\n",
    "    g70File.write('fLength,fWidth,fSize,fConc,fConc1,fAsym,fM3Long,fM3Trans,fAlpha,fDist,class\\n')\n",
    "    for line in gammas70:\n",
    "        g70File.write(line)\n",
    "\n",
    "with open('data/hadrons70.csv', 'w') as h70File:\n",
    "    h70File.write('fLength,fWidth,fSize,fConc,fConc1,fAsym,fM3Long,fM3Trans,fAlpha,fDist,class\\n')\n",
    "    for line in hadrons70:\n",
    "        h70File.write(line)"
   ]
  }
 ],
 "metadata": {
  "kernelspec": {
   "display_name": "Python 3 (ipykernel)",
   "language": "python",
   "name": "python3"
  },
  "language_info": {
   "codemirror_mode": {
    "name": "ipython",
    "version": 3
   },
   "file_extension": ".py",
   "mimetype": "text/x-python",
   "name": "python",
   "nbconvert_exporter": "python",
   "pygments_lexer": "ipython3",
   "version": "3.10.3"
  }
 },
 "nbformat": 4,
 "nbformat_minor": 5
}
