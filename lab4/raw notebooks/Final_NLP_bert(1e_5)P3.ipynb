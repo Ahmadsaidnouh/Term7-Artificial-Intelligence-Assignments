{
  "cells": [
    {
      "cell_type": "markdown",
      "metadata": {
        "id": "view-in-github"
      },
      "source": [
        "<a href=\"https://colab.research.google.com/github/Ahmadsaidnouh/Term7-Artificial-Intelligence-Assignments/blob/lab4%2Fhossam/lab4/jupyter%20notebooks/Finallllllll_NLP_bert.ipynb\" target=\"_parent\"><img src=\"https://colab.research.google.com/assets/colab-badge.svg\" alt=\"Open In Colab\"/></a>"
      ],
      "id": "view-in-github"
    },
    {
      "cell_type": "code",
      "execution_count": 1,
      "id": "6fed133d-61b7-4ce6-8a44-fe98acf0eed2",
      "metadata": {
        "id": "6fed133d-61b7-4ce6-8a44-fe98acf0eed2"
      },
      "outputs": [],
      "source": [
        "%%capture\n",
        "%pip install transformers\n",
        "%pip install pandas \n",
        "%pip install torch\n",
        "%pip install tqdm\n",
        "%pip install nltk\n",
        "%pip install configparser"
      ]
    },
    {
      "cell_type": "code",
      "execution_count": 2,
      "id": "2f3a8fd1-25a9-426d-a6be-c93b750cbcb8",
      "metadata": {
        "colab": {
          "base_uri": "https://localhost:8080/"
        },
        "id": "2f3a8fd1-25a9-426d-a6be-c93b750cbcb8",
        "outputId": "b25f43fd-bf89-4c43-9d10-4ed510bd0c69"
      },
      "outputs": [
        {
          "output_type": "stream",
          "name": "stderr",
          "text": [
            "[nltk_data] Downloading package punkt to /root/nltk_data...\n",
            "[nltk_data]   Unzipping tokenizers/punkt.zip.\n",
            "[nltk_data] Downloading package stopwords to /root/nltk_data...\n",
            "[nltk_data]   Unzipping corpora/stopwords.zip.\n",
            "[nltk_data] Downloading package wordnet to /root/nltk_data...\n",
            "[nltk_data] Downloading package omw-1.4 to /root/nltk_data...\n"
          ]
        },
        {
          "output_type": "execute_result",
          "data": {
            "text/plain": [
              "True"
            ]
          },
          "metadata": {},
          "execution_count": 2
        }
      ],
      "source": [
        "import pandas as pd\n",
        "import matplotlib.pyplot as plt\n",
        "import torch\n",
        "import numpy as np\n",
        "from transformers import BertTokenizer, BertModel\n",
        "from torch import nn\n",
        "from torch.optim import Adam\n",
        "from tqdm import tqdm\n",
        "import nltk\n",
        "from nltk.corpus import stopwords\n",
        "from nltk.stem import WordNetLemmatizer\n",
        "from nltk.stem import PorterStemmer\n",
        "import re\n",
        "import gc\n",
        "import configparser\n",
        "import ast\n",
        "nltk.download('punkt')\n",
        "nltk.download('stopwords')\n",
        "nltk.download('wordnet')\n",
        "nltk.download('omw-1.4')"
      ]
    },
    {
      "cell_type": "markdown",
      "source": [
        "# For first run"
      ],
      "metadata": {
        "id": "881POGZa_lIl"
      },
      "id": "881POGZa_lIl"
    },
    {
      "cell_type": "code",
      "source": [
        "# mia.robotics.electrical\n",
        "# from google.colab import drive\n",
        "# drive.mount('/content/drive')"
      ],
      "metadata": {
        "id": "fs9I_cjt_i05"
      },
      "id": "fs9I_cjt_i05",
      "execution_count": null,
      "outputs": []
    },
    {
      "cell_type": "markdown",
      "source": [
        "# For mounting another drive"
      ],
      "metadata": {
        "id": "CBF6NHOh_1BD"
      },
      "id": "CBF6NHOh_1BD"
    },
    {
      "cell_type": "code",
      "source": [
        "!sudo add-apt-repository -y ppa:alessandro-strada/ppa 2>&1 > /dev/null\n",
        "!sudo apt-get update -qq 2>&1 > /dev/null\n",
        "!sudo apt -y install -qq google-drive-ocamlfuse 2>&1 > /dev/null\n",
        "!google-drive-ocamlfuse"
      ],
      "metadata": {
        "id": "49ia8v2qVUJe",
        "colab": {
          "base_uri": "https://localhost:8080/"
        },
        "outputId": "d6589f32-fe85-4399-fa48-cbf145bb193d"
      },
      "id": "49ia8v2qVUJe",
      "execution_count": 3,
      "outputs": [
        {
          "output_type": "stream",
          "name": "stdout",
          "text": [
            "\n",
            "WARNING: apt does not have a stable CLI interface. Use with caution in scripts.\n",
            "\n",
            "debconf: unable to initialize frontend: Dialog\n",
            "debconf: (No usable dialog-like program is installed, so the dialog based frontend cannot be used. at /usr/share/perl5/Debconf/FrontEnd/Dialog.pm line 76, <> line 1.)\n",
            "debconf: falling back to frontend: Readline\n",
            "debconf: unable to initialize frontend: Readline\n",
            "debconf: (This frontend requires a controlling tty.)\n",
            "debconf: falling back to frontend: Teletype\n",
            "dpkg-preconfigure: unable to re-open stdin: \n",
            "/usr/bin/xdg-open: 869: www-browser: not found\n",
            "/usr/bin/xdg-open: 869: links2: not found\n",
            "/usr/bin/xdg-open: 869: elinks: not found\n",
            "/usr/bin/xdg-open: 869: links: not found\n",
            "/usr/bin/xdg-open: 869: lynx: not found\n",
            "/usr/bin/xdg-open: 869: w3m: not found\n",
            "xdg-open: no method available for opening 'https://accounts.google.com/o/oauth2/auth?client_id=564921029129.apps.googleusercontent.com&redirect_uri=https%3A%2F%2Fgd-ocaml-auth.appspot.com%2Foauth2callback&scope=https%3A%2F%2Fwww.googleapis.com%2Fauth%2Fdrive&response_type=code&access_type=offline&approval_prompt=force&state=oc5U8oBGvGGDhJwB7hG-HooHtIYSQUwhl9VROvYFUCo'\n",
            "/bin/sh: 1: firefox: not found\n",
            "/bin/sh: 1: google-chrome: not found\n",
            "/bin/sh: 1: chromium-browser: not found\n",
            "/bin/sh: 1: open: not found\n",
            "Cannot retrieve auth tokens.\n",
            "Failure(\"Error opening URL:https://accounts.google.com/o/oauth2/auth?client_id=564921029129.apps.googleusercontent.com&redirect_uri=https%3A%2F%2Fgd-ocaml-auth.appspot.com%2Foauth2callback&scope=https%3A%2F%2Fwww.googleapis.com%2Fauth%2Fdrive&response_type=code&access_type=offline&approval_prompt=force&state=oc5U8oBGvGGDhJwB7hG-HooHtIYSQUwhl9VROvYFUCo\")\n"
          ]
        }
      ]
    },
    {
      "cell_type": "code",
      "source": [
        "!sudo apt-get install -qq w3m # to act as web browser \n",
        "!xdg-settings set default-web-browser w3m.desktop # to set default browser\n",
        "%cd /content\n",
        "!mkdir drive\n",
        "%cd drive\n",
        "!mkdir MyDrive\n",
        "%cd ..\n",
        "%cd ..\n",
        "!google-drive-ocamlfuse /content/drive/MyDrive"
      ],
      "metadata": {
        "id": "yZEjsTrBVlEU",
        "colab": {
          "base_uri": "https://localhost:8080/"
        },
        "outputId": "78e4d4f7-24cd-42d4-fc47-46ff37a0da41"
      },
      "id": "yZEjsTrBVlEU",
      "execution_count": 4,
      "outputs": [
        {
          "output_type": "stream",
          "name": "stdout",
          "text": [
            "debconf: unable to initialize frontend: Dialog\n",
            "debconf: (No usable dialog-like program is installed, so the dialog based frontend cannot be used. at /usr/share/perl5/Debconf/FrontEnd/Dialog.pm line 76, <> line 1.)\n",
            "debconf: falling back to frontend: Readline\n",
            "debconf: unable to initialize frontend: Readline\n",
            "debconf: (This frontend requires a controlling tty.)\n",
            "debconf: falling back to frontend: Teletype\n",
            "dpkg-preconfigure: unable to re-open stdin: \n",
            "Selecting previously unselected package w3m.\n",
            "(Reading database ... 129504 files and directories currently installed.)\n",
            "Preparing to unpack .../w3m_0.5.3-37ubuntu0.1_amd64.deb ...\n",
            "Unpacking w3m (0.5.3-37ubuntu0.1) ...\n",
            "Setting up w3m (0.5.3-37ubuntu0.1) ...\n",
            "Processing triggers for man-db (2.9.1-1) ...\n",
            "Processing triggers for mime-support (3.64ubuntu1) ...\n",
            "/content\n",
            "/content/drive\n",
            "/content\n",
            "/\n",
            "Access token retrieved correctly.\n"
          ]
        }
      ]
    },
    {
      "cell_type": "code",
      "execution_count": 5,
      "id": "84e927af",
      "metadata": {
        "colab": {
          "base_uri": "https://localhost:8080/",
          "height": 441
        },
        "id": "84e927af",
        "outputId": "dccd74b9-3e1b-4296-9743-6961f6e0ddd5"
      },
      "outputs": [
        {
          "output_type": "stream",
          "name": "stdout",
          "text": [
            "35000 5000 10000\n"
          ]
        },
        {
          "output_type": "execute_result",
          "data": {
            "text/plain": [
              "                                                  review sentiment\n",
              "0      I saw this film in the theater when it first c...  negative\n",
              "1      Caught this on IFC yesterday, and can't believ...  negative\n",
              "2      As a person who knows the filmed ship and some...  negative\n",
              "3      As a massive fan of fantasy in general, and of...  positive\n",
              "4      Antitrust falls right into that category of fi...  negative\n",
              "...                                                  ...       ...\n",
              "34995  James J. Corbett's autobiography \"The Roar of ...  positive\n",
              "34996  Everything a musical comedy should be. Gene Ke...  positive\n",
              "34997  This film is dreadful. It has absolutely zero ...  negative\n",
              "34998  This movie had an interesting cast, it mat not...  positive\n",
              "34999  Listening to the soundtrack at the moment, the...  positive\n",
              "\n",
              "[35000 rows x 2 columns]"
            ],
            "text/html": [
              "\n",
              "  <div id=\"df-bb1fcd2b-72d4-4117-935b-c1f7f6c0a864\">\n",
              "    <div class=\"colab-df-container\">\n",
              "      <div>\n",
              "<style scoped>\n",
              "    .dataframe tbody tr th:only-of-type {\n",
              "        vertical-align: middle;\n",
              "    }\n",
              "\n",
              "    .dataframe tbody tr th {\n",
              "        vertical-align: top;\n",
              "    }\n",
              "\n",
              "    .dataframe thead th {\n",
              "        text-align: right;\n",
              "    }\n",
              "</style>\n",
              "<table border=\"1\" class=\"dataframe\">\n",
              "  <thead>\n",
              "    <tr style=\"text-align: right;\">\n",
              "      <th></th>\n",
              "      <th>review</th>\n",
              "      <th>sentiment</th>\n",
              "    </tr>\n",
              "  </thead>\n",
              "  <tbody>\n",
              "    <tr>\n",
              "      <th>0</th>\n",
              "      <td>I saw this film in the theater when it first c...</td>\n",
              "      <td>negative</td>\n",
              "    </tr>\n",
              "    <tr>\n",
              "      <th>1</th>\n",
              "      <td>Caught this on IFC yesterday, and can't believ...</td>\n",
              "      <td>negative</td>\n",
              "    </tr>\n",
              "    <tr>\n",
              "      <th>2</th>\n",
              "      <td>As a person who knows the filmed ship and some...</td>\n",
              "      <td>negative</td>\n",
              "    </tr>\n",
              "    <tr>\n",
              "      <th>3</th>\n",
              "      <td>As a massive fan of fantasy in general, and of...</td>\n",
              "      <td>positive</td>\n",
              "    </tr>\n",
              "    <tr>\n",
              "      <th>4</th>\n",
              "      <td>Antitrust falls right into that category of fi...</td>\n",
              "      <td>negative</td>\n",
              "    </tr>\n",
              "    <tr>\n",
              "      <th>...</th>\n",
              "      <td>...</td>\n",
              "      <td>...</td>\n",
              "    </tr>\n",
              "    <tr>\n",
              "      <th>34995</th>\n",
              "      <td>James J. Corbett's autobiography \"The Roar of ...</td>\n",
              "      <td>positive</td>\n",
              "    </tr>\n",
              "    <tr>\n",
              "      <th>34996</th>\n",
              "      <td>Everything a musical comedy should be. Gene Ke...</td>\n",
              "      <td>positive</td>\n",
              "    </tr>\n",
              "    <tr>\n",
              "      <th>34997</th>\n",
              "      <td>This film is dreadful. It has absolutely zero ...</td>\n",
              "      <td>negative</td>\n",
              "    </tr>\n",
              "    <tr>\n",
              "      <th>34998</th>\n",
              "      <td>This movie had an interesting cast, it mat not...</td>\n",
              "      <td>positive</td>\n",
              "    </tr>\n",
              "    <tr>\n",
              "      <th>34999</th>\n",
              "      <td>Listening to the soundtrack at the moment, the...</td>\n",
              "      <td>positive</td>\n",
              "    </tr>\n",
              "  </tbody>\n",
              "</table>\n",
              "<p>35000 rows × 2 columns</p>\n",
              "</div>\n",
              "      <button class=\"colab-df-convert\" onclick=\"convertToInteractive('df-bb1fcd2b-72d4-4117-935b-c1f7f6c0a864')\"\n",
              "              title=\"Convert this dataframe to an interactive table.\"\n",
              "              style=\"display:none;\">\n",
              "        \n",
              "  <svg xmlns=\"http://www.w3.org/2000/svg\" height=\"24px\"viewBox=\"0 0 24 24\"\n",
              "       width=\"24px\">\n",
              "    <path d=\"M0 0h24v24H0V0z\" fill=\"none\"/>\n",
              "    <path d=\"M18.56 5.44l.94 2.06.94-2.06 2.06-.94-2.06-.94-.94-2.06-.94 2.06-2.06.94zm-11 1L8.5 8.5l.94-2.06 2.06-.94-2.06-.94L8.5 2.5l-.94 2.06-2.06.94zm10 10l.94 2.06.94-2.06 2.06-.94-2.06-.94-.94-2.06-.94 2.06-2.06.94z\"/><path d=\"M17.41 7.96l-1.37-1.37c-.4-.4-.92-.59-1.43-.59-.52 0-1.04.2-1.43.59L10.3 9.45l-7.72 7.72c-.78.78-.78 2.05 0 2.83L4 21.41c.39.39.9.59 1.41.59.51 0 1.02-.2 1.41-.59l7.78-7.78 2.81-2.81c.8-.78.8-2.07 0-2.86zM5.41 20L4 18.59l7.72-7.72 1.47 1.35L5.41 20z\"/>\n",
              "  </svg>\n",
              "      </button>\n",
              "      \n",
              "  <style>\n",
              "    .colab-df-container {\n",
              "      display:flex;\n",
              "      flex-wrap:wrap;\n",
              "      gap: 12px;\n",
              "    }\n",
              "\n",
              "    .colab-df-convert {\n",
              "      background-color: #E8F0FE;\n",
              "      border: none;\n",
              "      border-radius: 50%;\n",
              "      cursor: pointer;\n",
              "      display: none;\n",
              "      fill: #1967D2;\n",
              "      height: 32px;\n",
              "      padding: 0 0 0 0;\n",
              "      width: 32px;\n",
              "    }\n",
              "\n",
              "    .colab-df-convert:hover {\n",
              "      background-color: #E2EBFA;\n",
              "      box-shadow: 0px 1px 2px rgba(60, 64, 67, 0.3), 0px 1px 3px 1px rgba(60, 64, 67, 0.15);\n",
              "      fill: #174EA6;\n",
              "    }\n",
              "\n",
              "    [theme=dark] .colab-df-convert {\n",
              "      background-color: #3B4455;\n",
              "      fill: #D2E3FC;\n",
              "    }\n",
              "\n",
              "    [theme=dark] .colab-df-convert:hover {\n",
              "      background-color: #434B5C;\n",
              "      box-shadow: 0px 1px 3px 1px rgba(0, 0, 0, 0.15);\n",
              "      filter: drop-shadow(0px 1px 2px rgba(0, 0, 0, 0.3));\n",
              "      fill: #FFFFFF;\n",
              "    }\n",
              "  </style>\n",
              "\n",
              "      <script>\n",
              "        const buttonEl =\n",
              "          document.querySelector('#df-bb1fcd2b-72d4-4117-935b-c1f7f6c0a864 button.colab-df-convert');\n",
              "        buttonEl.style.display =\n",
              "          google.colab.kernel.accessAllowed ? 'block' : 'none';\n",
              "\n",
              "        async function convertToInteractive(key) {\n",
              "          const element = document.querySelector('#df-bb1fcd2b-72d4-4117-935b-c1f7f6c0a864');\n",
              "          const dataTable =\n",
              "            await google.colab.kernel.invokeFunction('convertToInteractive',\n",
              "                                                     [key], {});\n",
              "          if (!dataTable) return;\n",
              "\n",
              "          const docLinkHtml = 'Like what you see? Visit the ' +\n",
              "            '<a target=\"_blank\" href=https://colab.research.google.com/notebooks/data_table.ipynb>data table notebook</a>'\n",
              "            + ' to learn more about interactive tables.';\n",
              "          element.innerHTML = '';\n",
              "          dataTable['output_type'] = 'display_data';\n",
              "          await google.colab.output.renderOutput(dataTable, element);\n",
              "          const docLink = document.createElement('div');\n",
              "          docLink.innerHTML = docLinkHtml;\n",
              "          element.appendChild(docLink);\n",
              "        }\n",
              "      </script>\n",
              "    </div>\n",
              "  </div>\n",
              "  "
            ]
          },
          "metadata": {},
          "execution_count": 5
        }
      ],
      "source": [
        "df_train = pd.read_csv(f\"/content/drive/MyDrive/Lab4_Data/train.csv\")\n",
        "df_val = pd.read_csv(f\"/content/drive/MyDrive/Lab4_Data/val.csv\")\n",
        "df_test = pd.read_csv(f\"/content/drive/MyDrive/Lab4_Data/test.csv\")\n",
        "# df_train = df_train[0:5000]\n",
        "# df_val = df_val[0:715]\n",
        "# df_test = df_test[0:1430]\n",
        "\n",
        "\n",
        "print(len(df_train), len(df_val), len(df_test))\n",
        "df_train\n"
      ]
    },
    {
      "cell_type": "code",
      "execution_count": 6,
      "id": "5074c270-ed3e-4e1a-863d-71737c743cb8",
      "metadata": {
        "id": "5074c270-ed3e-4e1a-863d-71737c743cb8",
        "colab": {
          "base_uri": "https://localhost:8080/",
          "height": 113,
          "referenced_widgets": [
            "d0206329becf41259d19812e2478d8c9",
            "f332471536f948b7a2009a5cada8d613",
            "7f322071c0974713af5266d08075ec34",
            "0b730532e1854f8d9ec10e6666a71a2f",
            "c9ae91c6ead842909d4a0e955f37bd0c",
            "eb75f5240f12473ab1c2d21c841555f4",
            "5a717f1a6e2c4ce089dd130efe448952",
            "a88bfa469337483998a3fb5b459a8a6e",
            "aa96db8a8d87490bbfe4bb3ac9fffb42",
            "33dc50d3fc1f494faabe12bbb9fc7b23",
            "bfa69ac810fb4f34bd2c02c9f61d9987",
            "6fb03661c1804e52b35b02410a4452c7",
            "997f47607d164635b52a40cfc647b7c8",
            "1df963908f4a4e96b695edb753d83b62",
            "f83cc555e80f44068d5910c09cb67be7",
            "9de829756f7045e4a664c952ebf8f75b",
            "2fceb1ce30ad46da8080b75ae15e2c0e",
            "b00a6b5e09d740368a5713b8b4efc23d",
            "974b233853854464afbc3b09c08660b8",
            "f791144c5add483a9d6ea35371ac8577",
            "6fa9461c657e4adaa892d402bb8ee1bd",
            "04730b6eb6764d23b0aec12247ee30c0",
            "0bdf4bba653c43f6975df152c91ee335",
            "094dfc34224b46b49d3199ba31292204",
            "7d756b963817450fbcba1c34647140a5",
            "8f6080a74c07413b8958b3b362237958",
            "aa47a99d48bf430bacb6f65afe794744",
            "971a7705089a462ea1a89ee12505c881",
            "060d3cb96a5f4df4896876b9ffa3a227",
            "93b1531b8cf64e23962e952762aa81d8",
            "376d330802f64047a657fc1b0c8078a4",
            "c22291cd08df45048c99e792ce9c1c9b",
            "806ca6773b874f0584f0bec4be433749"
          ]
        },
        "outputId": "a2571ed2-c799-408b-e342-fcf764096ced"
      },
      "outputs": [
        {
          "output_type": "display_data",
          "data": {
            "text/plain": [
              "Downloading (…)solve/main/vocab.txt:   0%|          | 0.00/213k [00:00<?, ?B/s]"
            ],
            "application/vnd.jupyter.widget-view+json": {
              "version_major": 2,
              "version_minor": 0,
              "model_id": "d0206329becf41259d19812e2478d8c9"
            }
          },
          "metadata": {}
        },
        {
          "output_type": "display_data",
          "data": {
            "text/plain": [
              "Downloading (…)okenizer_config.json:   0%|          | 0.00/29.0 [00:00<?, ?B/s]"
            ],
            "application/vnd.jupyter.widget-view+json": {
              "version_major": 2,
              "version_minor": 0,
              "model_id": "6fb03661c1804e52b35b02410a4452c7"
            }
          },
          "metadata": {}
        },
        {
          "output_type": "display_data",
          "data": {
            "text/plain": [
              "Downloading (…)lve/main/config.json:   0%|          | 0.00/570 [00:00<?, ?B/s]"
            ],
            "application/vnd.jupyter.widget-view+json": {
              "version_major": 2,
              "version_minor": 0,
              "model_id": "0bdf4bba653c43f6975df152c91ee335"
            }
          },
          "metadata": {}
        }
      ],
      "source": [
        "tokenizer = BertTokenizer.from_pretrained(\"bert-base-cased\")\n",
        "labels = {\n",
        "    \"negative\" : 0 ,\n",
        "    \"positive\" : 1,\n",
        "}\n",
        "\n",
        "\n",
        "class Dataset(torch.utils.data.TensorDataset):\n",
        "    def __init__(self, df):\n",
        "\n",
        "        self.labels = [labels[label] for label in df[\"sentiment\"]]\n",
        "        # self.labels = []\n",
        "        # for label in df[\"sentiment\"]:\n",
        "        #     self.labels.append(label)\n",
        "        self.texts = [\n",
        "            tokenizer(\n",
        "                text,\n",
        "                padding=\"max_length\",\n",
        "                max_length=512,\n",
        "                truncation=True,\n",
        "                return_tensors=\"pt\",\n",
        "            )\n",
        "            for text in df[\"review\"]\n",
        "        ]\n",
        "\n",
        "    def classes(self):\n",
        "        return self.labels\n",
        "\n",
        "    def __len__(self):\n",
        "        return len(self.labels)\n",
        "\n",
        "    def get_batch_labels(self, idx):\n",
        "        # Fetch a batch of labels\n",
        "        return np.array(self.labels[idx])\n",
        "\n",
        "    def get_batch_texts(self, idx):\n",
        "        # Fetch a batch of inputs\n",
        "        return self.texts[idx]\n",
        "\n",
        "    def __getitem__(self, idx):\n",
        "\n",
        "        batch_texts = self.get_batch_texts(idx)\n",
        "        batch_y = self.get_batch_labels(idx)\n",
        "\n",
        "        return batch_texts, batch_y\n"
      ]
    },
    {
      "cell_type": "code",
      "execution_count": 7,
      "id": "0c8a5d0f-80c3-42b3-9f06-ecfc3a21f395",
      "metadata": {
        "id": "0c8a5d0f-80c3-42b3-9f06-ecfc3a21f395"
      },
      "outputs": [],
      "source": [
        "class BertClassifier(nn.Module):\n",
        "    def __init__(self, dropout=0.5):\n",
        "\n",
        "        super(BertClassifier, self).__init__()\n",
        "        self.bert = BertModel.from_pretrained('bert-base-cased')\n",
        "        self.dropout_bert = nn.Dropout(0.5)\n",
        "        self.dropout = nn.Dropout(0.2)\n",
        "        self.linear1 = nn.Linear(768, 512)\n",
        "        self.batchnorm1 = nn.BatchNorm1d(512)\n",
        "        self.linear2 = nn.Linear(512, 256)\n",
        "        self.batchnorm2 = nn.BatchNorm1d(256)\n",
        "        self.linear3 = nn.Linear(256, 128)\n",
        "        self.linear4 = nn.Linear(128, 64)\n",
        "        self.linear_out = nn.Linear(64, 1)\n",
        "        self.relu1 = nn.ReLU()\n",
        "        self.relu2 = nn.ReLU()\n",
        "        self.relu3 = nn.ReLU()\n",
        "        self.relu4 = nn.ReLU()\n",
        "        self.sigmoid = nn.Sigmoid()\n",
        "\n",
        "    def forward(self, input_id, mask):\n",
        "        _, x = self.bert(input_ids=input_id, attention_mask=mask,return_dict=False)\n",
        "        x = self.dropout_bert(x)\n",
        "        x = self.relu1(self.linear1(x))\n",
        "        x = self.batchnorm1(x)\n",
        "        x = self.dropout(x)\n",
        "        x = self.relu2(self.linear2(x))\n",
        "        x = self.batchnorm2(x)\n",
        "        x = self.dropout(x)\n",
        "        x = self.relu3(self.linear3(x))\n",
        "        x = self.dropout(x)\n",
        "        x = self.relu4(self.linear4(x))\n",
        "        x = self.dropout(x)\n",
        "        x = self.sigmoid(self.linear_out(x))\n",
        "        return x\n"
      ]
    },
    {
      "cell_type": "code",
      "execution_count": null,
      "id": "GtpHS-Zs1V2-",
      "metadata": {
        "id": "GtpHS-Zs1V2-"
      },
      "outputs": [],
      "source": [
        "def save_checkpoint(model, epoch, optimizer, best_acc, model_path):\n",
        "  state = {\n",
        "      'epoch' : epoch + 1,\n",
        "      'model' : model.state_dict(),\n",
        "      'best accuracy' : best_acc,\n",
        "      'optimizer' : optimizer.state_dict()\n",
        "  }\n",
        "  torch.save(state, model_path)"
      ]
    },
    {
      "cell_type": "code",
      "execution_count": 8,
      "id": "YcT8A84qyILR",
      "metadata": {
        "id": "YcT8A84qyILR"
      },
      "outputs": [],
      "source": [
        "batch_size=16   \n",
        "trainn, val, test = Dataset(df_train), Dataset(df_val), Dataset(df_test)"
      ]
    },
    {
      "cell_type": "code",
      "source": [
        "trainn"
      ],
      "metadata": {
        "colab": {
          "base_uri": "https://localhost:8080/"
        },
        "id": "9EfQnvuauO05",
        "outputId": "bbc5cd0b-7180-4b7a-bedc-5cd1902d18fd"
      },
      "id": "9EfQnvuauO05",
      "execution_count": 9,
      "outputs": [
        {
          "output_type": "execute_result",
          "data": {
            "text/plain": [
              "<__main__.Dataset at 0x7ff845306160>"
            ]
          },
          "metadata": {},
          "execution_count": 9
        }
      ]
    },
    {
      "cell_type": "code",
      "source": [
        "train_dataloader = torch.utils.data.DataLoader(trainn, batch_size=batch_size)\n",
        "val_dataloader = torch.utils.data.DataLoader(val, batch_size=batch_size)\n",
        "test_dataloader = torch.utils.data.DataLoader(test, batch_size=batch_size)"
      ],
      "metadata": {
        "id": "1eUTz7L_t_9N"
      },
      "id": "1eUTz7L_t_9N",
      "execution_count": 10,
      "outputs": []
    },
    {
      "cell_type": "code",
      "source": [
        "epoch_list = list()\n",
        "train_loss = list()\n",
        "val_loss = list()\n",
        "train_accuracy = list()\n",
        "val_accuracy = list()\n",
        "\n",
        "config_file = '/content/drive/MyDrive/Lab4_Data/config_1e5.ini'\n",
        "\n",
        "try:\n",
        "    # Load variables from config file\n",
        "    config = configparser.ConfigParser()\n",
        "    config.read(config_file)\n",
        "\n",
        "    epoch_list = ast.literal_eval(config['VARIABLES']['epoch_list'])\n",
        "    train_loss = ast.literal_eval(config['VARIABLES']['train_loss'])\n",
        "    val_loss = ast.literal_eval(config['VARIABLES']['val_loss'])\n",
        "    train_accuracy = ast.literal_eval(config['VARIABLES']['train_accuracy'])\n",
        "    val_accuracy = ast.literal_eval(config['VARIABLES']['val_accuracy'])\n",
        "\n",
        "    print(epoch_list)\n",
        "    print(train_loss)\n",
        "    print(val_loss)\n",
        "    print(train_accuracy)\n",
        "    print(val_accuracy)\n",
        "\n",
        "except:\n",
        "    print(f\"Error while reading config file {config_file}\")\n",
        "    # Save variables to config file\n",
        "    config = configparser.ConfigParser()\n",
        "    config['VARIABLES'] = {'epoch_list': '[]',\n",
        "                          'train_loss': '[]',\n",
        "                          'val_loss': '[]',\n",
        "                           'train_accuracy': '[]',\n",
        "                           'val_accuracy': '[]'}\n",
        "\n",
        "    with open(config_file, 'w') as configfile:\n",
        "        config.write(configfile)"
      ],
      "metadata": {
        "colab": {
          "base_uri": "https://localhost:8080/"
        },
        "id": "OeuK8TSSDLq0",
        "outputId": "59334ba1-2589-4979-b7c6-4d2443df5cc7"
      },
      "id": "OeuK8TSSDLq0",
      "execution_count": 11,
      "outputs": [
        {
          "output_type": "stream",
          "name": "stdout",
          "text": [
            "[1, 2, 3, 4, 5, 6, 7, 8]\n",
            "[0.03374232732419457, 0.012773873225280216, 0.007660905443424625, 0.005204867407739428, 0.003827765996764148, 0.0030558937684300224, 0.0025699216664469404, 0.002175649199925829]\n",
            "[0.014110318225622177, 0.01308175224289298, 0.015856369576789438, 0.01482694141222164, 0.019017701262864284, 0.018247333890688607, 0.01740838632930536, 0.018275574700313154]\n",
            "[0.7026571428571429, 0.9273142857142858, 0.9614, 0.9775428571428572, 0.9840571428571429, 0.9878, 0.9901714285714286, 0.9916285714285714]\n",
            "[0.9164, 0.924, 0.9216, 0.9338, 0.9336, 0.9354, 0.9352, 0.9308]\n"
          ]
        }
      ]
    },
    {
      "cell_type": "code",
      "source": [
        "def plot_all():\n",
        "    plt.figure(figsize = [18, 5])\n",
        "    plt.suptitle(\"Loss and Accuracy in training\")\n",
        "    plt.subplot(1,2,1)\n",
        "    plt.plot(epoch_list,train_loss);\n",
        "    plt.plot(epoch_list,val_loss);\n",
        "    plt.xlabel(\"Epochs\")\n",
        "    plt.ylabel(\"Loss\")\n",
        "    plt.legend([\"Train\",\"Validation\"])\n",
        "    plt.subplot(1,2,2)\n",
        "    plt.plot(epoch_list,train_accuracy);\n",
        "    plt.plot(epoch_list,val_accuracy);\n",
        "    plt.xlabel(\"Epochs\");\n",
        "    plt.ylabel(\"Accuracy\")\n",
        "    plt.legend([\"Train\",\"Validation\"]);\n",
        "    plt.show()\n",
        "    "
      ],
      "metadata": {
        "id": "ioh2iL4mTiKB"
      },
      "id": "ioh2iL4mTiKB",
      "execution_count": 12,
      "outputs": []
    },
    {
      "cell_type": "code",
      "execution_count": null,
      "id": "9SF4UTQtSmUg",
      "metadata": {
        "id": "9SF4UTQtSmUg"
      },
      "outputs": [],
      "source": [
        "def train(model,train_data, val_data, train_dataloader, val_dataloader, learning_rate, epochs, bach_size, best_model_path, last_model_path,start_from_epoch = 0):                    \n",
        "    # Early stopping\n",
        "    val_avg_acc_best = 0.92588\n",
        "    try:\n",
        "      val_acc_best = max(val_accuracy)\n",
        "    except:\n",
        "      val_acc_best = -1000\n",
        "      print(\"empty\")\n",
        "\n",
        "    print(\"Val_best_acc = \", val_acc_best)\n",
        "    early_stop_items_num = 5\n",
        "\n",
        "    \n",
        "    device = torch.device(\"cuda\")\n",
        "\n",
        "    criterion = nn.BCELoss()\n",
        "    optimizer = Adam(model.parameters(), lr= learning_rate)\n",
        "    model = model.cuda()\n",
        "    criterion = criterion.cuda()\n",
        "\n",
        "    try:\n",
        "      print(\"Check saved model\")\n",
        "      loaded_checkpoint = torch.load(last_model_path)\n",
        "      model.load_state_dict(loaded_checkpoint[\"model\"])\n",
        "      optimizer.load_state_dict(loaded_checkpoint[\"optimizer\"])\n",
        "      print(\"Loaded saved model\")\n",
        "    except:\n",
        "      print(\"No saved models\")\n",
        "\n",
        "    for epoch_num in range(start_from_epoch,epochs):\n",
        "            gc.collect()\n",
        "\n",
        "            model.train()\n",
        "            total_acc_train = 0\n",
        "            total_loss_train = 0\n",
        "\n",
        "            for train_input, train_label in tqdm(train_dataloader):\n",
        "                gc.collect()\n",
        "                train_label = train_label.to(device)\n",
        "                mask = train_input['attention_mask'].to(device)\n",
        "                input_id = train_input['input_ids'].squeeze(1).to(device)\n",
        "                output = model(input_id, mask)\n",
        "\n",
        "                batch_loss = criterion(output.squeeze(1), train_label.float())\n",
        "                total_loss_train += batch_loss.item()\n",
        "\n",
        "                y_pred_tag = torch.round(output.squeeze(1))\n",
        "                acc = (y_pred_tag == train_label).sum()\n",
        "\n",
        "                total_acc_train += acc\n",
        "\n",
        "                model.zero_grad()\n",
        "                batch_loss.backward()\n",
        "                optimizer.step()\n",
        "            \n",
        "            total_acc_val = 0\n",
        "            total_loss_val = 0\n",
        "            model.eval()\n",
        "            with torch.no_grad():\n",
        "\n",
        "                for val_input, val_label in val_dataloader:\n",
        "                    gc.collect()\n",
        "                    # torch.cuda.empty_cache()\n",
        "\n",
        "                    val_label = val_label.to(device)\n",
        "                    mask = val_input['attention_mask'].to(device)\n",
        "                    input_id = val_input['input_ids'].squeeze(1).to(device)\n",
        "\n",
        "                    output = model(input_id, mask)\n",
        "\n",
        "                    batch_loss = criterion(output.squeeze(1), val_label.float())\n",
        "                    total_loss_val += batch_loss.item()\n",
        "                    \n",
        "                    y_pred_tag = torch.round(output.squeeze(1))\n",
        "                    acc = (y_pred_tag == val_label).sum()\n",
        "                    total_acc_val += acc\n",
        "            \n",
        "            train_loss.append(total_loss_train / len(train_data))\n",
        "            train_accuracy.append(total_acc_train.item() / len(train_data))\n",
        "            val_loss.append(total_loss_val / len(val_data))\n",
        "            val_accuracy.append(total_acc_val.item() / len(val_data))\n",
        "            epoch_list.append(epoch_num+1)\n",
        "            val_acc_new = total_acc_val / len(val_data)\n",
        "            \n",
        "            \n",
        "            \n",
        "            print(\n",
        "                f'Epochs: {epoch_num + 1} | Train Loss: {total_loss_train / len(train_data): .3f} \\\n",
        "                | Train Accuracy: {total_acc_train / len(train_data): .3f} \\\n",
        "                | Val Loss: {total_loss_val / len(val_data): .3f} \\\n",
        "                | Val Accuracy: {total_acc_val / len(val_data): .3f}')\n",
        "            \n",
        "            \n",
        "            if val_acc_new > val_acc_best:\n",
        "              val_acc_best = val_acc_new\n",
        "              save_checkpoint(model, epoch_num, optimizer, val_acc_best, best_model_path)\n",
        "\n",
        "            save_checkpoint(model, epoch_num, optimizer, val_acc_new, last_model_path)\n",
        "            \n",
        "            current_avg_acc = sum(val_accuracy[-early_stop_items_num:])/early_stop_items_num\n",
        "            val_avg_acc_best = max(val_avg_acc_best, current_avg_acc)\n",
        "            if epoch_num == start_from_epoch:\n",
        "              old_avg_acc = current_avg_acc\n",
        "              \n",
        "            print(\"Val_accuracy = \", val_accuracy)\n",
        "            print(\"Val_accuracy = \", val_accuracy[-early_stop_items_num:])\n",
        "            print(\"current_avg_acc = \", current_avg_acc)\n",
        "            print(\"val_avg_acc_best = \", val_avg_acc_best)\n",
        "            print(\"Difference = \", (val_avg_acc_best - current_avg_acc))\n",
        "            print(\"*************************************************************************************************************\\n\")\n",
        "\n",
        "            \n",
        "            the_current_loss = total_loss_val / len(val_data)\n",
        "            the_last_loss = the_current_loss\n",
        "            config.update({'VARIABLES':{\n",
        "                            'train_loss':train_loss,\n",
        "                            'val_loss':val_loss,\n",
        "                            'train_accuracy':train_accuracy,\n",
        "                            'val_accuracy':val_accuracy,\n",
        "                            'epoch_list':epoch_list}})\n",
        "            with open(config_file, 'w') as configfile:\n",
        "                config.write(configfile)\n",
        "\n",
        "            # Early stopping\n",
        "            if len(val_accuracy) >= early_stop_items_num and (((val_avg_acc_best - current_avg_acc) >= 0.04) or ((epoch_num - start_from_epoch) >=2 and abs(old_avg_acc - current_avg_acc) <= 0.02)):\n",
        "                print(\"Early stopping at epoch:\", epoch_num+1)\n",
        "                break      "
      ]
    },
    {
      "cell_type": "code",
      "execution_count": null,
      "id": "ve3kDq-tS0Dk",
      "metadata": {
        "colab": {
          "base_uri": "https://localhost:8080/",
          "height": 998
        },
        "id": "ve3kDq-tS0Dk",
        "outputId": "340b42a8-89b6-483f-eb85-43cc3c9113f1"
      },
      "outputs": [
        {
          "output_type": "stream",
          "name": "stderr",
          "text": [
            "Some weights of the model checkpoint at bert-base-cased were not used when initializing BertModel: ['cls.predictions.transform.LayerNorm.bias', 'cls.predictions.transform.LayerNorm.weight', 'cls.predictions.transform.dense.bias', 'cls.seq_relationship.weight', 'cls.predictions.transform.dense.weight', 'cls.predictions.bias', 'cls.seq_relationship.bias', 'cls.predictions.decoder.weight']\n",
            "- This IS expected if you are initializing BertModel from the checkpoint of a model trained on another task or with another architecture (e.g. initializing a BertForSequenceClassification model from a BertForPreTraining model).\n",
            "- This IS NOT expected if you are initializing BertModel from the checkpoint of a model that you expect to be exactly identical (initializing a BertForSequenceClassification model from a BertForSequenceClassification model).\n"
          ]
        },
        {
          "output_type": "stream",
          "name": "stdout",
          "text": [
            "Start epoch =  5\n",
            "Val_best_acc =  0.9338\n",
            "Check saved model\n",
            "Loaded saved model\n"
          ]
        },
        {
          "output_type": "stream",
          "name": "stderr",
          "text": [
            "100%|██████████| 2188/2188 [59:36<00:00,  1.63s/it]\n"
          ]
        },
        {
          "output_type": "stream",
          "name": "stdout",
          "text": [
            "Epochs: 6 | Train Loss:  0.003                 | Train Accuracy:  0.988                 | Val Loss:  0.018                 | Val Accuracy:  0.935\n",
            "Val_accuracy =  [0.9164, 0.924, 0.9216, 0.9338, 0.9336, 0.9354]\n",
            "Val_accuracy =  [0.924, 0.9216, 0.9338, 0.9336, 0.9354]\n",
            "current_avg_acc =  0.9296800000000001\n",
            "val_avg_acc_best =  0.9296800000000001\n",
            "Difference =  0.0\n",
            "*************************************************************************************************************\n",
            "\n"
          ]
        },
        {
          "output_type": "stream",
          "name": "stderr",
          "text": [
            "100%|██████████| 2188/2188 [59:24<00:00,  1.63s/it]\n"
          ]
        },
        {
          "output_type": "stream",
          "name": "stdout",
          "text": [
            "Epochs: 7 | Train Loss:  0.003                 | Train Accuracy:  0.990                 | Val Loss:  0.017                 | Val Accuracy:  0.935\n",
            "Val_accuracy =  [0.9164, 0.924, 0.9216, 0.9338, 0.9336, 0.9354, 0.9352]\n",
            "Val_accuracy =  [0.9216, 0.9338, 0.9336, 0.9354, 0.9352]\n",
            "current_avg_acc =  0.9319199999999999\n",
            "val_avg_acc_best =  0.9319199999999999\n",
            "Difference =  0.0\n",
            "*************************************************************************************************************\n",
            "\n"
          ]
        },
        {
          "output_type": "stream",
          "name": "stderr",
          "text": [
            "100%|██████████| 2188/2188 [59:27<00:00,  1.63s/it]\n"
          ]
        },
        {
          "output_type": "stream",
          "name": "stdout",
          "text": [
            "Epochs: 8 | Train Loss:  0.002                 | Train Accuracy:  0.992                 | Val Loss:  0.018                 | Val Accuracy:  0.931\n",
            "Val_accuracy =  [0.9164, 0.924, 0.9216, 0.9338, 0.9336, 0.9354, 0.9352, 0.9308]\n",
            "Val_accuracy =  [0.9338, 0.9336, 0.9354, 0.9352, 0.9308]\n",
            "current_avg_acc =  0.93376\n",
            "val_avg_acc_best =  0.93376\n",
            "Difference =  0.0\n",
            "*************************************************************************************************************\n",
            "\n",
            "Early stopping at epoch: 8\n"
          ]
        },
        {
          "output_type": "display_data",
          "data": {
            "text/plain": [
              "<Figure size 1296x360 with 2 Axes>"
            ],
            "image/png": "[encoded data removed]"
          },
          "metadata": {
            "needs_background": "light"
          }
        }
      ],
      "source": [
        "EPOCHS = 10000\n",
        "LR = 1e-5\n",
        "\n",
        "model = BertClassifier()\n",
        "\n",
        "\n",
        "\n",
        "best_model_path = f\"/content/drive/MyDrive/Lab4_Data/model_best.pth.tar\"\n",
        "last_model_path = f\"/content/drive/MyDrive/Lab4_Data/model_last.pth.tar\"\n",
        "gc.collect()\n",
        "\n",
        "epoch_num = 0\n",
        "\n",
        "if len(epoch_list) != 0:\n",
        "  epoch_num = epoch_list[-1]\n",
        "print(\"Start epoch = \",epoch_num)\n",
        "train(model,df_train, df_val, train_dataloader, val_dataloader, LR, EPOCHS,batch_size, best_model_path, last_model_path,start_from_epoch = epoch_num)\n",
        "plot_all()"
      ]
    },
    {
      "cell_type": "code",
      "source": [
        "print(train_loss)\n",
        "print(train_accuracy)\n",
        "print(val_loss)\n",
        "print(val_accuracy)\n",
        "\n",
        "print(epoch_list)"
      ],
      "metadata": {
        "id": "IUBkAaY41wsC",
        "colab": {
          "base_uri": "https://localhost:8080/"
        },
        "outputId": "76d9f523-a9b5-4d4e-9f79-b3ea7f7efe82"
      },
      "id": "IUBkAaY41wsC",
      "execution_count": 13,
      "outputs": [
        {
          "output_type": "stream",
          "name": "stdout",
          "text": [
            "[0.03374232732419457, 0.012773873225280216, 0.007660905443424625, 0.005204867407739428, 0.003827765996764148, 0.0030558937684300224, 0.0025699216664469404, 0.002175649199925829]\n",
            "[0.7026571428571429, 0.9273142857142858, 0.9614, 0.9775428571428572, 0.9840571428571429, 0.9878, 0.9901714285714286, 0.9916285714285714]\n",
            "[0.014110318225622177, 0.01308175224289298, 0.015856369576789438, 0.01482694141222164, 0.019017701262864284, 0.018247333890688607, 0.01740838632930536, 0.018275574700313154]\n",
            "[0.9164, 0.924, 0.9216, 0.9338, 0.9336, 0.9354, 0.9352, 0.9308]\n",
            "[1, 2, 3, 4, 5, 6, 7, 8]\n"
          ]
        }
      ]
    },
    {
      "cell_type": "code",
      "execution_count": 14,
      "id": "jn_h6v_DU158",
      "metadata": {
        "id": "jn_h6v_DU158"
      },
      "outputs": [],
      "source": [
        "from sklearn.metrics import confusion_matrix\n",
        "\n",
        "def evaluate(model, test_data, test_dataloader):\n",
        "\n",
        "    use_cuda = torch.cuda.is_available()\n",
        "    device = torch.device(\"cuda\" if use_cuda else \"cpu\")\n",
        "    final_confusion_matrix = np.zeros([2,2])\n",
        "\n",
        "    if use_cuda:\n",
        "\n",
        "        model = model.cuda()\n",
        "\n",
        "    total_acc_test = 0\n",
        "    model.eval()\n",
        "    with torch.no_grad():\n",
        "\n",
        "        for test_input, test_label in tqdm(test_dataloader):\n",
        "              test_label = test_label.to(device)\n",
        "              mask = test_input['attention_mask'].to(device)\n",
        "              input_id = test_input['input_ids'].squeeze(1).to(device)\n",
        "              output = model(input_id, mask)\n",
        "              y_pred_tag = torch.round(output.squeeze(1))\n",
        "              # print(y_pred_tag)\n",
        "              acc = (y_pred_tag == test_label).sum()\n",
        "              total_acc_test += acc\n",
        "              final_confusion_matrix += confusion_matrix(test_label.cpu().data.numpy(), y_pred_tag.cpu().data.numpy())\n",
        "    \n",
        "    TP = final_confusion_matrix[0][0]\n",
        "    FP = final_confusion_matrix[0][1]\n",
        "    FN = final_confusion_matrix[1][0]\n",
        "    TN = final_confusion_matrix[1][1]\n",
        "    Percision = TP/(TP+FP)\n",
        "    Recall = TP/(TP+FN)\n",
        "    print(f'\\nTest Accuracy: {total_acc_test / len(test_data): .3f}')\n",
        "    print(f'Percision : {Percision}')\n",
        "    print(f'Sensitivity (Recall) : {Recall}')\n",
        "    print(f'Specifity : {TN/(TN+FP)}')\n",
        "    print(f'F1 Score = {((2*Percision*Recall)/(Percision+Recall))}')\n",
        "    print('Confusion Matrix :')\n",
        "    print(final_confusion_matrix)\n",
        "    \n",
        "    return final_confusion_matrix\n",
        "\n"
      ]
    },
    {
      "cell_type": "code",
      "execution_count": 15,
      "id": "KXNwjO4L60M4",
      "metadata": {
        "id": "KXNwjO4L60M4",
        "colab": {
          "base_uri": "https://localhost:8080/",
          "height": 138,
          "referenced_widgets": [
            "61164d9db7ac4cc491ff1d41f70c15b8",
            "5f1a66f65b234dd49a25fcb03d483d98",
            "7231546d5f824c9f807bada736f6327b",
            "562c8469695e4773b97af033afeb9642",
            "9d591571fead4b1ba4e830d3b744fd49",
            "140ccbf91d194ed195e4ce371bde7f06",
            "0a98322574f44c0ca3c63dee23d66c4b",
            "31af60893c904ba1a84eae42b8322acf",
            "0aaf43bc267646b4b535f547d33084c2",
            "6b218a608241417eb5138ebb48c0de8b",
            "78a9b995e5514b449bc3fa5229bfc3c4"
          ]
        },
        "outputId": "1c4e32fe-ba0e-490c-93cc-63f04c3db2b2"
      },
      "outputs": [
        {
          "output_type": "display_data",
          "data": {
            "text/plain": [
              "Downloading (…)\"pytorch_model.bin\";:   0%|          | 0.00/436M [00:00<?, ?B/s]"
            ],
            "application/vnd.jupyter.widget-view+json": {
              "version_major": 2,
              "version_minor": 0,
              "model_id": "61164d9db7ac4cc491ff1d41f70c15b8"
            }
          },
          "metadata": {}
        },
        {
          "output_type": "stream",
          "name": "stderr",
          "text": [
            "Some weights of the model checkpoint at bert-base-cased were not used when initializing BertModel: ['cls.predictions.decoder.weight', 'cls.predictions.transform.LayerNorm.bias', 'cls.seq_relationship.weight', 'cls.seq_relationship.bias', 'cls.predictions.transform.dense.bias', 'cls.predictions.transform.LayerNorm.weight', 'cls.predictions.bias', 'cls.predictions.transform.dense.weight']\n",
            "- This IS expected if you are initializing BertModel from the checkpoint of a model trained on another task or with another architecture (e.g. initializing a BertForSequenceClassification model from a BertForPreTraining model).\n",
            "- This IS NOT expected if you are initializing BertModel from the checkpoint of a model that you expect to be exactly identical (initializing a BertForSequenceClassification model from a BertForSequenceClassification model).\n"
          ]
        },
        {
          "output_type": "stream",
          "name": "stdout",
          "text": [
            "Epoch num of best model =  6\n"
          ]
        }
      ],
      "source": [
        "best_model_path = f\"/content/drive/MyDrive/Lab4_Data/model_best.pth.tar\"\n",
        "loaded_checkpoint = torch.load(best_model_path)\n",
        "model = BertClassifier()\n",
        "model.load_state_dict(loaded_checkpoint[\"model\"])\n",
        "print(\"Epoch num of best model = \",loaded_checkpoint[\"epoch\"])"
      ]
    },
    {
      "cell_type": "code",
      "source": [
        "final_confusion_matrix = evaluate(model, df_test, test_dataloader)"
      ],
      "metadata": {
        "id": "LbcWzQOlZ6_O",
        "colab": {
          "base_uri": "https://localhost:8080/"
        },
        "outputId": "c1daab22-f2e7-4e0b-fac9-319371a1f1dc"
      },
      "id": "LbcWzQOlZ6_O",
      "execution_count": 16,
      "outputs": [
        {
          "output_type": "stream",
          "name": "stderr",
          "text": [
            "100%|██████████| 625/625 [05:54<00:00,  1.76it/s]"
          ]
        },
        {
          "output_type": "stream",
          "name": "stdout",
          "text": [
            "\n",
            "Test Accuracy:  0.932\n",
            "Percision : 0.9376\n",
            "Sensitivity (Recall) : 0.9266653488831785\n",
            "Specifity : 0.9368548876745598\n",
            "F1 Score = 0.9321006064221096\n",
            "Confusion Matrix :\n",
            "[[4688.  312.]\n",
            " [ 371. 4629.]]\n"
          ]
        },
        {
          "output_type": "stream",
          "name": "stderr",
          "text": [
            "\n"
          ]
        }
      ]
    },
    {
      "cell_type": "code",
      "source": [
        "plot_all()"
      ],
      "metadata": {
        "colab": {
          "base_uri": "https://localhost:8080/",
          "height": 370
        },
        "id": "hEqAPLaOScno",
        "outputId": "558f0b3d-0e84-4d98-c4ae-6d491b9e7b42"
      },
      "id": "hEqAPLaOScno",
      "execution_count": 17,
      "outputs": [
        {
          "output_type": "display_data",
          "data": {
            "text/plain": [
              "<Figure size 1296x360 with 2 Axes>"
            ],
            "image/png": "[encoded data removed]"
          },
          "metadata": {
            "needs_background": "light"
          }
        }
      ]
    }
  ],
  "metadata": {
    "colab": {
      "provenance": []
    },
    "gpuClass": "standard",
    "kernelspec": {
      "display_name": "Python 3 (ipykernel)",
      "language": "python",
      "name": "python3"
    },
    "language_info": {
      "codemirror_mode": {
        "name": "ipython",
        "version": 3
      },
      "file_extension": ".py",
      "mimetype": "text/x-python",
      "name": "python",
      "nbconvert_exporter": "python",
      "pygments_lexer": "ipython3",
      "version": "3.8.10"
    },
    "vscode": {
      "interpreter": {
        "hash": "767d51c1340bd893661ea55ea3124f6de3c7a262a8b4abca0554b478b1e2ff90"
      }
    },
    "accelerator": "GPU",
    "widgets": {
      "application/vnd.jupyter.widget-state+json": {
        "d0206329becf41259d19812e2478d8c9": {
          "model_module": "@jupyter-widgets/controls",
          "model_name": "HBoxModel",
          "model_module_version": "1.5.0",
          "state": {
            "_dom_classes": [],
            "_model_module": "@jupyter-widgets/controls",
            "_model_module_version": "1.5.0",
            "_model_name": "HBoxModel",
            "_view_count": null,
            "_view_module": "@jupyter-widgets/controls",
            "_view_module_version": "1.5.0",
            "_view_name": "HBoxView",
            "box_style": "",
            "children": [
              "IPY_MODEL_f332471536f948b7a2009a5cada8d613",
              "IPY_MODEL_7f322071c0974713af5266d08075ec34",
              "IPY_MODEL_0b730532e1854f8d9ec10e6666a71a2f"
            ],
            "layout": "IPY_MODEL_c9ae91c6ead842909d4a0e955f37bd0c"
          }
        },
        "f332471536f948b7a2009a5cada8d613": {
          "model_module": "@jupyter-widgets/controls",
          "model_name": "HTMLModel",
          "model_module_version": "1.5.0",
          "state": {
            "_dom_classes": [],
            "_model_module": "@jupyter-widgets/controls",
            "_model_module_version": "1.5.0",
            "_model_name": "HTMLModel",
            "_view_count": null,
            "_view_module": "@jupyter-widgets/controls",
            "_view_module_version": "1.5.0",
            "_view_name": "HTMLView",
            "description": "",
            "description_tooltip": null,
            "layout": "IPY_MODEL_eb75f5240f12473ab1c2d21c841555f4",
            "placeholder": "​",
            "style": "IPY_MODEL_5a717f1a6e2c4ce089dd130efe448952",
            "value": "Downloading (…)solve/main/vocab.txt: 100%"
          }
        },
        "7f322071c0974713af5266d08075ec34": {
          "model_module": "@jupyter-widgets/controls",
          "model_name": "FloatProgressModel",
          "model_module_version": "1.5.0",
          "state": {
            "_dom_classes": [],
            "_model_module": "@jupyter-widgets/controls",
            "_model_module_version": "1.5.0",
            "_model_name": "FloatProgressModel",
            "_view_count": null,
            "_view_module": "@jupyter-widgets/controls",
            "_view_module_version": "1.5.0",
            "_view_name": "ProgressView",
            "bar_style": "success",
            "description": "",
            "description_tooltip": null,
            "layout": "IPY_MODEL_a88bfa469337483998a3fb5b459a8a6e",
            "max": 213450,
            "min": 0,
            "orientation": "horizontal",
            "style": "IPY_MODEL_aa96db8a8d87490bbfe4bb3ac9fffb42",
            "value": 213450
          }
        },
        "0b730532e1854f8d9ec10e6666a71a2f": {
          "model_module": "@jupyter-widgets/controls",
          "model_name": "HTMLModel",
          "model_module_version": "1.5.0",
          "state": {
            "_dom_classes": [],
            "_model_module": "@jupyter-widgets/controls",
            "_model_module_version": "1.5.0",
            "_model_name": "HTMLModel",
            "_view_count": null,
            "_view_module": "@jupyter-widgets/controls",
            "_view_module_version": "1.5.0",
            "_view_name": "HTMLView",
            "description": "",
            "description_tooltip": null,
            "layout": "IPY_MODEL_33dc50d3fc1f494faabe12bbb9fc7b23",
            "placeholder": "​",
            "style": "IPY_MODEL_bfa69ac810fb4f34bd2c02c9f61d9987",
            "value": " 213k/213k [00:01&lt;00:00, 203kB/s]"
          }
        },
        "c9ae91c6ead842909d4a0e955f37bd0c": {
          "model_module": "@jupyter-widgets/base",
          "model_name": "LayoutModel",
          "model_module_version": "1.2.0",
          "state": {
            "_model_module": "@jupyter-widgets/base",
            "_model_module_version": "1.2.0",
            "_model_name": "LayoutModel",
            "_view_count": null,
            "_view_module": "@jupyter-widgets/base",
            "_view_module_version": "1.2.0",
            "_view_name": "LayoutView",
            "align_content": null,
            "align_items": null,
            "align_self": null,
            "border": null,
            "bottom": null,
            "display": null,
            "flex": null,
            "flex_flow": null,
            "grid_area": null,
            "grid_auto_columns": null,
            "grid_auto_flow": null,
            "grid_auto_rows": null,
            "grid_column": null,
            "grid_gap": null,
            "grid_row": null,
            "grid_template_areas": null,
            "grid_template_columns": null,
            "grid_template_rows": null,
            "height": null,
            "justify_content": null,
            "justify_items": null,
            "left": null,
            "margin": null,
            "max_height": null,
            "max_width": null,
            "min_height": null,
            "min_width": null,
            "object_fit": null,
            "object_position": null,
            "order": null,
            "overflow": null,
            "overflow_x": null,
            "overflow_y": null,
            "padding": null,
            "right": null,
            "top": null,
            "visibility": null,
            "width": null
          }
        },
        "eb75f5240f12473ab1c2d21c841555f4": {
          "model_module": "@jupyter-widgets/base",
          "model_name": "LayoutModel",
          "model_module_version": "1.2.0",
          "state": {
            "_model_module": "@jupyter-widgets/base",
            "_model_module_version": "1.2.0",
            "_model_name": "LayoutModel",
            "_view_count": null,
            "_view_module": "@jupyter-widgets/base",
            "_view_module_version": "1.2.0",
            "_view_name": "LayoutView",
            "align_content": null,
            "align_items": null,
            "align_self": null,
            "border": null,
            "bottom": null,
            "display": null,
            "flex": null,
            "flex_flow": null,
            "grid_area": null,
            "grid_auto_columns": null,
            "grid_auto_flow": null,
            "grid_auto_rows": null,
            "grid_column": null,
            "grid_gap": null,
            "grid_row": null,
            "grid_template_areas": null,
            "grid_template_columns": null,
            "grid_template_rows": null,
            "height": null,
            "justify_content": null,
            "justify_items": null,
            "left": null,
            "margin": null,
            "max_height": null,
            "max_width": null,
            "min_height": null,
            "min_width": null,
            "object_fit": null,
            "object_position": null,
            "order": null,
            "overflow": null,
            "overflow_x": null,
            "overflow_y": null,
            "padding": null,
            "right": null,
            "top": null,
            "visibility": null,
            "width": null
          }
        },
        "5a717f1a6e2c4ce089dd130efe448952": {
          "model_module": "@jupyter-widgets/controls",
          "model_name": "DescriptionStyleModel",
          "model_module_version": "1.5.0",
          "state": {
            "_model_module": "@jupyter-widgets/controls",
            "_model_module_version": "1.5.0",
            "_model_name": "DescriptionStyleModel",
            "_view_count": null,
            "_view_module": "@jupyter-widgets/base",
            "_view_module_version": "1.2.0",
            "_view_name": "StyleView",
            "description_width": ""
          }
        },
        "a88bfa469337483998a3fb5b459a8a6e": {
          "model_module": "@jupyter-widgets/base",
          "model_name": "LayoutModel",
          "model_module_version": "1.2.0",
          "state": {
            "_model_module": "@jupyter-widgets/base",
            "_model_module_version": "1.2.0",
            "_model_name": "LayoutModel",
            "_view_count": null,
            "_view_module": "@jupyter-widgets/base",
            "_view_module_version": "1.2.0",
            "_view_name": "LayoutView",
            "align_content": null,
            "align_items": null,
            "align_self": null,
            "border": null,
            "bottom": null,
            "display": null,
            "flex": null,
            "flex_flow": null,
            "grid_area": null,
            "grid_auto_columns": null,
            "grid_auto_flow": null,
            "grid_auto_rows": null,
            "grid_column": null,
            "grid_gap": null,
            "grid_row": null,
            "grid_template_areas": null,
            "grid_template_columns": null,
            "grid_template_rows": null,
            "height": null,
            "justify_content": null,
            "justify_items": null,
            "left": null,
            "margin": null,
            "max_height": null,
            "max_width": null,
            "min_height": null,
            "min_width": null,
            "object_fit": null,
            "object_position": null,
            "order": null,
            "overflow": null,
            "overflow_x": null,
            "overflow_y": null,
            "padding": null,
            "right": null,
            "top": null,
            "visibility": null,
            "width": null
          }
        },
        "aa96db8a8d87490bbfe4bb3ac9fffb42": {
          "model_module": "@jupyter-widgets/controls",
          "model_name": "ProgressStyleModel",
          "model_module_version": "1.5.0",
          "state": {
            "_model_module": "@jupyter-widgets/controls",
            "_model_module_version": "1.5.0",
            "_model_name": "ProgressStyleModel",
            "_view_count": null,
            "_view_module": "@jupyter-widgets/base",
            "_view_module_version": "1.2.0",
            "_view_name": "StyleView",
            "bar_color": null,
            "description_width": ""
          }
        },
        "33dc50d3fc1f494faabe12bbb9fc7b23": {
          "model_module": "@jupyter-widgets/base",
          "model_name": "LayoutModel",
          "model_module_version": "1.2.0",
          "state": {
            "_model_module": "@jupyter-widgets/base",
            "_model_module_version": "1.2.0",
            "_model_name": "LayoutModel",
            "_view_count": null,
            "_view_module": "@jupyter-widgets/base",
            "_view_module_version": "1.2.0",
            "_view_name": "LayoutView",
            "align_content": null,
            "align_items": null,
            "align_self": null,
            "border": null,
            "bottom": null,
            "display": null,
            "flex": null,
            "flex_flow": null,
            "grid_area": null,
            "grid_auto_columns": null,
            "grid_auto_flow": null,
            "grid_auto_rows": null,
            "grid_column": null,
            "grid_gap": null,
            "grid_row": null,
            "grid_template_areas": null,
            "grid_template_columns": null,
            "grid_template_rows": null,
            "height": null,
            "justify_content": null,
            "justify_items": null,
            "left": null,
            "margin": null,
            "max_height": null,
            "max_width": null,
            "min_height": null,
            "min_width": null,
            "object_fit": null,
            "object_position": null,
            "order": null,
            "overflow": null,
            "overflow_x": null,
            "overflow_y": null,
            "padding": null,
            "right": null,
            "top": null,
            "visibility": null,
            "width": null
          }
        },
        "bfa69ac810fb4f34bd2c02c9f61d9987": {
          "model_module": "@jupyter-widgets/controls",
          "model_name": "DescriptionStyleModel",
          "model_module_version": "1.5.0",
          "state": {
            "_model_module": "@jupyter-widgets/controls",
            "_model_module_version": "1.5.0",
            "_model_name": "DescriptionStyleModel",
            "_view_count": null,
            "_view_module": "@jupyter-widgets/base",
            "_view_module_version": "1.2.0",
            "_view_name": "StyleView",
            "description_width": ""
          }
        },
        "6fb03661c1804e52b35b02410a4452c7": {
          "model_module": "@jupyter-widgets/controls",
          "model_name": "HBoxModel",
          "model_module_version": "1.5.0",
          "state": {
            "_dom_classes": [],
            "_model_module": "@jupyter-widgets/controls",
            "_model_module_version": "1.5.0",
            "_model_name": "HBoxModel",
            "_view_count": null,
            "_view_module": "@jupyter-widgets/controls",
            "_view_module_version": "1.5.0",
            "_view_name": "HBoxView",
            "box_style": "",
            "children": [
              "IPY_MODEL_997f47607d164635b52a40cfc647b7c8",
              "IPY_MODEL_1df963908f4a4e96b695edb753d83b62",
              "IPY_MODEL_f83cc555e80f44068d5910c09cb67be7"
            ],
            "layout": "IPY_MODEL_9de829756f7045e4a664c952ebf8f75b"
          }
        },
        "997f47607d164635b52a40cfc647b7c8": {
          "model_module": "@jupyter-widgets/controls",
          "model_name": "HTMLModel",
          "model_module_version": "1.5.0",
          "state": {
            "_dom_classes": [],
            "_model_module": "@jupyter-widgets/controls",
            "_model_module_version": "1.5.0",
            "_model_name": "HTMLModel",
            "_view_count": null,
            "_view_module": "@jupyter-widgets/controls",
            "_view_module_version": "1.5.0",
            "_view_name": "HTMLView",
            "description": "",
            "description_tooltip": null,
            "layout": "IPY_MODEL_2fceb1ce30ad46da8080b75ae15e2c0e",
            "placeholder": "​",
            "style": "IPY_MODEL_b00a6b5e09d740368a5713b8b4efc23d",
            "value": "Downloading (…)okenizer_config.json: 100%"
          }
        },
        "1df963908f4a4e96b695edb753d83b62": {
          "model_module": "@jupyter-widgets/controls",
          "model_name": "FloatProgressModel",
          "model_module_version": "1.5.0",
          "state": {
            "_dom_classes": [],
            "_model_module": "@jupyter-widgets/controls",
            "_model_module_version": "1.5.0",
            "_model_name": "FloatProgressModel",
            "_view_count": null,
            "_view_module": "@jupyter-widgets/controls",
            "_view_module_version": "1.5.0",
            "_view_name": "ProgressView",
            "bar_style": "success",
            "description": "",
            "description_tooltip": null,
            "layout": "IPY_MODEL_974b233853854464afbc3b09c08660b8",
            "max": 29,
            "min": 0,
            "orientation": "horizontal",
            "style": "IPY_MODEL_f791144c5add483a9d6ea35371ac8577",
            "value": 29
          }
        },
        "f83cc555e80f44068d5910c09cb67be7": {
          "model_module": "@jupyter-widgets/controls",
          "model_name": "HTMLModel",
          "model_module_version": "1.5.0",
          "state": {
            "_dom_classes": [],
            "_model_module": "@jupyter-widgets/controls",
            "_model_module_version": "1.5.0",
            "_model_name": "HTMLModel",
            "_view_count": null,
            "_view_module": "@jupyter-widgets/controls",
            "_view_module_version": "1.5.0",
            "_view_name": "HTMLView",
            "description": "",
            "description_tooltip": null,
            "layout": "IPY_MODEL_6fa9461c657e4adaa892d402bb8ee1bd",
            "placeholder": "​",
            "style": "IPY_MODEL_04730b6eb6764d23b0aec12247ee30c0",
            "value": " 29.0/29.0 [00:00&lt;00:00, 349B/s]"
          }
        },
        "9de829756f7045e4a664c952ebf8f75b": {
          "model_module": "@jupyter-widgets/base",
          "model_name": "LayoutModel",
          "model_module_version": "1.2.0",
          "state": {
            "_model_module": "@jupyter-widgets/base",
            "_model_module_version": "1.2.0",
            "_model_name": "LayoutModel",
            "_view_count": null,
            "_view_module": "@jupyter-widgets/base",
            "_view_module_version": "1.2.0",
            "_view_name": "LayoutView",
            "align_content": null,
            "align_items": null,
            "align_self": null,
            "border": null,
            "bottom": null,
            "display": null,
            "flex": null,
            "flex_flow": null,
            "grid_area": null,
            "grid_auto_columns": null,
            "grid_auto_flow": null,
            "grid_auto_rows": null,
            "grid_column": null,
            "grid_gap": null,
            "grid_row": null,
            "grid_template_areas": null,
            "grid_template_columns": null,
            "grid_template_rows": null,
            "height": null,
            "justify_content": null,
            "justify_items": null,
            "left": null,
            "margin": null,
            "max_height": null,
            "max_width": null,
            "min_height": null,
            "min_width": null,
            "object_fit": null,
            "object_position": null,
            "order": null,
            "overflow": null,
            "overflow_x": null,
            "overflow_y": null,
            "padding": null,
            "right": null,
            "top": null,
            "visibility": null,
            "width": null
          }
        },
        "2fceb1ce30ad46da8080b75ae15e2c0e": {
          "model_module": "@jupyter-widgets/base",
          "model_name": "LayoutModel",
          "model_module_version": "1.2.0",
          "state": {
            "_model_module": "@jupyter-widgets/base",
            "_model_module_version": "1.2.0",
            "_model_name": "LayoutModel",
            "_view_count": null,
            "_view_module": "@jupyter-widgets/base",
            "_view_module_version": "1.2.0",
            "_view_name": "LayoutView",
            "align_content": null,
            "align_items": null,
            "align_self": null,
            "border": null,
            "bottom": null,
            "display": null,
            "flex": null,
            "flex_flow": null,
            "grid_area": null,
            "grid_auto_columns": null,
            "grid_auto_flow": null,
            "grid_auto_rows": null,
            "grid_column": null,
            "grid_gap": null,
            "grid_row": null,
            "grid_template_areas": null,
            "grid_template_columns": null,
            "grid_template_rows": null,
            "height": null,
            "justify_content": null,
            "justify_items": null,
            "left": null,
            "margin": null,
            "max_height": null,
            "max_width": null,
            "min_height": null,
            "min_width": null,
            "object_fit": null,
            "object_position": null,
            "order": null,
            "overflow": null,
            "overflow_x": null,
            "overflow_y": null,
            "padding": null,
            "right": null,
            "top": null,
            "visibility": null,
            "width": null
          }
        },
        "b00a6b5e09d740368a5713b8b4efc23d": {
          "model_module": "@jupyter-widgets/controls",
          "model_name": "DescriptionStyleModel",
          "model_module_version": "1.5.0",
          "state": {
            "_model_module": "@jupyter-widgets/controls",
            "_model_module_version": "1.5.0",
            "_model_name": "DescriptionStyleModel",
            "_view_count": null,
            "_view_module": "@jupyter-widgets/base",
            "_view_module_version": "1.2.0",
            "_view_name": "StyleView",
            "description_width": ""
          }
        },
        "974b233853854464afbc3b09c08660b8": {
          "model_module": "@jupyter-widgets/base",
          "model_name": "LayoutModel",
          "model_module_version": "1.2.0",
          "state": {
            "_model_module": "@jupyter-widgets/base",
            "_model_module_version": "1.2.0",
            "_model_name": "LayoutModel",
            "_view_count": null,
            "_view_module": "@jupyter-widgets/base",
            "_view_module_version": "1.2.0",
            "_view_name": "LayoutView",
            "align_content": null,
            "align_items": null,
            "align_self": null,
            "border": null,
            "bottom": null,
            "display": null,
            "flex": null,
            "flex_flow": null,
            "grid_area": null,
            "grid_auto_columns": null,
            "grid_auto_flow": null,
            "grid_auto_rows": null,
            "grid_column": null,
            "grid_gap": null,
            "grid_row": null,
            "grid_template_areas": null,
            "grid_template_columns": null,
            "grid_template_rows": null,
            "height": null,
            "justify_content": null,
            "justify_items": null,
            "left": null,
            "margin": null,
            "max_height": null,
            "max_width": null,
            "min_height": null,
            "min_width": null,
            "object_fit": null,
            "object_position": null,
            "order": null,
            "overflow": null,
            "overflow_x": null,
            "overflow_y": null,
            "padding": null,
            "right": null,
            "top": null,
            "visibility": null,
            "width": null
          }
        },
        "f791144c5add483a9d6ea35371ac8577": {
          "model_module": "@jupyter-widgets/controls",
          "model_name": "ProgressStyleModel",
          "model_module_version": "1.5.0",
          "state": {
            "_model_module": "@jupyter-widgets/controls",
            "_model_module_version": "1.5.0",
            "_model_name": "ProgressStyleModel",
            "_view_count": null,
            "_view_module": "@jupyter-widgets/base",
            "_view_module_version": "1.2.0",
            "_view_name": "StyleView",
            "bar_color": null,
            "description_width": ""
          }
        },
        "6fa9461c657e4adaa892d402bb8ee1bd": {
          "model_module": "@jupyter-widgets/base",
          "model_name": "LayoutModel",
          "model_module_version": "1.2.0",
          "state": {
            "_model_module": "@jupyter-widgets/base",
            "_model_module_version": "1.2.0",
            "_model_name": "LayoutModel",
            "_view_count": null,
            "_view_module": "@jupyter-widgets/base",
            "_view_module_version": "1.2.0",
            "_view_name": "LayoutView",
            "align_content": null,
            "align_items": null,
            "align_self": null,
            "border": null,
            "bottom": null,
            "display": null,
            "flex": null,
            "flex_flow": null,
            "grid_area": null,
            "grid_auto_columns": null,
            "grid_auto_flow": null,
            "grid_auto_rows": null,
            "grid_column": null,
            "grid_gap": null,
            "grid_row": null,
            "grid_template_areas": null,
            "grid_template_columns": null,
            "grid_template_rows": null,
            "height": null,
            "justify_content": null,
            "justify_items": null,
            "left": null,
            "margin": null,
            "max_height": null,
            "max_width": null,
            "min_height": null,
            "min_width": null,
            "object_fit": null,
            "object_position": null,
            "order": null,
            "overflow": null,
            "overflow_x": null,
            "overflow_y": null,
            "padding": null,
            "right": null,
            "top": null,
            "visibility": null,
            "width": null
          }
        },
        "04730b6eb6764d23b0aec12247ee30c0": {
          "model_module": "@jupyter-widgets/controls",
          "model_name": "DescriptionStyleModel",
          "model_module_version": "1.5.0",
          "state": {
            "_model_module": "@jupyter-widgets/controls",
            "_model_module_version": "1.5.0",
            "_model_name": "DescriptionStyleModel",
            "_view_count": null,
            "_view_module": "@jupyter-widgets/base",
            "_view_module_version": "1.2.0",
            "_view_name": "StyleView",
            "description_width": ""
          }
        },
        "0bdf4bba653c43f6975df152c91ee335": {
          "model_module": "@jupyter-widgets/controls",
          "model_name": "HBoxModel",
          "model_module_version": "1.5.0",
          "state": {
            "_dom_classes": [],
            "_model_module": "@jupyter-widgets/controls",
            "_model_module_version": "1.5.0",
            "_model_name": "HBoxModel",
            "_view_count": null,
            "_view_module": "@jupyter-widgets/controls",
            "_view_module_version": "1.5.0",
            "_view_name": "HBoxView",
            "box_style": "",
            "children": [
              "IPY_MODEL_094dfc34224b46b49d3199ba31292204",
              "IPY_MODEL_7d756b963817450fbcba1c34647140a5",
              "IPY_MODEL_8f6080a74c07413b8958b3b362237958"
            ],
            "layout": "IPY_MODEL_aa47a99d48bf430bacb6f65afe794744"
          }
        },
        "094dfc34224b46b49d3199ba31292204": {
          "model_module": "@jupyter-widgets/controls",
          "model_name": "HTMLModel",
          "model_module_version": "1.5.0",
          "state": {
            "_dom_classes": [],
            "_model_module": "@jupyter-widgets/controls",
            "_model_module_version": "1.5.0",
            "_model_name": "HTMLModel",
            "_view_count": null,
            "_view_module": "@jupyter-widgets/controls",
            "_view_module_version": "1.5.0",
            "_view_name": "HTMLView",
            "description": "",
            "description_tooltip": null,
            "layout": "IPY_MODEL_971a7705089a462ea1a89ee12505c881",
            "placeholder": "​",
            "style": "IPY_MODEL_060d3cb96a5f4df4896876b9ffa3a227",
            "value": "Downloading (…)lve/main/config.json: 100%"
          }
        },
        "7d756b963817450fbcba1c34647140a5": {
          "model_module": "@jupyter-widgets/controls",
          "model_name": "FloatProgressModel",
          "model_module_version": "1.5.0",
          "state": {
            "_dom_classes": [],
            "_model_module": "@jupyter-widgets/controls",
            "_model_module_version": "1.5.0",
            "_model_name": "FloatProgressModel",
            "_view_count": null,
            "_view_module": "@jupyter-widgets/controls",
            "_view_module_version": "1.5.0",
            "_view_name": "ProgressView",
            "bar_style": "success",
            "description": "",
            "description_tooltip": null,
            "layout": "IPY_MODEL_93b1531b8cf64e23962e952762aa81d8",
            "max": 570,
            "min": 0,
            "orientation": "horizontal",
            "style": "IPY_MODEL_376d330802f64047a657fc1b0c8078a4",
            "value": 570
          }
        },
        "8f6080a74c07413b8958b3b362237958": {
          "model_module": "@jupyter-widgets/controls",
          "model_name": "HTMLModel",
          "model_module_version": "1.5.0",
          "state": {
            "_dom_classes": [],
            "_model_module": "@jupyter-widgets/controls",
            "_model_module_version": "1.5.0",
            "_model_name": "HTMLModel",
            "_view_count": null,
            "_view_module": "@jupyter-widgets/controls",
            "_view_module_version": "1.5.0",
            "_view_name": "HTMLView",
            "description": "",
            "description_tooltip": null,
            "layout": "IPY_MODEL_c22291cd08df45048c99e792ce9c1c9b",
            "placeholder": "​",
            "style": "IPY_MODEL_806ca6773b874f0584f0bec4be433749",
            "value": " 570/570 [00:00&lt;00:00, 35.2kB/s]"
          }
        },
        "aa47a99d48bf430bacb6f65afe794744": {
          "model_module": "@jupyter-widgets/base",
          "model_name": "LayoutModel",
          "model_module_version": "1.2.0",
          "state": {
            "_model_module": "@jupyter-widgets/base",
            "_model_module_version": "1.2.0",
            "_model_name": "LayoutModel",
            "_view_count": null,
            "_view_module": "@jupyter-widgets/base",
            "_view_module_version": "1.2.0",
            "_view_name": "LayoutView",
            "align_content": null,
            "align_items": null,
            "align_self": null,
            "border": null,
            "bottom": null,
            "display": null,
            "flex": null,
            "flex_flow": null,
            "grid_area": null,
            "grid_auto_columns": null,
            "grid_auto_flow": null,
            "grid_auto_rows": null,
            "grid_column": null,
            "grid_gap": null,
            "grid_row": null,
            "grid_template_areas": null,
            "grid_template_columns": null,
            "grid_template_rows": null,
            "height": null,
            "justify_content": null,
            "justify_items": null,
            "left": null,
            "margin": null,
            "max_height": null,
            "max_width": null,
            "min_height": null,
            "min_width": null,
            "object_fit": null,
            "object_position": null,
            "order": null,
            "overflow": null,
            "overflow_x": null,
            "overflow_y": null,
            "padding": null,
            "right": null,
            "top": null,
            "visibility": null,
            "width": null
          }
        },
        "971a7705089a462ea1a89ee12505c881": {
          "model_module": "@jupyter-widgets/base",
          "model_name": "LayoutModel",
          "model_module_version": "1.2.0",
          "state": {
            "_model_module": "@jupyter-widgets/base",
            "_model_module_version": "1.2.0",
            "_model_name": "LayoutModel",
            "_view_count": null,
            "_view_module": "@jupyter-widgets/base",
            "_view_module_version": "1.2.0",
            "_view_name": "LayoutView",
            "align_content": null,
            "align_items": null,
            "align_self": null,
            "border": null,
            "bottom": null,
            "display": null,
            "flex": null,
            "flex_flow": null,
            "grid_area": null,
            "grid_auto_columns": null,
            "grid_auto_flow": null,
            "grid_auto_rows": null,
            "grid_column": null,
            "grid_gap": null,
            "grid_row": null,
            "grid_template_areas": null,
            "grid_template_columns": null,
            "grid_template_rows": null,
            "height": null,
            "justify_content": null,
            "justify_items": null,
            "left": null,
            "margin": null,
            "max_height": null,
            "max_width": null,
            "min_height": null,
            "min_width": null,
            "object_fit": null,
            "object_position": null,
            "order": null,
            "overflow": null,
            "overflow_x": null,
            "overflow_y": null,
            "padding": null,
            "right": null,
            "top": null,
            "visibility": null,
            "width": null
          }
        },
        "060d3cb96a5f4df4896876b9ffa3a227": {
          "model_module": "@jupyter-widgets/controls",
          "model_name": "DescriptionStyleModel",
          "model_module_version": "1.5.0",
          "state": {
            "_model_module": "@jupyter-widgets/controls",
            "_model_module_version": "1.5.0",
            "_model_name": "DescriptionStyleModel",
            "_view_count": null,
            "_view_module": "@jupyter-widgets/base",
            "_view_module_version": "1.2.0",
            "_view_name": "StyleView",
            "description_width": ""
          }
        },
        "93b1531b8cf64e23962e952762aa81d8": {
          "model_module": "@jupyter-widgets/base",
          "model_name": "LayoutModel",
          "model_module_version": "1.2.0",
          "state": {
            "_model_module": "@jupyter-widgets/base",
            "_model_module_version": "1.2.0",
            "_model_name": "LayoutModel",
            "_view_count": null,
            "_view_module": "@jupyter-widgets/base",
            "_view_module_version": "1.2.0",
            "_view_name": "LayoutView",
            "align_content": null,
            "align_items": null,
            "align_self": null,
            "border": null,
            "bottom": null,
            "display": null,
            "flex": null,
            "flex_flow": null,
            "grid_area": null,
            "grid_auto_columns": null,
            "grid_auto_flow": null,
            "grid_auto_rows": null,
            "grid_column": null,
            "grid_gap": null,
            "grid_row": null,
            "grid_template_areas": null,
            "grid_template_columns": null,
            "grid_template_rows": null,
            "height": null,
            "justify_content": null,
            "justify_items": null,
            "left": null,
            "margin": null,
            "max_height": null,
            "max_width": null,
            "min_height": null,
            "min_width": null,
            "object_fit": null,
            "object_position": null,
            "order": null,
            "overflow": null,
            "overflow_x": null,
            "overflow_y": null,
            "padding": null,
            "right": null,
            "top": null,
            "visibility": null,
            "width": null
          }
        },
        "376d330802f64047a657fc1b0c8078a4": {
          "model_module": "@jupyter-widgets/controls",
          "model_name": "ProgressStyleModel",
          "model_module_version": "1.5.0",
          "state": {
            "_model_module": "@jupyter-widgets/controls",
            "_model_module_version": "1.5.0",
            "_model_name": "ProgressStyleModel",
            "_view_count": null,
            "_view_module": "@jupyter-widgets/base",
            "_view_module_version": "1.2.0",
            "_view_name": "StyleView",
            "bar_color": null,
            "description_width": ""
          }
        },
        "c22291cd08df45048c99e792ce9c1c9b": {
          "model_module": "@jupyter-widgets/base",
          "model_name": "LayoutModel",
          "model_module_version": "1.2.0",
          "state": {
            "_model_module": "@jupyter-widgets/base",
            "_model_module_version": "1.2.0",
            "_model_name": "LayoutModel",
            "_view_count": null,
            "_view_module": "@jupyter-widgets/base",
            "_view_module_version": "1.2.0",
            "_view_name": "LayoutView",
            "align_content": null,
            "align_items": null,
            "align_self": null,
            "border": null,
            "bottom": null,
            "display": null,
            "flex": null,
            "flex_flow": null,
            "grid_area": null,
            "grid_auto_columns": null,
            "grid_auto_flow": null,
            "grid_auto_rows": null,
            "grid_column": null,
            "grid_gap": null,
            "grid_row": null,
            "grid_template_areas": null,
            "grid_template_columns": null,
            "grid_template_rows": null,
            "height": null,
            "justify_content": null,
            "justify_items": null,
            "left": null,
            "margin": null,
            "max_height": null,
            "max_width": null,
            "min_height": null,
            "min_width": null,
            "object_fit": null,
            "object_position": null,
            "order": null,
            "overflow": null,
            "overflow_x": null,
            "overflow_y": null,
            "padding": null,
            "right": null,
            "top": null,
            "visibility": null,
            "width": null
          }
        },
        "806ca6773b874f0584f0bec4be433749": {
          "model_module": "@jupyter-widgets/controls",
          "model_name": "DescriptionStyleModel",
          "model_module_version": "1.5.0",
          "state": {
            "_model_module": "@jupyter-widgets/controls",
            "_model_module_version": "1.5.0",
            "_model_name": "DescriptionStyleModel",
            "_view_count": null,
            "_view_module": "@jupyter-widgets/base",
            "_view_module_version": "1.2.0",
            "_view_name": "StyleView",
            "description_width": ""
          }
        },
        "61164d9db7ac4cc491ff1d41f70c15b8": {
          "model_module": "@jupyter-widgets/controls",
          "model_name": "HBoxModel",
          "model_module_version": "1.5.0",
          "state": {
            "_dom_classes": [],
            "_model_module": "@jupyter-widgets/controls",
            "_model_module_version": "1.5.0",
            "_model_name": "HBoxModel",
            "_view_count": null,
            "_view_module": "@jupyter-widgets/controls",
            "_view_module_version": "1.5.0",
            "_view_name": "HBoxView",
            "box_style": "",
            "children": [
              "IPY_MODEL_5f1a66f65b234dd49a25fcb03d483d98",
              "IPY_MODEL_7231546d5f824c9f807bada736f6327b",
              "IPY_MODEL_562c8469695e4773b97af033afeb9642"
            ],
            "layout": "IPY_MODEL_9d591571fead4b1ba4e830d3b744fd49"
          }
        },
        "5f1a66f65b234dd49a25fcb03d483d98": {
          "model_module": "@jupyter-widgets/controls",
          "model_name": "HTMLModel",
          "model_module_version": "1.5.0",
          "state": {
            "_dom_classes": [],
            "_model_module": "@jupyter-widgets/controls",
            "_model_module_version": "1.5.0",
            "_model_name": "HTMLModel",
            "_view_count": null,
            "_view_module": "@jupyter-widgets/controls",
            "_view_module_version": "1.5.0",
            "_view_name": "HTMLView",
            "description": "",
            "description_tooltip": null,
            "layout": "IPY_MODEL_140ccbf91d194ed195e4ce371bde7f06",
            "placeholder": "​",
            "style": "IPY_MODEL_0a98322574f44c0ca3c63dee23d66c4b",
            "value": "Downloading (…)&quot;pytorch_model.bin&quot;;: 100%"
          }
        },
        "7231546d5f824c9f807bada736f6327b": {
          "model_module": "@jupyter-widgets/controls",
          "model_name": "FloatProgressModel",
          "model_module_version": "1.5.0",
          "state": {
            "_dom_classes": [],
            "_model_module": "@jupyter-widgets/controls",
            "_model_module_version": "1.5.0",
            "_model_name": "FloatProgressModel",
            "_view_count": null,
            "_view_module": "@jupyter-widgets/controls",
            "_view_module_version": "1.5.0",
            "_view_name": "ProgressView",
            "bar_style": "success",
            "description": "",
            "description_tooltip": null,
            "layout": "IPY_MODEL_31af60893c904ba1a84eae42b8322acf",
            "max": 435779157,
            "min": 0,
            "orientation": "horizontal",
            "style": "IPY_MODEL_0aaf43bc267646b4b535f547d33084c2",
            "value": 435779157
          }
        },
        "562c8469695e4773b97af033afeb9642": {
          "model_module": "@jupyter-widgets/controls",
          "model_name": "HTMLModel",
          "model_module_version": "1.5.0",
          "state": {
            "_dom_classes": [],
            "_model_module": "@jupyter-widgets/controls",
            "_model_module_version": "1.5.0",
            "_model_name": "HTMLModel",
            "_view_count": null,
            "_view_module": "@jupyter-widgets/controls",
            "_view_module_version": "1.5.0",
            "_view_name": "HTMLView",
            "description": "",
            "description_tooltip": null,
            "layout": "IPY_MODEL_6b218a608241417eb5138ebb48c0de8b",
            "placeholder": "​",
            "style": "IPY_MODEL_78a9b995e5514b449bc3fa5229bfc3c4",
            "value": " 436M/436M [00:07&lt;00:00, 55.5MB/s]"
          }
        },
        "9d591571fead4b1ba4e830d3b744fd49": {
          "model_module": "@jupyter-widgets/base",
          "model_name": "LayoutModel",
          "model_module_version": "1.2.0",
          "state": {
            "_model_module": "@jupyter-widgets/base",
            "_model_module_version": "1.2.0",
            "_model_name": "LayoutModel",
            "_view_count": null,
            "_view_module": "@jupyter-widgets/base",
            "_view_module_version": "1.2.0",
            "_view_name": "LayoutView",
            "align_content": null,
            "align_items": null,
            "align_self": null,
            "border": null,
            "bottom": null,
            "display": null,
            "flex": null,
            "flex_flow": null,
            "grid_area": null,
            "grid_auto_columns": null,
            "grid_auto_flow": null,
            "grid_auto_rows": null,
            "grid_column": null,
            "grid_gap": null,
            "grid_row": null,
            "grid_template_areas": null,
            "grid_template_columns": null,
            "grid_template_rows": null,
            "height": null,
            "justify_content": null,
            "justify_items": null,
            "left": null,
            "margin": null,
            "max_height": null,
            "max_width": null,
            "min_height": null,
            "min_width": null,
            "object_fit": null,
            "object_position": null,
            "order": null,
            "overflow": null,
            "overflow_x": null,
            "overflow_y": null,
            "padding": null,
            "right": null,
            "top": null,
            "visibility": null,
            "width": null
          }
        },
        "140ccbf91d194ed195e4ce371bde7f06": {
          "model_module": "@jupyter-widgets/base",
          "model_name": "LayoutModel",
          "model_module_version": "1.2.0",
          "state": {
            "_model_module": "@jupyter-widgets/base",
            "_model_module_version": "1.2.0",
            "_model_name": "LayoutModel",
            "_view_count": null,
            "_view_module": "@jupyter-widgets/base",
            "_view_module_version": "1.2.0",
            "_view_name": "LayoutView",
            "align_content": null,
            "align_items": null,
            "align_self": null,
            "border": null,
            "bottom": null,
            "display": null,
            "flex": null,
            "flex_flow": null,
            "grid_area": null,
            "grid_auto_columns": null,
            "grid_auto_flow": null,
            "grid_auto_rows": null,
            "grid_column": null,
            "grid_gap": null,
            "grid_row": null,
            "grid_template_areas": null,
            "grid_template_columns": null,
            "grid_template_rows": null,
            "height": null,
            "justify_content": null,
            "justify_items": null,
            "left": null,
            "margin": null,
            "max_height": null,
            "max_width": null,
            "min_height": null,
            "min_width": null,
            "object_fit": null,
            "object_position": null,
            "order": null,
            "overflow": null,
            "overflow_x": null,
            "overflow_y": null,
            "padding": null,
            "right": null,
            "top": null,
            "visibility": null,
            "width": null
          }
        },
        "0a98322574f44c0ca3c63dee23d66c4b": {
          "model_module": "@jupyter-widgets/controls",
          "model_name": "DescriptionStyleModel",
          "model_module_version": "1.5.0",
          "state": {
            "_model_module": "@jupyter-widgets/controls",
            "_model_module_version": "1.5.0",
            "_model_name": "DescriptionStyleModel",
            "_view_count": null,
            "_view_module": "@jupyter-widgets/base",
            "_view_module_version": "1.2.0",
            "_view_name": "StyleView",
            "description_width": ""
          }
        },
        "31af60893c904ba1a84eae42b8322acf": {
          "model_module": "@jupyter-widgets/base",
          "model_name": "LayoutModel",
          "model_module_version": "1.2.0",
          "state": {
            "_model_module": "@jupyter-widgets/base",
            "_model_module_version": "1.2.0",
            "_model_name": "LayoutModel",
            "_view_count": null,
            "_view_module": "@jupyter-widgets/base",
            "_view_module_version": "1.2.0",
            "_view_name": "LayoutView",
            "align_content": null,
            "align_items": null,
            "align_self": null,
            "border": null,
            "bottom": null,
            "display": null,
            "flex": null,
            "flex_flow": null,
            "grid_area": null,
            "grid_auto_columns": null,
            "grid_auto_flow": null,
            "grid_auto_rows": null,
            "grid_column": null,
            "grid_gap": null,
            "grid_row": null,
            "grid_template_areas": null,
            "grid_template_columns": null,
            "grid_template_rows": null,
            "height": null,
            "justify_content": null,
            "justify_items": null,
            "left": null,
            "margin": null,
            "max_height": null,
            "max_width": null,
            "min_height": null,
            "min_width": null,
            "object_fit": null,
            "object_position": null,
            "order": null,
            "overflow": null,
            "overflow_x": null,
            "overflow_y": null,
            "padding": null,
            "right": null,
            "top": null,
            "visibility": null,
            "width": null
          }
        },
        "0aaf43bc267646b4b535f547d33084c2": {
          "model_module": "@jupyter-widgets/controls",
          "model_name": "ProgressStyleModel",
          "model_module_version": "1.5.0",
          "state": {
            "_model_module": "@jupyter-widgets/controls",
            "_model_module_version": "1.5.0",
            "_model_name": "ProgressStyleModel",
            "_view_count": null,
            "_view_module": "@jupyter-widgets/base",
            "_view_module_version": "1.2.0",
            "_view_name": "StyleView",
            "bar_color": null,
            "description_width": ""
          }
        },
        "6b218a608241417eb5138ebb48c0de8b": {
          "model_module": "@jupyter-widgets/base",
          "model_name": "LayoutModel",
          "model_module_version": "1.2.0",
          "state": {
            "_model_module": "@jupyter-widgets/base",
            "_model_module_version": "1.2.0",
            "_model_name": "LayoutModel",
            "_view_count": null,
            "_view_module": "@jupyter-widgets/base",
            "_view_module_version": "1.2.0",
            "_view_name": "LayoutView",
            "align_content": null,
            "align_items": null,
            "align_self": null,
            "border": null,
            "bottom": null,
            "display": null,
            "flex": null,
            "flex_flow": null,
            "grid_area": null,
            "grid_auto_columns": null,
            "grid_auto_flow": null,
            "grid_auto_rows": null,
            "grid_column": null,
            "grid_gap": null,
            "grid_row": null,
            "grid_template_areas": null,
            "grid_template_columns": null,
            "grid_template_rows": null,
            "height": null,
            "justify_content": null,
            "justify_items": null,
            "left": null,
            "margin": null,
            "max_height": null,
            "max_width": null,
            "min_height": null,
            "min_width": null,
            "object_fit": null,
            "object_position": null,
            "order": null,
            "overflow": null,
            "overflow_x": null,
            "overflow_y": null,
            "padding": null,
            "right": null,
            "top": null,
            "visibility": null,
            "width": null
          }
        },
        "78a9b995e5514b449bc3fa5229bfc3c4": {
          "model_module": "@jupyter-widgets/controls",
          "model_name": "DescriptionStyleModel",
          "model_module_version": "1.5.0",
          "state": {
            "_model_module": "@jupyter-widgets/controls",
            "_model_module_version": "1.5.0",
            "_model_name": "DescriptionStyleModel",
            "_view_count": null,
            "_view_module": "@jupyter-widgets/base",
            "_view_module_version": "1.2.0",
            "_view_name": "StyleView",
            "description_width": ""
          }
        }
      }
    }
  },
  "nbformat": 4,
  "nbformat_minor": 5
}