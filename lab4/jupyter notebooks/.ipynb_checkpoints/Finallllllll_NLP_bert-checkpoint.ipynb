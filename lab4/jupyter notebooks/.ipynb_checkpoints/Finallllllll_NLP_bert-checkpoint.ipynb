{
 "cells": [
  {
   "cell_type": "markdown",
   "id": "view-in-github",
   "metadata": {
    "id": "view-in-github"
   },
   "source": [
    "<a href=\"https://colab.research.google.com/github/Ahmadsaidnouh/Term7-Artificial-Intelligence-Assignments/blob/main/lab4/jupyter%20notebooks/NLP_bert.ipynb\" target=\"_parent\"><img src=\"https://colab.research.google.com/assets/colab-badge.svg\" alt=\"Open In Colab\"/></a>"
   ]
  },
  {
   "cell_type": "code",
   "execution_count": null,
   "id": "6fed133d-61b7-4ce6-8a44-fe98acf0eed2",
   "metadata": {
    "executionInfo": {
     "elapsed": 16805,
     "status": "ok",
     "timestamp": 1673773882498,
     "user": {
      "displayName": "Hossam Elshamy",
      "userId": "02334821340504121354"
     },
     "user_tz": -120
    },
    "id": "6fed133d-61b7-4ce6-8a44-fe98acf0eed2"
   },
   "outputs": [],
   "source": [
    "%%capture\n",
    "%pip install transformers\n",
    "%pip install pandas \n",
    "%pip install torch\n",
    "%pip install tqdm\n",
    "%pip install nltk"
   ]
  },
  {
   "cell_type": "code",
   "execution_count": null,
   "id": "2f3a8fd1-25a9-426d-a6be-c93b750cbcb8",
   "metadata": {
    "colab": {
     "base_uri": "https://localhost:8080/"
    },
    "executionInfo": {
     "elapsed": 5,
     "status": "ok",
     "timestamp": 1673773885993,
     "user": {
      "displayName": "Hossam Elshamy",
      "userId": "02334821340504121354"
     },
     "user_tz": -120
    },
    "id": "2f3a8fd1-25a9-426d-a6be-c93b750cbcb8",
    "outputId": "31755c3f-c650-4214-f96e-7050a1440b8b"
   },
   "outputs": [],
   "source": [
    "import pandas as pd\n",
    "import matplotlib.pyplot as plt\n",
    "import torch\n",
    "import numpy as np\n",
    "from transformers import BertTokenizer, BertModel\n",
    "from torch import nn\n",
    "from torch.optim import Adam\n",
    "from tqdm import tqdm\n",
    "import nltk\n",
    "from nltk.corpus import stopwords\n",
    "from nltk.stem import WordNetLemmatizer\n",
    "from nltk.stem import PorterStemmer\n",
    "import re\n",
    "import gc\n",
    "nltk.download('punkt')\n",
    "nltk.download('stopwords')\n",
    "nltk.download('wordnet')\n",
    "nltk.download('omw-1.4')"
   ]
  },
  {
   "cell_type": "code",
   "execution_count": null,
   "id": "8993a6d3",
   "metadata": {
    "colab": {
     "base_uri": "https://localhost:8080/"
    },
    "executionInfo": {
     "elapsed": 3426,
     "status": "ok",
     "timestamp": 1673773894493,
     "user": {
      "displayName": "Hossam Elshamy",
      "userId": "02334821340504121354"
     },
     "user_tz": -120
    },
    "id": "8993a6d3",
    "outputId": "b15a4665-c2c3-4217-cd99-19d240222236"
   },
   "outputs": [],
   "source": [
    "from google.colab import drive\n",
    "drive.mount('/content/drive/')"
   ]
  },
  {
   "cell_type": "code",
   "execution_count": null,
   "id": "84e927af",
   "metadata": {
    "colab": {
     "base_uri": "https://localhost:8080/",
     "height": 441
    },
    "executionInfo": {
     "elapsed": 624,
     "status": "ok",
     "timestamp": 1673773897207,
     "user": {
      "displayName": "Hossam Elshamy",
      "userId": "02334821340504121354"
     },
     "user_tz": -120
    },
    "id": "84e927af",
    "outputId": "f3545595-8dfd-4497-db95-5a7621978bb3"
   },
   "outputs": [],
   "source": [
    "#df_train = pd.read_csv(f\"/content/drive/MyDrive/Lab4_Data/train.csv\")\n",
    "#df_val = pd.read_csv(f\"/content/drive/MyDrive/Lab4_Data/val.csv\")\n",
    "#df_test = pd.read_csv(f\"/content/drive/MyDrive/Lab4_Data/test.csv\")\n",
    "\n",
    "\n",
    "df_train = pd.read_csv(f\"/mnt/nvme0n1p2/Study/Term7/AI/Term7-Artificial-Intelligence-Assignments/lab4/data/train.csv\")\n",
    "df_val = pd.read_csv(f\"/mnt/nvme0n1p2/Study/Term7/AI/Term7-Artificial-Intelligence-Assignments/lab4/data/val.csv\")\n",
    "df_test = pd.read_csv(f\"/mnt/nvme0n1p2/Study/Term7/AI/Term7-Artificial-Intelligence-Assignments/lab4/data/test.csv\")\n",
    "\n",
    "\n",
    "\n",
    "print(len(df_train), len(df_val), len(df_test))\n",
    "df_train\n"
   ]
  },
  {
   "cell_type": "code",
   "execution_count": null,
   "id": "5074c270-ed3e-4e1a-863d-71737c743cb8",
   "metadata": {
    "executionInfo": {
     "elapsed": 1071,
     "status": "ok",
     "timestamp": 1673774731516,
     "user": {
      "displayName": "Hossam Elshamy",
      "userId": "02334821340504121354"
     },
     "user_tz": -120
    },
    "id": "5074c270-ed3e-4e1a-863d-71737c743cb8"
   },
   "outputs": [],
   "source": [
    "tokenizer = BertTokenizer.from_pretrained(\"bert-base-cased\")\n",
    "labels = {\n",
    "    \"negative\" : 0 ,\n",
    "    \"positive\" : 1,\n",
    "}\n",
    "\n",
    "\n",
    "class Dataset(torch.utils.data.TensorDataset):\n",
    "    def __init__(self, df):\n",
    "\n",
    "        self.labels = [labels[label] for label in df[\"sentiment\"]]\n",
    "        # self.labels = []\n",
    "        # for label in df[\"sentiment\"]:\n",
    "        #     self.labels.append(label)\n",
    "        self.texts = [\n",
    "            tokenizer(\n",
    "                text,\n",
    "                padding=\"max_length\",\n",
    "                max_length=512,\n",
    "                truncation=True,\n",
    "                return_tensors=\"pt\",\n",
    "            )\n",
    "            for text in df[\"review\"]\n",
    "        ]\n",
    "\n",
    "    def classes(self):\n",
    "        return self.labels\n",
    "\n",
    "    def __len__(self):\n",
    "        return len(self.labels)\n",
    "\n",
    "    def get_batch_labels(self, idx):\n",
    "        # Fetch a batch of labels\n",
    "        return np.array(self.labels[idx])\n",
    "\n",
    "    def get_batch_texts(self, idx):\n",
    "        # Fetch a batch of inputs\n",
    "        return self.texts[idx]\n",
    "\n",
    "    def __getitem__(self, idx):\n",
    "\n",
    "        batch_texts = self.get_batch_texts(idx)\n",
    "        batch_y = self.get_batch_labels(idx)\n",
    "\n",
    "        return batch_texts, batch_y\n"
   ]
  },
  {
   "cell_type": "code",
   "execution_count": null,
   "id": "0c8a5d0f-80c3-42b3-9f06-ecfc3a21f395",
   "metadata": {
    "executionInfo": {
     "elapsed": 4,
     "status": "ok",
     "timestamp": 1673774734699,
     "user": {
      "displayName": "Hossam Elshamy",
      "userId": "02334821340504121354"
     },
     "user_tz": -120
    },
    "id": "0c8a5d0f-80c3-42b3-9f06-ecfc3a21f395"
   },
   "outputs": [],
   "source": [
    "class BertClassifier(nn.Module):\n",
    "    def __init__(self, dropout=0.5):\n",
    "\n",
    "        super(BertClassifier, self).__init__()\n",
    "        self.bert = BertModel.from_pretrained('bert-base-cased')\n",
    "        self.dropout_bert = nn.Dropout(0.5)\n",
    "        self.dropout = nn.Dropout(0.2)\n",
    "        self.linear1 = nn.Linear(768, 512)\n",
    "        self.batchnorm1 = nn.BatchNorm1d(512)\n",
    "        self.linear2 = nn.Linear(512, 256)\n",
    "        self.batchnorm2 = nn.BatchNorm1d(256)\n",
    "        self.linear3 = nn.Linear(256, 128)\n",
    "        self.linear4 = nn.Linear(128, 64)\n",
    "        self.linear_out = nn.Linear(64, 1)\n",
    "        self.relu1 = nn.ReLU()\n",
    "        self.relu2 = nn.ReLU()\n",
    "        self.relu3 = nn.ReLU()\n",
    "        self.relu4 = nn.ReLU()\n",
    "        self.sigmoid = nn.Sigmoid()\n",
    "\n",
    "    def forward(self, input_id, mask):\n",
    "        _, x = self.bert(input_ids=input_id, attention_mask=mask,return_dict=False)\n",
    "        x = self.dropout_bert(x)\n",
    "        x = self.relu1(self.linear1(x))\n",
    "        x = self.batchnorm1(x)\n",
    "        x = self.dropout(x)\n",
    "        x = self.relu2(self.linear2(x))\n",
    "        x = self.batchnorm2(x)\n",
    "        x = self.dropout(x)\n",
    "        x = self.relu3(self.linear3(x))\n",
    "        x = self.dropout(x)\n",
    "        x = self.relu4(self.linear4(x))\n",
    "        x = self.dropout(x)\n",
    "        x = self.sigmoid(self.linear_out(x))\n",
    "        return x\n"
   ]
  },
  {
   "cell_type": "code",
   "execution_count": null,
   "id": "GtpHS-Zs1V2-",
   "metadata": {
    "executionInfo": {
     "elapsed": 3,
     "status": "ok",
     "timestamp": 1673774736526,
     "user": {
      "displayName": "Hossam Elshamy",
      "userId": "02334821340504121354"
     },
     "user_tz": -120
    },
    "id": "GtpHS-Zs1V2-"
   },
   "outputs": [],
   "source": [
    "def save_checkpoint(model, epoch, optimizer, best_acc, model_path):\n",
    "  state = {\n",
    "      'epoch' : epoch + 1,\n",
    "      'model' : model.state_dict(),\n",
    "      'best accuracy' : best_acc,\n",
    "      'optimizer' : optimizer.state_dict()\n",
    "  }\n",
    "  torch.save(state, model_path)"
   ]
  },
  {
   "cell_type": "code",
   "execution_count": null,
   "id": "YcT8A84qyILR",
   "metadata": {
    "executionInfo": {
     "elapsed": 130366,
     "status": "ok",
     "timestamp": 1673774868782,
     "user": {
      "displayName": "Hossam Elshamy",
      "userId": "02334821340504121354"
     },
     "user_tz": -120
    },
    "id": "YcT8A84qyILR"
   },
   "outputs": [],
   "source": [
    "batch_size=16   \n",
    "trainn, val, test = Dataset(df_train), Dataset(df_val), Dataset(df_test)"
   ]
  },
  {
   "cell_type": "code",
   "execution_count": null,
   "id": "9EfQnvuauO05",
   "metadata": {
    "colab": {
     "base_uri": "https://localhost:8080/"
    },
    "executionInfo": {
     "elapsed": 652,
     "status": "ok",
     "timestamp": 1673774353761,
     "user": {
      "displayName": "Hossam Elshamy",
      "userId": "02334821340504121354"
     },
     "user_tz": -120
    },
    "id": "9EfQnvuauO05",
    "outputId": "30d5575f-c940-4efa-9040-9008cc726b31"
   },
   "outputs": [],
   "source": [
    "trainn"
   ]
  },
  {
   "cell_type": "code",
   "execution_count": null,
   "id": "1eUTz7L_t_9N",
   "metadata": {
    "executionInfo": {
     "elapsed": 6,
     "status": "ok",
     "timestamp": 1673774963406,
     "user": {
      "displayName": "Hossam Elshamy",
      "userId": "02334821340504121354"
     },
     "user_tz": -120
    },
    "id": "1eUTz7L_t_9N"
   },
   "outputs": [],
   "source": [
    "train_dataloader = torch.utils.data.DataLoader(trainn, batch_size=batch_size)\n",
    "val_dataloader = torch.utils.data.DataLoader(val, batch_size=batch_size)\n",
    "test_dataloader = torch.utils.data.DataLoader(test, batch_size=batch_size)"
   ]
  },
  {
   "cell_type": "code",
   "execution_count": null,
   "id": "ioh2iL4mTiKB",
   "metadata": {
    "executionInfo": {
     "elapsed": 4,
     "status": "ok",
     "timestamp": 1673774965061,
     "user": {
      "displayName": "Hossam Elshamy",
      "userId": "02334821340504121354"
     },
     "user_tz": -120
    },
    "id": "ioh2iL4mTiKB"
   },
   "outputs": [],
   "source": [
    "epoch_list = list()\n",
    "train_loss = list()\n",
    "val_loss = list()\n",
    "train_accuracy = list()\n",
    "val_accuracy = list()\n",
    "def plot_all():\n",
    "    plt.figure(figsize = [18, 5])\n",
    "    plt.suptitle(\"Loss and Accuracy in training\")\n",
    "    plt.subplot(1,2,1)\n",
    "    plt.plot(epoch_list,train_loss);\n",
    "    plt.plot(epoch_list,val_loss);\n",
    "    plt.xlabel(\"Epochs\")\n",
    "    plt.ylabel(\"Loss\")\n",
    "    plt.legend([\"Train\",\"Validation\"])\n",
    "    plt.subplot(1,2,2)\n",
    "    plt.plot(epoch_list,train_accuracy);\n",
    "    plt.plot(epoch_list,val_accuracy);\n",
    "    plt.xlabel(\"Epochs\");\n",
    "    plt.ylabel(\"Accuracy\")\n",
    "    plt.legend([\"Train\",\"Validation\"]);\n",
    "    plt.show()\n",
    "    "
   ]
  },
  {
   "cell_type": "code",
   "execution_count": null,
   "id": "9SF4UTQtSmUg",
   "metadata": {
    "executionInfo": {
     "elapsed": 434,
     "status": "ok",
     "timestamp": 1673775076307,
     "user": {
      "displayName": "Hossam Elshamy",
      "userId": "02334821340504121354"
     },
     "user_tz": -120
    },
    "id": "9SF4UTQtSmUg"
   },
   "outputs": [],
   "source": [
    "def train(model,train_data, val_data, train_dataloader, val_dataloader, learning_rate, epochs, bach_size, best_model_path, last_model_path):                    \n",
    "    # Early stopping\n",
    "    val_acc_best = 0\n",
    "    early_stop_items_num = 5\n",
    "\n",
    "    use_cuda = torch.cuda.is_available()\n",
    "    use_cuda = False\n",
    "    device = torch.device(\"cuda\" if use_cuda else \"cpu\")\n",
    "\n",
    "    criterion = nn.BCELoss()\n",
    "    optimizer = Adam(model.parameters(), lr= learning_rate)\n",
    "\n",
    "    if use_cuda:\n",
    "\n",
    "            model = model.cuda()\n",
    "            criterion = criterion.cuda()\n",
    "\n",
    "    for epoch_num in range(epochs):\n",
    "            gc.collect()\n",
    "            torch.cuda.empty_cache()\n",
    "\n",
    "            model.train()\n",
    "            total_acc_train = 0\n",
    "            total_loss_train = 0\n",
    "\n",
    "            for train_input, train_label in tqdm(train_dataloader):\n",
    "                gc.collect()\n",
    "                torch.cuda.empty_cache()\n",
    "                train_label = train_label.to(device)\n",
    "                mask = train_input['attention_mask'].to(device)\n",
    "                input_id = train_input['input_ids'].squeeze(1).to(device)\n",
    "                output = model(input_id, mask)\n",
    "\n",
    "                batch_loss = criterion(output.squeeze(1), train_label.float())\n",
    "                total_loss_train += batch_loss.item()\n",
    "\n",
    "                y_pred_tag = torch.round(output.squeeze(1))\n",
    "                acc = (y_pred_tag == train_label).sum()\n",
    "\n",
    "                total_acc_train += acc\n",
    "\n",
    "                model.zero_grad()\n",
    "                batch_loss.backward()\n",
    "                optimizer.step()\n",
    "            \n",
    "            total_acc_val = 0\n",
    "            total_loss_val = 0\n",
    "            model.eval()\n",
    "            with torch.no_grad():\n",
    "\n",
    "                for val_input, val_label in val_dataloader:\n",
    "                    gc.collect()\n",
    "                    torch.cuda.empty_cache()\n",
    "\n",
    "                    val_label = val_label.to(device)\n",
    "                    mask = val_input['attention_mask'].to(device)\n",
    "                    input_id = val_input['input_ids'].squeeze(1).to(device)\n",
    "\n",
    "                    output = model(input_id, mask)\n",
    "\n",
    "                    batch_loss = criterion(output.squeeze(1), val_label.float())\n",
    "                    total_loss_val += batch_loss.item()\n",
    "                    \n",
    "                    y_pred_tag = torch.round(output.squeeze(1))\n",
    "                    acc = (y_pred_tag == val_label).sum()\n",
    "                    total_acc_val += acc\n",
    "            \n",
    "            train_loss.append(total_loss_train / len(train_data))\n",
    "            train_accuracy.append(total_acc_train.item() / len(train_data))\n",
    "            val_loss.append(total_loss_val / len(val_data))\n",
    "            val_accuracy.append(total_acc_val.item() / len(val_data))\n",
    "            epoch_list.append(epoch_num+1)\n",
    "            val_acc_new = total_acc_val / len(val_data)\n",
    "            \n",
    "            \n",
    "            \n",
    "            print(\n",
    "                f'Epochs: {epoch_num + 1} | Train Loss: {total_loss_train / len(train_data): .3f} \\\n",
    "                | Train Accuracy: {total_acc_train / len(train_data): .3f} \\\n",
    "                | Val Loss: {total_loss_val / len(val_data): .3f} \\\n",
    "                | Val Accuracy: {total_acc_val / len(val_data): .3f}')\n",
    "            \n",
    "            \n",
    "            if val_acc_new > val_acc_best:\n",
    "              val_acc_best = val_acc_new\n",
    "              save_checkpoint(model, epoch_num, optimizer, val_acc_best, best_model_path)\n",
    "\n",
    "            save_checkpoint(model, epoch_num, optimizer, val_acc_new, last_model_path)\n",
    "            # Early stopping\n",
    "            if len(val_accuracy) >= early_stop_items_num and max(val_accuracy[-early_stop_items_num:]) != val_acc_best.cpu().data.numpy():\n",
    "                print(\"Early stopping at epoch:\", epoch_num+1)\n",
    "                break\n",
    "            the_current_loss = total_loss_val / len(val_data)\n",
    "            the_last_loss = the_current_loss\n",
    "            plot_all()\n",
    "\n",
    "\n",
    "            \n",
    "            \n",
    "                  "
   ]
  },
  {
   "cell_type": "code",
   "execution_count": null,
   "id": "ve3kDq-tS0Dk",
   "metadata": {
    "colab": {
     "base_uri": "https://localhost:8080/"
    },
    "id": "ve3kDq-tS0Dk",
    "outputId": "325c424f-2ccd-43fc-d2d3-c79c797565b7"
   },
   "outputs": [],
   "source": [
    "EPOCHS = 10000\n",
    "model = BertClassifier()\n",
    "LR = 1e-6\n",
    "#best_model_path = f\"/content/drive/MyDrive/Lab4_Data/model_best.pth.tar\"\n",
    "#last_model_path = f\"/content/drive/MyDrive/Lab4_Data/model_last.pth.tar\"\n",
    "\n",
    "best_model_path = f\"/mnt/nvme0n1p2/Study/Term7/AI/Term7-Artificial-Intelligence-Assignments/lab4/data/model_best.pth.tar\"\n",
    "last_model_path = f\"/mnt/nvme0n1p2/Study/Term7/AI/Term7-Artificial-Intelligence-Assignments/lab4/data/model_last.pth.tar\"\n",
    "gc.collect()\n",
    "torch.cuda.empty_cache()\n",
    "train(model, df_train, df_val, train_dataloader, val_dataloader, LR, EPOCHS,batch_size, best_model_path, last_model_path)"
   ]
  },
  {
   "cell_type": "code",
   "execution_count": null,
   "id": "jn_h6v_DU158",
   "metadata": {
    "executionInfo": {
     "elapsed": 440,
     "status": "ok",
     "timestamp": 1673758263140,
     "user": {
      "displayName": "Hossam Elshamy",
      "userId": "02334821340504121354"
     },
     "user_tz": -120
    },
    "id": "jn_h6v_DU158"
   },
   "outputs": [],
   "source": [
    "from sklearn.metrics import confusion_matrix\n",
    "\n",
    "def evaluate(model, test_data, test_dataloader):\n",
    "\n",
    "    use_cuda = torch.cuda.is_available()\n",
    "    device = torch.device(\"cuda\" if use_cuda else \"cpu\")\n",
    "    final_confusion_matrix = np.zeros([2,2])\n",
    "\n",
    "    if use_cuda:\n",
    "\n",
    "        model = model.cuda()\n",
    "\n",
    "    total_acc_test = 0\n",
    "    model.eval()\n",
    "    with torch.no_grad():\n",
    "\n",
    "        for test_input, test_label in test_dataloader:\n",
    "              test_label = test_label.to(device)\n",
    "              # print(test_label)\n",
    "              mask = test_input['attention_mask'].to(device)\n",
    "              input_id = test_input['input_ids'].squeeze(1).to(device)\n",
    "              output = model(input_id, mask)\n",
    "              y_pred_tag = torch.round(output.argmax(dim=1))\n",
    "              # print(y_pred_tag)\n",
    "              for i in range(len(input_id)):\n",
    "                tokens = tokenizer.convert_ids_to_tokens(input_id[i])\n",
    "                text = tokenizer.convert_tokens_to_string(tokens)\n",
    "                text = text.replace('[CLS] ','').replace(' [SEP]  ','').replace('[PAD]','')\n",
    "                print(text + \" | Output : \"+ labels[y_pred_tag.cpu().data.numpy()[i]] + \" | Actual : \" + labels[test_label.cpu().data.numpy()[i]])\n",
    "              \n",
    "              acc = (y_pred_tag == test_label).sum()\n",
    "              total_acc_test += acc\n",
    "              final_confusion_matrix += confusion_matrix(test_label.cpu().data.numpy(), y_pred_tag.cpu().data.numpy())\n",
    "    \n",
    "    TP = final_confusion_matrix[0][0]\n",
    "    FP = final_confusion_matrix[0][1]\n",
    "    FN = final_confusion_matrix[1][0]\n",
    "    TN = final_confusion_matrix[1][1]\n",
    "    Percision = TP/(TP+FP)\n",
    "    Recall = TP/(TP+FN)\n",
    "    print(f'Test Accuracy: {total_acc_test / len(test_data): .3f}')\n",
    "    print(f'Percision : {Percision}')\n",
    "    print(f'Sensitivity (Recall) : {Recall}')\n",
    "    print(f'Specifity : {TN/(TN+FP)}')\n",
    "    print(f'F1 Score = {((2*Percision*Recall)/(Percision+Recall))}')\n",
    "    print('Confusion Matrix :')\n",
    "    print(final_confusion_matrix)\n",
    "    \n"
   ]
  },
  {
   "cell_type": "code",
   "execution_count": null,
   "id": "KXNwjO4L60M4",
   "metadata": {
    "colab": {
     "base_uri": "https://localhost:8080/"
    },
    "executionInfo": {
     "elapsed": 4370,
     "status": "ok",
     "timestamp": 1673752208200,
     "user": {
      "displayName": "Hossam Elshamy",
      "userId": "02334821340504121354"
     },
     "user_tz": -120
    },
    "id": "KXNwjO4L60M4",
    "outputId": "5040b7c1-8bea-476d-f270-cf3dfffce43a"
   },
   "outputs": [],
   "source": [
    "loaded_checkpoint = torch.load(best_model_path)\n",
    "model = BertClassifier()\n",
    "model.load_state_dict(loaded_checkpoint[\"model\"])"
   ]
  },
  {
   "cell_type": "code",
   "execution_count": null,
   "id": "LbcWzQOlZ6_O",
   "metadata": {
    "colab": {
     "base_uri": "https://localhost:8080/"
    },
    "executionInfo": {
     "elapsed": 4232,
     "status": "ok",
     "timestamp": 1673758271175,
     "user": {
      "displayName": "Hossam Elshamy",
      "userId": "02334821340504121354"
     },
     "user_tz": -120
    },
    "id": "LbcWzQOlZ6_O",
    "outputId": "0940c9c3-3c78-45b0-fbc9-fd57b1b483aa"
   },
   "outputs": [],
   "source": [
    "evaluate(model, df_test, test_dataloader)"
   ]
  }
 ],
 "metadata": {
  "accelerator": "GPU",
  "colab": {
   "provenance": []
  },
  "gpuClass": "standard",
  "kernelspec": {
   "display_name": "Python 3 (ipykernel)",
   "language": "python",
   "name": "python3"
  },
  "language_info": {
   "codemirror_mode": {
    "name": "ipython",
    "version": 3
   },
   "file_extension": ".py",
   "mimetype": "text/x-python",
   "name": "python",
   "nbconvert_exporter": "python",
   "pygments_lexer": "ipython3",
   "version": "3.8.10"
  },
  "vscode": {
   "interpreter": {
    "hash": "767d51c1340bd893661ea55ea3124f6de3c7a262a8b4abca0554b478b1e2ff90"
   }
  }
 },
 "nbformat": 4,
 "nbformat_minor": 5
}
