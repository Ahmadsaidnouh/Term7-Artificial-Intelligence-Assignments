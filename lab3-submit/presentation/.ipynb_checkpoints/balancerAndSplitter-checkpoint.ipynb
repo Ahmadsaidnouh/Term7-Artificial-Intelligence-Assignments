{
 "cells": [
  {
   "cell_type": "code",
   "execution_count": 1,
   "id": "03b0f20d",
   "metadata": {},
   "outputs": [],
   "source": [
    "import random\n",
    "from random import sample"
   ]
  },
  {
   "cell_type": "code",
   "execution_count": 2,
   "id": "455e5652",
   "metadata": {},
   "outputs": [],
   "source": [
    "sourceFile = open('data/magic04.data', 'r')"
   ]
  },
  {
   "cell_type": "code",
   "execution_count": 3,
   "id": "29f3088e",
   "metadata": {},
   "outputs": [],
   "source": [
    "data = sourceFile.readlines()\n",
    "sourceFile.close()\n",
    "data1 = data[0:12332].copy()  # contains 12332 gamma elements\n",
    "data2 = data[12332:].copy()  # contains 6688 hadron elements\n",
    "# print(data1[0:9])"
   ]
  },
  {
   "cell_type": "code",
   "execution_count": 4,
   "id": "3d6c7977",
   "metadata": {},
   "outputs": [],
   "source": [
    "random.shuffle(data1)\n",
    "random.shuffle(data1)\n",
    "# print(data1[0:10])"
   ]
  },
  {
   "cell_type": "code",
   "execution_count": 5,
   "id": "016717f9",
   "metadata": {},
   "outputs": [],
   "source": [
    "gammasTemp = data1[0:6688].copy()\n",
    "hadronsTemp = data2.copy()"
   ]
  },
  {
   "cell_type": "code",
   "execution_count": 6,
   "id": "9a9073ec",
   "metadata": {},
   "outputs": [],
   "source": [
    "gammas = [sub.replace('g', '1') for sub in gammasTemp]\n",
    "hadrons = [sub.replace('h', '0') for sub in hadronsTemp]"
   ]
  },
  {
   "cell_type": "code",
   "execution_count": 7,
   "id": "0c9ecfd1",
   "metadata": {},
   "outputs": [
    {
     "name": "stdout",
     "output_type": "stream",
     "text": [
      "6688\n",
      "6688\n",
      "['35.6234,9.6289,2.4997,0.4494,0.2769,38.612,31.4401,-7.1594,18.2432,220.773,1\\n', '98.9353,22.7219,3.3004,0.1898,0.1134,-61.1028,74.1378,12.3454,0.647,337.257,1\\n', '62.1376,23.3124,3.3193,0.2325,0.1215,38.1039,64.4663,6.6418,8.626,250.738,1\\n', '13.0019,10.9301,2.1319,0.7528,0.4613,-13.9186,6.0317,9.177,66.374,154.086,1\\n', '14.3194,11.6769,2.42,0.692,0.4886,3.2899,7.4801,-9.9465,17.439,107.639,1\\n', '36.9888,23.6138,3.1908,0.2256,0.1138,51.4269,23.8581,14.3367,5.2373,182.452,1\\n', '33.1171,21.9778,2.6702,0.3056,0.187,5.5666,-23.8338,17.9228,17.3965,222.218,1\\n', '12.6382,11.7899,2.2492,0.7099,0.3577,-15.1386,4.4607,11.4721,67.6997,213.918,1\\n', '98.8206,33.5086,3.5002,0.1511,0.077,-65.8277,86.5883,-25.9842,9.008,277.138,1\\n', '35.6588,23.4655,3.1214,0.2707,0.1471,7.5011,16.7297,16.8961,82.3558,50.4624,1\\n']\n",
      "['93.7035,37.9432,3.1454,0.168,0.1011,53.2566,89.0566,11.8175,14.1224,231.9028,0\\n', '102.0005,22.0017,3.3161,0.1064,0.0724,-54.0862,43.0553,-15.0647,88.4636,274.9392,0\\n', '100.2775,21.8784,3.11,0.312,0.1446,-48.1834,57.6547,-9.6341,20.7848,346.433,0\\n', '91.6558,18.8293,2.7097,0.4386,0.342,-52.6841,-97.8373,-17.0955,63.8834,130.7998,0\\n', '38.0195,12.6736,2.8747,0.4084,0.1928,-51.484,8.3471,7.962,24.5402,163.8674,0\\n', '215.323,67.8238,3.4396,0.1363,0.0725,298.614,-95.0773,-57.2209,76.924,243.064,0\\n', '160.068,87.0446,4.003,0.094,0.0508,-31.9238,-169.2824,-54.7814,10.2033,292.7602,0\\n', '19.7907,19.353,2.646,0.5332,0.2678,14.7705,4.8395,-9.4805,80.0427,63.7561,0\\n', '49.8986,12.6365,2.5172,0.3191,0.1626,-47.4998,17.2189,-8.8468,35.934,204.903,0\\n', '61.0387,9.9631,2.6232,0.3667,0.194,29.4891,50.759,-7.303,64.2081,243.605,0\\n']\n"
     ]
    }
   ],
   "source": [
    "print(len(gammas))\n",
    "print(len(hadrons))\n",
    "print(gammas[0:10])\n",
    "print(hadrons[0:10])"
   ]
  },
  {
   "cell_type": "code",
   "execution_count": 8,
   "id": "c5c92a03",
   "metadata": {},
   "outputs": [],
   "source": [
    "random.shuffle(gammas)\n",
    "random.shuffle(gammas)\n",
    "random.shuffle(gammas)\n",
    "gammas70 = gammas[0:4682]\n",
    "gammas30 = gammas[4682:]"
   ]
  },
  {
   "cell_type": "code",
   "execution_count": 9,
   "id": "ba0d1d19",
   "metadata": {},
   "outputs": [],
   "source": [
    "random.shuffle(hadrons)\n",
    "random.shuffle(hadrons)\n",
    "random.shuffle(hadrons)\n",
    "hadrons70 = hadrons[0:4682]\n",
    "hadrons30 = hadrons[4682:]"
   ]
  },
  {
   "cell_type": "code",
   "execution_count": 10,
   "id": "e6f4bedc",
   "metadata": {},
   "outputs": [
    {
     "name": "stdout",
     "output_type": "stream",
     "text": [
      "4682\n",
      "2006\n",
      "4682\n",
      "2006\n"
     ]
    }
   ],
   "source": [
    "print(len(gammas70))\n",
    "print(len(gammas30))\n",
    "print(len(hadrons70))\n",
    "print(len(hadrons30))"
   ]
  },
  {
   "cell_type": "code",
   "execution_count": 11,
   "id": "dfacb178",
   "metadata": {},
   "outputs": [],
   "source": [
    "trainList = gammas70 + hadrons70\n",
    "testList = gammas30 + hadrons30\n",
    "random.shuffle(trainList)  # training data must be shuffled\n",
    "random.shuffle(testList)  # testing data needs to be shuffled"
   ]
  },
  {
   "cell_type": "code",
   "execution_count": 12,
   "id": "917c1369",
   "metadata": {},
   "outputs": [],
   "source": [
    "with open('data/allData.csv', 'w') as allDataFile:\n",
    "    allDataFile.write('fLength,fWidth,fSize,fConc,fConc1,fAsym,fM3Long,fM3Trans,fAlpha,fDist,class\\n')\n",
    "    for line in gammas + hadrons:\n",
    "        allDataFile.write(line)\n",
    "\n",
    "with open('data/training.csv', 'w') as trainingFile:\n",
    "    trainingFile.write('fLength,fWidth,fSize,fConc,fConc1,fAsym,fM3Long,fM3Trans,fAlpha,fDist,class\\n')\n",
    "    for line in trainList:\n",
    "        trainingFile.write(line)\n",
    "\n",
    "with open('data/testing.csv', 'w') as testingFile:\n",
    "    testingFile.write('fLength,fWidth,fSize,fConc,fConc1,fAsym,fM3Long,fM3Trans,fAlpha,fDist,class\\n')\n",
    "    for line in testList:\n",
    "        testingFile.write(line)"
   ]
  },
  {
   "cell_type": "code",
   "execution_count": null,
   "id": "4addef08",
   "metadata": {},
   "outputs": [],
   "source": []
  }
 ],
 "metadata": {
  "kernelspec": {
   "display_name": "Python 3 (ipykernel)",
   "language": "python",
   "name": "python3"
  },
  "language_info": {
   "codemirror_mode": {
    "name": "ipython",
    "version": 3
   },
   "file_extension": ".py",
   "mimetype": "text/x-python",
   "name": "python",
   "nbconvert_exporter": "python",
   "pygments_lexer": "ipython3",
   "version": "3.10.3"
  }
 },
 "nbformat": 4,
 "nbformat_minor": 5
}
