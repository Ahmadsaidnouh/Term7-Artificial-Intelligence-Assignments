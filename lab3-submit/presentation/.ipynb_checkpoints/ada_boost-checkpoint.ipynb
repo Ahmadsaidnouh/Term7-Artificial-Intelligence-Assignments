{
 "cells": [
  {
   "cell_type": "code",
   "execution_count": 22,
   "id": "fe459e85",
   "metadata": {},
   "outputs": [],
   "source": [
    "import numpy as np\n",
    "import pandas as pd\n",
    "import matplotlib.pyplot as plt\n",
    "from sklearn.preprocessing import MinMaxScaler\n",
    "from sklearn.ensemble import AdaBoostClassifier\n",
    "from sklearn.model_selection import StratifiedKFold, cross_val_score\n",
    "from sklearn.metrics import classification_report, confusion_matrix, precision_score, recall_score, f1_score, accuracy_score"
   ]
  },
  {
   "cell_type": "code",
   "execution_count": 23,
   "id": "6e9ab5fb",
   "metadata": {},
   "outputs": [],
   "source": [
    "trainingSet = pd.read_csv('data/training.csv')  # read the data\n",
    "testingSet = pd.read_csv('data/testing.csv')  # read the data"
   ]
  },
  {
   "cell_type": "code",
   "execution_count": 24,
   "id": "b9b14041",
   "metadata": {},
   "outputs": [],
   "source": [
    "# print(trainingSet.head(10))  # displays the first 5 elements in training data\n",
    "# print(testingSet.head(10))  # displays the first 5 elements in testing data"
   ]
  },
  {
   "cell_type": "code",
   "execution_count": 25,
   "id": "8d4dd94c",
   "metadata": {},
   "outputs": [],
   "source": [
    "# training data\n",
    "X_train = trainingSet.iloc[:, :-1]  # X_train contains the features only without the class\n",
    "y_train = trainingSet.iloc[:, -1]  # Y_train contains the class only without the features"
   ]
  },
  {
   "cell_type": "code",
   "execution_count": 26,
   "id": "8f7fb865",
   "metadata": {},
   "outputs": [],
   "source": [
    "# testing data\n",
    "X_test = testingSet.iloc[:, :-1]  # X_test contains the features only without the class\n",
    "y_test = testingSet.iloc[:, -1]  # Y_test contains the class only without the features"
   ]
  },
  {
   "cell_type": "code",
   "execution_count": 27,
   "id": "28e55a49",
   "metadata": {},
   "outputs": [],
   "source": [
    "# print(trainingSet.head(5))  # displays the first 5 elements in training data\n",
    "# print(X_train.head(5))  # displays the features of first 5 elements in training data\n",
    "# print(y_train.head(5))  # displays the class of first 5 elements in training data"
   ]
  },
  {
   "cell_type": "code",
   "execution_count": 28,
   "id": "aeb9fe84",
   "metadata": {},
   "outputs": [],
   "source": [
    "# print(testingSet.head(5))  # displays the first 5 elements in testing data\n",
    "# print(X_test.head(5))  # displays the features of first 5 elements in testing data\n",
    "# print(y_test.head(5))  # displays the class of first 5 elements in testing data"
   ]
  },
  {
   "cell_type": "code",
   "execution_count": 29,
   "id": "5312c615",
   "metadata": {},
   "outputs": [],
   "source": [
    "# print(len(X_train))\n",
    "# print(len(X_test))\n",
    "# print(len(y_train))\n",
    "# print(len(y_test))"
   ]
  },
  {
   "cell_type": "code",
   "execution_count": 30,
   "id": "6241d2ab",
   "metadata": {},
   "outputs": [],
   "source": [
    "scaler = MinMaxScaler(copy=True, feature_range=(0,1))\n",
    "scaler.fit(X_train)\n",
    "X_train = scaler.transform(X_train)\n",
    "X_test = scaler.transform(X_test)"
   ]
  },
  {
   "cell_type": "markdown",
   "id": "229339c8",
   "metadata": {},
   "source": [
    "## Cross validation range(1,5000) with step 1000"
   ]
  },
  {
   "cell_type": "code",
   "execution_count": 31,
   "id": "53621453",
   "metadata": {},
   "outputs": [],
   "source": [
    "# n_scores = []\n",
    "# stratifiedKF = StratifiedKFold(n_splits=10)\n",
    "# for n in range(1,5000,1000):\n",
    "#     ada = AdaBoostClassifier(n_estimators=n)\n",
    "#     score = cross_val_score(ada, X_train, y_train, cv=stratifiedKF, scoring='accuracy')\n",
    "#     n_scores.append(score.mean())\n",
    "#     print(\"N = \" + str(n) + \" and mean score from 10 folds is \" + str(score.mean()))"
   ]
  },
  {
   "cell_type": "code",
   "execution_count": 32,
   "id": "d014bb84",
   "metadata": {},
   "outputs": [],
   "source": [
    "# plt.figure(figsize=(12,8))\n",
    "# plt.plot(range(1,5000,1000), n_scores, color='red', linestyle='dashed', marker='o',\n",
    "#         markerfacecolor='blue', markersize=10)\n",
    "# plt.title('Accuracy Rate for N-Estimators Value')\n",
    "# plt.xlabel('N-Estimators Value')\n",
    "# plt.ylabel('Accuracy')"
   ]
  },
  {
   "cell_type": "markdown",
   "id": "147c5146",
   "metadata": {},
   "source": [
    "## Cross validation range(1,1000) with step 30"
   ]
  },
  {
   "cell_type": "code",
   "execution_count": 33,
   "id": "1c6b7f8d",
   "metadata": {},
   "outputs": [],
   "source": [
    "# n_scores = []\n",
    "# stratifiedKF = StratifiedKFold(n_splits=10)\n",
    "# for n in range(1,1000,30):\n",
    "#     ada = AdaBoostClassifier(n_estimators=n)\n",
    "#     score = cross_val_score(ada, X_train, y_train, cv=stratifiedKF, scoring='accuracy')\n",
    "#     n_scores.append(score.mean())\n",
    "#     print(\"N = \" + str(n) + \" and mean score from 10 folds is \" + str(score.mean()))"
   ]
  },
  {
   "cell_type": "code",
   "execution_count": 34,
   "id": "73626e23",
   "metadata": {},
   "outputs": [],
   "source": [
    "# plt.figure(figsize=(12,8))\n",
    "# plt.plot(range(1,1000,30), n_scores, color='red', linestyle='dashed', marker='o',\n",
    "#         markerfacecolor='blue', markersize=10)\n",
    "# plt.title('Accuracy Rate for N-Estimators Value')\n",
    "# plt.xlabel('N-Estimators Value')\n",
    "# plt.ylabel('Accuracy')"
   ]
  },
  {
   "cell_type": "markdown",
   "id": "33a08a53",
   "metadata": {},
   "source": [
    "## Cross validation range(100,500) with step 20"
   ]
  },
  {
   "cell_type": "code",
   "execution_count": 12,
   "id": "e4ae69a1",
   "metadata": {},
   "outputs": [
    {
     "name": "stdout",
     "output_type": "stream",
     "text": [
      "N = 100 and mean score from 10 folds is 0.8240073338259035\n",
      "N = 120 and mean score from 10 folds is 0.8231524049293526\n",
      "N = 140 and mean score from 10 folds is 0.8237940006750039\n",
      "N = 160 and mean score from 10 folds is 0.8235803254613285\n",
      "N = 180 and mean score from 10 folds is 0.823688759361118\n",
      "N = 200 and mean score from 10 folds is 0.8231542292641546\n",
      "N = 220 and mean score from 10 folds is 0.8244361665252807\n",
      "N = 240 and mean score from 10 folds is 0.8231549133897053\n",
      "N = 260 and mean score from 10 folds is 0.8213395862408669\n",
      "N = 280 and mean score from 10 folds is 0.8218732041704293\n",
      "N = 300 and mean score from 10 folds is 0.8221932609072417\n",
      "N = 320 and mean score from 10 folds is 0.821552349287141\n",
      "N = 340 and mean score from 10 folds is 0.8208043720183527\n",
      "N = 360 and mean score from 10 folds is 0.8209104114787145\n",
      "N = 380 and mean score from 10 folds is 0.8216588448312034\n",
      "N = 400 and mean score from 10 folds is 0.821659414935829\n",
      "N = 420 and mean score from 10 folds is 0.8210186173366536\n",
      "N = 440 and mean score from 10 folds is 0.8218727480867288\n",
      "N = 460 and mean score from 10 folds is 0.8217663665635918\n",
      "N = 480 and mean score from 10 folds is 0.8204847713652409\n"
     ]
    }
   ],
   "source": [
    "n_scores = []\n",
    "stratifiedKF = StratifiedKFold(n_splits=10)\n",
    "for n in range(100,500,20):\n",
    "    ada = AdaBoostClassifier(n_estimators=n)\n",
    "    score = cross_val_score(ada, X_train, y_train, cv=stratifiedKF, scoring='accuracy')\n",
    "    n_scores.append(score.mean())\n",
    "    print(\"N = \" + str(n) + \" and mean score from 10 folds is \" + str(score.mean()))"
   ]
  },
  {
   "cell_type": "code",
   "execution_count": 35,
   "id": "098354d2",
   "metadata": {},
   "outputs": [
    {
     "data": {
      "text/plain": [
       "Text(0, 0.5, 'Accuracy')"
      ]
     },
     "execution_count": 35,
     "metadata": {},
     "output_type": "execute_result"
    },
    {
     "data": {
      "image/png": "[encoded data removed]",
      "text/plain": [
       "<Figure size 1200x800 with 1 Axes>"
      ]
     },
     "metadata": {},
     "output_type": "display_data"
    }
   ],
   "source": [
    "plt.figure(figsize=(12,8))\n",
    "plt.plot(range(100,500,20), n_scores, color='red', linestyle='dashed', marker='o',\n",
    "        markerfacecolor='blue', markersize=10)\n",
    "plt.title('Accuracy Rate for N-Estimators Value')\n",
    "plt.xlabel('N-Estimators Value')\n",
    "plt.ylabel('Accuracy')"
   ]
  },
  {
   "cell_type": "code",
   "execution_count": 36,
   "id": "1c83a29f",
   "metadata": {},
   "outputs": [
    {
     "name": "stdout",
     "output_type": "stream",
     "text": [
      "220 0.8244361665252807\n"
     ]
    }
   ],
   "source": [
    "maxAcc = max(n_scores)\n",
    "max_index = n_scores.index(maxAcc)\n",
    "n_est = 100 + 20*max_index\n",
    "print(n_est, n_scores[max_index])"
   ]
  },
  {
   "cell_type": "markdown",
   "id": "43d280ce",
   "metadata": {},
   "source": [
    "## Build the model using the tuned parameter"
   ]
  },
  {
   "cell_type": "code",
   "execution_count": 43,
   "id": "586ca842",
   "metadata": {},
   "outputs": [
    {
     "data": {
      "text/html": [
       "<style>#sk-container-id-3 {color: black;background-color: white;}#sk-container-id-3 pre{padding: 0;}#sk-container-id-3 div.sk-toggleable {background-color: white;}#sk-container-id-3 label.sk-toggleable__label {cursor: pointer;display: block;width: 100%;margin-bottom: 0;padding: 0.3em;box-sizing: border-box;text-align: center;}#sk-container-id-3 label.sk-toggleable__label-arrow:before {content: \"▸\";float: left;margin-right: 0.25em;color: #696969;}#sk-container-id-3 label.sk-toggleable__label-arrow:hover:before {color: black;}#sk-container-id-3 div.sk-estimator:hover label.sk-toggleable__label-arrow:before {color: black;}#sk-container-id-3 div.sk-toggleable__content {max-height: 0;max-width: 0;overflow: hidden;text-align: left;background-color: #f0f8ff;}#sk-container-id-3 div.sk-toggleable__content pre {margin: 0.2em;color: black;border-radius: 0.25em;background-color: #f0f8ff;}#sk-container-id-3 input.sk-toggleable__control:checked~div.sk-toggleable__content {max-height: 200px;max-width: 100%;overflow: auto;}#sk-container-id-3 input.sk-toggleable__control:checked~label.sk-toggleable__label-arrow:before {content: \"▾\";}#sk-container-id-3 div.sk-estimator input.sk-toggleable__control:checked~label.sk-toggleable__label {background-color: #d4ebff;}#sk-container-id-3 div.sk-label input.sk-toggleable__control:checked~label.sk-toggleable__label {background-color: #d4ebff;}#sk-container-id-3 input.sk-hidden--visually {border: 0;clip: rect(1px 1px 1px 1px);clip: rect(1px, 1px, 1px, 1px);height: 1px;margin: -1px;overflow: hidden;padding: 0;position: absolute;width: 1px;}#sk-container-id-3 div.sk-estimator {font-family: monospace;background-color: #f0f8ff;border: 1px dotted black;border-radius: 0.25em;box-sizing: border-box;margin-bottom: 0.5em;}#sk-container-id-3 div.sk-estimator:hover {background-color: #d4ebff;}#sk-container-id-3 div.sk-parallel-item::after {content: \"\";width: 100%;border-bottom: 1px solid gray;flex-grow: 1;}#sk-container-id-3 div.sk-label:hover label.sk-toggleable__label {background-color: #d4ebff;}#sk-container-id-3 div.sk-serial::before {content: \"\";position: absolute;border-left: 1px solid gray;box-sizing: border-box;top: 0;bottom: 0;left: 50%;z-index: 0;}#sk-container-id-3 div.sk-serial {display: flex;flex-direction: column;align-items: center;background-color: white;padding-right: 0.2em;padding-left: 0.2em;position: relative;}#sk-container-id-3 div.sk-item {position: relative;z-index: 1;}#sk-container-id-3 div.sk-parallel {display: flex;align-items: stretch;justify-content: center;background-color: white;position: relative;}#sk-container-id-3 div.sk-item::before, #sk-container-id-3 div.sk-parallel-item::before {content: \"\";position: absolute;border-left: 1px solid gray;box-sizing: border-box;top: 0;bottom: 0;left: 50%;z-index: -1;}#sk-container-id-3 div.sk-parallel-item {display: flex;flex-direction: column;z-index: 1;position: relative;background-color: white;}#sk-container-id-3 div.sk-parallel-item:first-child::after {align-self: flex-end;width: 50%;}#sk-container-id-3 div.sk-parallel-item:last-child::after {align-self: flex-start;width: 50%;}#sk-container-id-3 div.sk-parallel-item:only-child::after {width: 0;}#sk-container-id-3 div.sk-dashed-wrapped {border: 1px dashed gray;margin: 0 0.4em 0.5em 0.4em;box-sizing: border-box;padding-bottom: 0.4em;background-color: white;}#sk-container-id-3 div.sk-label label {font-family: monospace;font-weight: bold;display: inline-block;line-height: 1.2em;}#sk-container-id-3 div.sk-label-container {text-align: center;}#sk-container-id-3 div.sk-container {/* jupyter's `normalize.less` sets `[hidden] { display: none; }` but bootstrap.min.css set `[hidden] { display: none !important; }` so we also need the `!important` here to be able to override the default hidden behavior on the sphinx rendered scikit-learn.org. See: https://github.com/scikit-learn/scikit-learn/issues/21755 */display: inline-block !important;position: relative;}#sk-container-id-3 div.sk-text-repr-fallback {display: none;}</style><div id=\"sk-container-id-3\" class=\"sk-top-container\"><div class=\"sk-text-repr-fallback\"><pre>AdaBoostClassifier(n_estimators=220)</pre><b>In a Jupyter environment, please rerun this cell to show the HTML representation or trust the notebook. <br />On GitHub, the HTML representation is unable to render, please try loading this page with nbviewer.org.</b></div><div class=\"sk-container\" hidden><div class=\"sk-item\"><div class=\"sk-estimator sk-toggleable\"><input class=\"sk-toggleable__control sk-hidden--visually\" id=\"sk-estimator-id-3\" type=\"checkbox\" checked><label for=\"sk-estimator-id-3\" class=\"sk-toggleable__label sk-toggleable__label-arrow\">AdaBoostClassifier</label><div class=\"sk-toggleable__content\"><pre>AdaBoostClassifier(n_estimators=220)</pre></div></div></div></div></div>"
      ],
      "text/plain": [
       "AdaBoostClassifier(n_estimators=220)"
      ]
     },
     "execution_count": 43,
     "metadata": {},
     "output_type": "execute_result"
    }
   ],
   "source": [
    "ada = AdaBoostClassifier(n_estimators=n_est)\n",
    "ada.fit(X_train, y_train)"
   ]
  },
  {
   "cell_type": "code",
   "execution_count": 44,
   "id": "b0aefeb2",
   "metadata": {},
   "outputs": [],
   "source": [
    "y_pred = ada.predict(X_test)"
   ]
  },
  {
   "cell_type": "code",
   "execution_count": 45,
   "id": "ad8fa230",
   "metadata": {},
   "outputs": [
    {
     "name": "stdout",
     "output_type": "stream",
     "text": [
      "              precision    recall  f1-score   support\n",
      "\n",
      "           0       0.82      0.83      0.83      2006\n",
      "           1       0.83      0.82      0.83      2006\n",
      "\n",
      "    accuracy                           0.83      4012\n",
      "   macro avg       0.83      0.83      0.83      4012\n",
      "weighted avg       0.83      0.83      0.83      4012\n",
      "\n"
     ]
    }
   ],
   "source": [
    "print(classification_report(y_test, y_pred))"
   ]
  },
  {
   "cell_type": "code",
   "execution_count": 46,
   "id": "929e9c3c",
   "metadata": {},
   "outputs": [],
   "source": [
    "cm = confusion_matrix(y_test, y_pred)"
   ]
  },
  {
   "cell_type": "code",
   "execution_count": 52,
   "id": "291c18d9",
   "metadata": {},
   "outputs": [
    {
     "data": {
      "text/html": [
       "<div>\n",
       "<style scoped>\n",
       "    .dataframe tbody tr th:only-of-type {\n",
       "        vertical-align: middle;\n",
       "    }\n",
       "\n",
       "    .dataframe tbody tr th {\n",
       "        vertical-align: top;\n",
       "    }\n",
       "\n",
       "    .dataframe thead th {\n",
       "        text-align: right;\n",
       "    }\n",
       "</style>\n",
       "<table border=\"1\" class=\"dataframe\">\n",
       "  <thead>\n",
       "    <tr style=\"text-align: right;\">\n",
       "      <th></th>\n",
       "      <th>Predicted h</th>\n",
       "      <th>Predicted g</th>\n",
       "    </tr>\n",
       "  </thead>\n",
       "  <tbody>\n",
       "    <tr>\n",
       "      <th>Actual h</th>\n",
       "      <td>1668</td>\n",
       "      <td>338</td>\n",
       "    </tr>\n",
       "    <tr>\n",
       "      <th>Actual g</th>\n",
       "      <td>360</td>\n",
       "      <td>1646</td>\n",
       "    </tr>\n",
       "  </tbody>\n",
       "</table>\n",
       "</div>"
      ],
      "text/plain": [
       "          Predicted h  Predicted g\n",
       "Actual h         1668          338\n",
       "Actual g          360         1646"
      ]
     },
     "execution_count": 52,
     "metadata": {},
     "output_type": "execute_result"
    }
   ],
   "source": [
    "labels = ['h','g']\n",
    "columns = [f'Predicted {label}' for label in labels]\n",
    "index = [f'Actual {label}' for label in labels]\n",
    "table = pd.DataFrame(cm, columns=columns, index=index)\n",
    "table"
   ]
  },
  {
   "cell_type": "code",
   "execution_count": 48,
   "id": "8dbb9d34",
   "metadata": {},
   "outputs": [
    {
     "name": "stdout",
     "output_type": "stream",
     "text": [
      "model_accuracy =  0.8260219341974078\n",
      "model_precision =  0.8296370967741935\n",
      "model_recall =  0.8205383848454636\n",
      "model_specificity =  0.8315054835493519\n",
      "model_f1 =  0.825062656641604\n"
     ]
    }
   ],
   "source": [
    "acc = accuracy_score(y_test, y_pred)\n",
    "prec = precision_score(y_test, y_pred)\n",
    "recall = recall_score(y_test, y_pred)\n",
    "specificity = cm[0,0]/(cm[0,0] + cm[0,1])\n",
    "f1 = f1_score(y_test, y_pred)\n",
    "\n",
    "print('model_accuracy = ', acc)\n",
    "print('model_precision = ', prec)\n",
    "print('model_recall = ', recall)\n",
    "print('model_specificity = ', specificity)\n",
    "print('model_f1 = ', f1)"
   ]
  },
  {
   "cell_type": "code",
   "execution_count": null,
   "id": "ba3394b7",
   "metadata": {},
   "outputs": [],
   "source": []
  }
 ],
 "metadata": {
  "kernelspec": {
   "display_name": "Python 3 (ipykernel)",
   "language": "python",
   "name": "python3"
  },
  "language_info": {
   "codemirror_mode": {
    "name": "ipython",
    "version": 3
   },
   "file_extension": ".py",
   "mimetype": "text/x-python",
   "name": "python",
   "nbconvert_exporter": "python",
   "pygments_lexer": "ipython3",
   "version": "3.10.3"
  }
 },
 "nbformat": 4,
 "nbformat_minor": 5
}
