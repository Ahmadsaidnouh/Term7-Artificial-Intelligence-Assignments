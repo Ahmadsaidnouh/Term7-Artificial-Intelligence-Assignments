{
 "cells": [
  {
   "cell_type": "code",
   "execution_count": 2,
   "id": "e57bef51",
   "metadata": {},
   "outputs": [],
   "source": [
    "import numpy as np\n",
    "import pandas as pd\n",
    "import matplotlib.pyplot as plt"
   ]
  },
  {
   "cell_type": "code",
   "execution_count": 3,
   "id": "f4d2a537",
   "metadata": {},
   "outputs": [],
   "source": [
    "trainingSet = pd.read_csv('data/training.csv')  # read the data\n",
    "testingSet = pd.read_csv('data/testing.csv')  # read the data"
   ]
  },
  {
   "cell_type": "code",
   "execution_count": 3,
   "id": "a13d36b1",
   "metadata": {},
   "outputs": [
    {
     "name": "stdout",
     "output_type": "stream",
     "text": [
      "    fLength    fWidth   fSize   fConc  fConc1     fAsym   fM3Long  fM3Trans  \\\n",
      "0   81.1521   29.1526  3.1840  0.1820  0.1064   31.1880   17.6998   14.7665   \n",
      "1   94.7763   61.4016  3.4689  0.1459  0.1014  -45.5700  -47.2513  -38.1709   \n",
      "2   97.7238   23.5901  2.6981  0.4148  0.2194 -102.4960   55.8828    7.1291   \n",
      "3  121.7113   57.3430  3.1357  0.2242  0.0910   83.8548  125.1620   24.6850   \n",
      "4   30.1451   20.7493  3.0537  0.3093  0.1639   -3.3422   25.0588   -7.3933   \n",
      "5   23.0429   18.0175  2.7324  0.3296  0.1769   -6.7698  -13.8640   10.4222   \n",
      "6   81.0307   37.1452  2.9312  0.2578  0.1470   67.3503   75.7769  -32.2424   \n",
      "7   89.3160   24.3075  2.9348  0.1534  0.0808  -33.6276  -90.2728   10.6270   \n",
      "8   25.3794   10.3391  2.4306  0.4638  0.2430   -4.5621  -19.9611    7.0176   \n",
      "9  178.3050  115.8790  3.5584  0.1730  0.0925 -151.1350 -170.3810  -52.7482   \n",
      "\n",
      "    fAlpha     fDist  class  \n",
      "0   4.2480  270.3090      1  \n",
      "1   3.8208  362.2807     -1  \n",
      "2  15.1620  224.2410      1  \n",
      "3  10.1712  285.6077     -1  \n",
      "4  11.9830  192.0650      1  \n",
      "5   0.3260  175.7160      1  \n",
      "6  28.5080  180.9390      1  \n",
      "7  38.4332   89.1789     -1  \n",
      "8  30.0704  185.9690      1  \n",
      "9  53.1597  224.6670     -1  \n",
      "    fLength   fWidth   fSize   fConc  fConc1    fAsym   fM3Long  fM3Trans  \\\n",
      "0   52.2332  16.7104  2.8573  0.2139  0.1076   2.3464   32.1268  -11.2162   \n",
      "1  153.6790  83.7294  3.4749  0.1143  0.0581  72.7273  134.2770  -79.2455   \n",
      "2   42.0269  22.3989  2.8454  0.2541  0.1478   4.2789  -25.6141  -19.1254   \n",
      "3   24.8935  13.5971  2.3512  0.5167  0.3051   7.0421   12.2803  -12.7743   \n",
      "4   21.5488   6.8176  2.0774  0.7113  0.4142  22.8609   12.9205    6.4543   \n",
      "5   40.5065  24.3183  3.0385  0.2298  0.1173  -7.9624   23.8697  -27.5634   \n",
      "6   78.1974  32.8985  2.7187  0.2620  0.1418 -36.9597  -99.9660   22.4928   \n",
      "7   48.5814  15.7596  3.0336  0.3276  0.1772  41.9293   48.3135    9.3497   \n",
      "8   87.0611  30.2020  3.2249  0.2901  0.1808  48.6755  -33.3573  -21.6704   \n",
      "9   16.7945  10.1567  2.2568  0.7770  0.3899   9.2820   -3.9097   14.0172   \n",
      "\n",
      "    fAlpha     fDist  class  \n",
      "0  43.7590  250.1750     -1  \n",
      "1  29.1256   30.6439     -1  \n",
      "2   2.4092  152.0810      1  \n",
      "3  24.2050   84.4693      1  \n",
      "4  23.9321  108.5200      1  \n",
      "5  78.8798  230.3111     -1  \n",
      "6  27.5832  149.7632     -1  \n",
      "7   9.4002  266.1200      1  \n",
      "8   1.5388  408.4530      1  \n",
      "9  47.2783   66.7590     -1  \n"
     ]
    }
   ],
   "source": [
    "print(trainingSet.head(10))  # displays the first 5 elements in training data\n",
    "print(testingSet.head(10))  # displays the first 5 elements in testing data"
   ]
  },
  {
   "cell_type": "code",
   "execution_count": 5,
   "id": "23d641d6",
   "metadata": {},
   "outputs": [],
   "source": [
    "X_train = trainingSet.iloc[:, :-1]  # X_train contains the features only without the class\n",
    "y_train = trainingSet.iloc[:, -1]  # Y_train contains the class only without the features\n",
    "X_test = testingSet.iloc[:, :-1]  # X_test contains the features only without the class\n",
    "y_test = testingSet.iloc[:, -1]  # Y_test contains the class only without the features"
   ]
  },
  {
   "cell_type": "code",
   "execution_count": 6,
   "id": "988223c1",
   "metadata": {},
   "outputs": [
    {
     "name": "stdout",
     "output_type": "stream",
     "text": [
      "    fLength   fWidth   fSize   fConc  fConc1     fAsym   fM3Long  fM3Trans  \\\n",
      "0   81.1521  29.1526  3.1840  0.1820  0.1064   31.1880   17.6998   14.7665   \n",
      "1   94.7763  61.4016  3.4689  0.1459  0.1014  -45.5700  -47.2513  -38.1709   \n",
      "2   97.7238  23.5901  2.6981  0.4148  0.2194 -102.4960   55.8828    7.1291   \n",
      "3  121.7113  57.3430  3.1357  0.2242  0.0910   83.8548  125.1620   24.6850   \n",
      "4   30.1451  20.7493  3.0537  0.3093  0.1639   -3.3422   25.0588   -7.3933   \n",
      "\n",
      "    fAlpha     fDist  class  \n",
      "0   4.2480  270.3090      1  \n",
      "1   3.8208  362.2807     -1  \n",
      "2  15.1620  224.2410      1  \n",
      "3  10.1712  285.6077     -1  \n",
      "4  11.9830  192.0650      1  \n",
      "    fLength   fWidth   fSize   fConc  fConc1     fAsym   fM3Long  fM3Trans  \\\n",
      "0   81.1521  29.1526  3.1840  0.1820  0.1064   31.1880   17.6998   14.7665   \n",
      "1   94.7763  61.4016  3.4689  0.1459  0.1014  -45.5700  -47.2513  -38.1709   \n",
      "2   97.7238  23.5901  2.6981  0.4148  0.2194 -102.4960   55.8828    7.1291   \n",
      "3  121.7113  57.3430  3.1357  0.2242  0.0910   83.8548  125.1620   24.6850   \n",
      "4   30.1451  20.7493  3.0537  0.3093  0.1639   -3.3422   25.0588   -7.3933   \n",
      "\n",
      "    fAlpha     fDist  \n",
      "0   4.2480  270.3090  \n",
      "1   3.8208  362.2807  \n",
      "2  15.1620  224.2410  \n",
      "3  10.1712  285.6077  \n",
      "4  11.9830  192.0650  \n",
      "0    1\n",
      "1   -1\n",
      "2    1\n",
      "3   -1\n",
      "4    1\n",
      "Name: class, dtype: int64\n"
     ]
    }
   ],
   "source": [
    "print(trainingSet.head(5))  # displays the first 5 elements in training data\n",
    "print(X_train.head(5))  # displays the features of first 5 elements in training data\n",
    "print(y_train.head(5))  # displays the class of first 5 elements in training data\n"
   ]
  },
  {
   "cell_type": "code",
   "execution_count": 7,
   "id": "0e702eca",
   "metadata": {},
   "outputs": [
    {
     "name": "stdout",
     "output_type": "stream",
     "text": [
      "    fLength   fWidth   fSize   fConc  fConc1    fAsym   fM3Long  fM3Trans  \\\n",
      "0   52.2332  16.7104  2.8573  0.2139  0.1076   2.3464   32.1268  -11.2162   \n",
      "1  153.6790  83.7294  3.4749  0.1143  0.0581  72.7273  134.2770  -79.2455   \n",
      "2   42.0269  22.3989  2.8454  0.2541  0.1478   4.2789  -25.6141  -19.1254   \n",
      "3   24.8935  13.5971  2.3512  0.5167  0.3051   7.0421   12.2803  -12.7743   \n",
      "4   21.5488   6.8176  2.0774  0.7113  0.4142  22.8609   12.9205    6.4543   \n",
      "\n",
      "    fAlpha     fDist  class  \n",
      "0  43.7590  250.1750     -1  \n",
      "1  29.1256   30.6439     -1  \n",
      "2   2.4092  152.0810      1  \n",
      "3  24.2050   84.4693      1  \n",
      "4  23.9321  108.5200      1  \n",
      "    fLength   fWidth   fSize   fConc  fConc1    fAsym   fM3Long  fM3Trans  \\\n",
      "0   52.2332  16.7104  2.8573  0.2139  0.1076   2.3464   32.1268  -11.2162   \n",
      "1  153.6790  83.7294  3.4749  0.1143  0.0581  72.7273  134.2770  -79.2455   \n",
      "2   42.0269  22.3989  2.8454  0.2541  0.1478   4.2789  -25.6141  -19.1254   \n",
      "3   24.8935  13.5971  2.3512  0.5167  0.3051   7.0421   12.2803  -12.7743   \n",
      "4   21.5488   6.8176  2.0774  0.7113  0.4142  22.8609   12.9205    6.4543   \n",
      "\n",
      "    fAlpha     fDist  \n",
      "0  43.7590  250.1750  \n",
      "1  29.1256   30.6439  \n",
      "2   2.4092  152.0810  \n",
      "3  24.2050   84.4693  \n",
      "4  23.9321  108.5200  \n",
      "0   -1\n",
      "1   -1\n",
      "2    1\n",
      "3    1\n",
      "4    1\n",
      "Name: class, dtype: int64\n"
     ]
    }
   ],
   "source": [
    "print(testingSet.head(5))  # displays the first 5 elements in testing data\n",
    "print(X_test.head(5))  # displays the features of first 5 elements in testing data\n",
    "print(y_test.head(5))  # displays the class of first 5 elements in testing data"
   ]
  },
  {
   "cell_type": "code",
   "execution_count": 8,
   "id": "2d51193c",
   "metadata": {},
   "outputs": [
    {
     "name": "stdout",
     "output_type": "stream",
     "text": [
      "9364\n",
      "4012\n",
      "9364\n",
      "4012\n"
     ]
    }
   ],
   "source": [
    "print(len(X_train))\n",
    "print(len(X_test))\n",
    "print(len(y_train))\n",
    "print(len(y_test))"
   ]
  },
  {
   "cell_type": "code",
   "execution_count": 9,
   "id": "1ededcef",
   "metadata": {},
   "outputs": [],
   "source": [
    "from sklearn.preprocessing import StandardScaler\n",
    "scaler = StandardScaler()\n",
    "scaler.fit(X_train)\n",
    "X_train = scaler.transform(X_train)\n",
    "X_test = scaler.transform(X_test)\n",
    "# y_train = y_train.to_numpy()\n",
    "# y_test = y_test.to_numpy()"
   ]
  },
  {
   "cell_type": "code",
   "execution_count": 10,
   "id": "7d6bc290",
   "metadata": {},
   "outputs": [
    {
     "name": "stdout",
     "output_type": "stream",
     "text": [
      "<class 'numpy.ndarray'>\n",
      "<class 'numpy.ndarray'>\n",
      "<class 'pandas.core.series.Series'>\n",
      "<class 'pandas.core.series.Series'>\n"
     ]
    }
   ],
   "source": [
    "print(type(X_train))\n",
    "print(type(X_test))\n",
    "print(type(y_train))\n",
    "print(type(y_test))"
   ]
  },
  {
   "cell_type": "code",
   "execution_count": 11,
   "id": "aee0171b",
   "metadata": {},
   "outputs": [
    {
     "name": "stdout",
     "output_type": "stream",
     "text": [
      "<class 'numpy.ndarray'>\n",
      "<class 'pandas.core.series.Series'>\n",
      "<class 'pandas.core.series.Series'>\n",
      "<class 'numpy.ndarray'>\n"
     ]
    }
   ],
   "source": [
    "X_Ktrain = []\n",
    "y_Ktrain = []\n",
    "k = 4\n",
    "step = len(X_train)/k\n",
    "step = np.ceil(step)\n",
    "step = int(step)\n",
    "for i in range(0,len(X_train),step):\n",
    "    X_Ktrain.append(X_train[i:i+step])\n",
    "    y_Ktrain.append(y_train[i:i+step])\n",
    "    \n",
    "\n",
    "print(type(X_train))\n",
    "print(type(y_train))\n",
    "print(type(y_Ktrain[0]))\n",
    "print(type(X_Ktrain[0]))"
   ]
  },
  {
   "cell_type": "code",
   "execution_count": 14,
   "id": "c19885e6",
   "metadata": {},
   "outputs": [
    {
     "name": "stdout",
     "output_type": "stream",
     "text": [
      "0.8543357539513029\n"
     ]
    }
   ],
   "source": [
    "from sklearn.neighbors import KNeighborsClassifier\n",
    "from sklearn.metrics import mean_squared_error\n",
    "KNN = KNeighborsClassifier(n_neighbors=5)\n",
    "KNN.fit(X_Ktrain[0], y_Ktrain[0])\n",
    "y_true = y_Ktrain[1].tolist()\n",
    "y_pred = KNN.predict(X_Ktrain[1]).tolist()\n",
    "\n",
    "# y_true = [3,-0.5,2]\n",
    "# y_pred = [2.5,0.0,2]\n",
    "# y_true = ['a','b']\n",
    "# y_pred = ['a','a']\n",
    "# print(type(y_true), y_true)\n",
    "# print(type(y_pred), y_pred)\n",
    "# # print(type(y_Ktrain[m]), type(y_pred))\n",
    "err = mean_squared_error(y_true, y_pred)\n",
    "print(err)\n",
    "\n",
    "# error = []\n",
    "# for i in range(1,2):\n",
    "#     for j in range(1,len(X_Ktrain)):\n",
    "#         err1 = 0\n",
    "#         for m in range(1,len(X_Ktrain)):\n",
    "#             if m == j:\n",
    "#                 continue\n",
    "#             KNN = KNeighborsClassifier(n_neighbors=i)\n",
    "#             KNN.fit(X_Ktrain[m], y_Ktrain[m])\n",
    "#             y_true = y_Ktrain[j]\n",
    "#             y_pred = KNN.predict(X_Ktrain[j])\n",
    "#             print(type(y_Ktrain[m]), type(y_pred))\n",
    "#             mean_squared_error(y_true, y_pred)\n",
    "# #             print('i = ', i, ' j = ', j, ' m = ', m, ' err = ')\n",
    "# #             print(err)\n",
    "# #             err1 = err1 + err\n",
    "#         print(\"*********************\\n\")\n",
    "#     print(\"######################################\\n\")\n",
    "        "
   ]
  },
  {
   "cell_type": "code",
   "execution_count": 24,
   "id": "3f30cf32",
   "metadata": {},
   "outputs": [
    {
     "name": "stdout",
     "output_type": "stream",
     "text": [
      "k =  1 err =  1.8316958564715935\n",
      "######################################\n",
      "\n",
      "k =  2 err =  1.9307988039299446\n",
      "######################################\n",
      "\n",
      "k =  3 err =  1.7172148654421187\n",
      "######################################\n",
      "\n",
      "k =  4 err =  1.7274668944895344\n",
      "######################################\n",
      "\n",
      "k =  5 err =  1.636907304570696\n",
      "######################################\n",
      "\n",
      "k =  6 err =  1.6488680051260145\n",
      "######################################\n",
      "\n",
      "k =  7 err =  1.6249466040153782\n",
      "######################################\n",
      "\n",
      "k =  8 err =  1.6044425459205467\n",
      "######################################\n",
      "\n",
      "k =  9 err =  1.607859888936352\n",
      "######################################\n",
      "\n",
      "k =  10 err =  1.5668517727466895\n",
      "######################################\n",
      "\n",
      "k =  11 err =  1.585647159333618\n",
      "######################################\n",
      "\n",
      "k =  12 err =  1.6027338744126443\n",
      "######################################\n",
      "\n",
      "k =  13 err =  1.6232379325074755\n",
      "######################################\n",
      "\n",
      "k =  14 err =  1.6437419906023067\n",
      "######################################\n",
      "\n",
      "k =  15 err =  1.65912003417343\n",
      "######################################\n",
      "\n",
      "k =  16 err =  1.638615976078599\n",
      "######################################\n",
      "\n",
      "k =  17 err =  1.6351986330627937\n",
      "######################################\n",
      "\n",
      "k =  18 err =  1.6232379325074755\n",
      "######################################\n",
      "\n",
      "k =  19 err =  1.6437419906023067\n",
      "######################################\n",
      "\n",
      "k =  20 err =  1.6454506621102092\n",
      "######################################\n",
      "\n",
      "k =  21 err =  1.6522853481418198\n",
      "######################################\n",
      "\n",
      "k =  22 err =  1.6437419906023067\n",
      "######################################\n",
      "\n",
      "k =  23 err =  1.6488680051260145\n",
      "######################################\n",
      "\n",
      "k =  24 err =  1.6437419906023067\n",
      "######################################\n",
      "\n",
      "k =  25 err =  1.642033319094404\n",
      "######################################\n",
      "\n",
      "k =  26 err =  1.630072618539086\n",
      "######################################\n",
      "\n",
      "k =  27 err =  1.6522853481418198\n",
      "######################################\n",
      "\n",
      "k =  28 err =  1.655702691157625\n",
      "######################################\n",
      "\n",
      "k =  29 err =  1.667663391712943\n",
      "######################################\n",
      "\n",
      "k =  30 err =  1.6557026911576251\n",
      "######################################\n",
      "\n",
      "k =  31 err =  1.6744980777445537\n",
      "######################################\n",
      "\n",
      "k =  32 err =  1.6659547202050407\n",
      "######################################\n",
      "\n",
      "k =  33 err =  1.667663391712943\n",
      "######################################\n",
      "\n",
      "k =  34 err =  1.6574113626655276\n",
      "######################################\n",
      "\n",
      "k =  35 err =  1.7069628363947031\n",
      "######################################\n",
      "\n",
      "k =  36 err =  1.669372063220846\n",
      "######################################\n",
      "\n",
      "k =  37 err =  1.6967108073472876\n",
      "######################################\n",
      "\n",
      "k =  38 err =  1.6727894062366508\n",
      "######################################\n",
      "\n",
      "k =  39 err =  1.6608287056813327\n",
      "######################################\n",
      "\n",
      "k =  40 err =  1.6779154207603588\n",
      "######################################\n",
      "\n",
      "k =  41 err =  1.7018368218709954\n",
      "######################################\n",
      "\n",
      "k =  42 err =  1.689876121315677\n",
      "######################################\n",
      "\n",
      "k =  43 err =  1.7018368218709954\n",
      "######################################\n",
      "\n",
      "k =  44 err =  1.6967108073472876\n",
      "######################################\n",
      "\n",
      "k =  45 err =  1.7001281503630927\n",
      "######################################\n",
      "\n",
      "k =  46 err =  1.689876121315677\n",
      "######################################\n",
      "\n",
      "k =  47 err =  1.7086715079026056\n",
      "######################################\n",
      "\n",
      "k =  48 err =  1.6847501067919692\n",
      "######################################\n",
      "\n",
      "k =  49 err =  1.7001281503630927\n",
      "######################################\n",
      "\n",
      "k =  50 err =  1.6847501067919692\n",
      "######################################\n",
      "\n",
      "k =  51 err =  1.712088850918411\n",
      "######################################\n",
      "\n",
      "k =  52 err =  1.7001281503630927\n",
      "######################################\n",
      "\n",
      "k =  53 err =  1.7257582229816317\n",
      "######################################\n",
      "\n",
      "k =  54 err =  1.7257582229816317\n",
      "######################################\n",
      "\n",
      "k =  55 err =  1.7462622810764632\n",
      "######################################\n",
      "\n",
      "k =  56 err =  1.7360102520290475\n",
      "######################################\n",
      "\n",
      "k =  57 err =  1.759931653139684\n",
      "######################################\n",
      "\n",
      "k =  58 err =  1.7411362665527552\n",
      "######################################\n",
      "\n",
      "k =  59 err =  1.77701836821871\n",
      "######################################\n",
      "\n"
     ]
    }
   ],
   "source": [
    "from sklearn.neighbors import KNeighborsClassifier\n",
    "from sklearn.metrics import mean_squared_error\n",
    "\n",
    "error = []\n",
    "for i in range(1,60):\n",
    "    for j in range(1,len(X_Ktrain)):\n",
    "        err1 = 0\n",
    "        for m in range(1,len(X_Ktrain)):\n",
    "            if m == j:\n",
    "                continue\n",
    "            KNN = KNeighborsClassifier(n_neighbors=i)\n",
    "            KNN.fit(X_Ktrain[m], y_Ktrain[m])\n",
    "            y_true = y_Ktrain[j]\n",
    "            y_pred = KNN.predict(X_Ktrain[j])\n",
    "            err = mean_squared_error(y_true, y_pred)\n",
    "            err1 = err1 + err\n",
    "    error.append(err1)\n",
    "#     print('k = ', i, 'err = ', err1)\n",
    "#     print(\"######################################\\n\")\n",
    "        \n",
    "# print(error)"
   ]
  },
  {
   "cell_type": "code",
   "execution_count": 32,
   "id": "c4b56b0e",
   "metadata": {},
   "outputs": [
    {
     "name": "stdout",
     "output_type": "stream",
     "text": [
      "10\n"
     ]
    }
   ],
   "source": [
    "minErr = min(error)\n",
    "kth = error.index(minErr) + 1\n",
    "print(kth)"
   ]
  },
  {
   "cell_type": "code",
   "execution_count": 33,
   "id": "3e5e0329",
   "metadata": {},
   "outputs": [
    {
     "data": {
      "text/plain": [
       "Text(0, 0.5, 'Mean_Squared_Error')"
      ]
     },
     "execution_count": 33,
     "metadata": {},
     "output_type": "execute_result"
    },
    {
     "data": {
      "image/png": "[encoded data removed]",
      "text/plain": [
       "<Figure size 1200x800 with 1 Axes>"
      ]
     },
     "metadata": {},
     "output_type": "display_data"
    }
   ],
   "source": [
    "plt.figure(figsize=(12,8))\n",
    "plt.plot(range(1,60), error, color='red', linestyle='dashed', marker='o',\n",
    "        markerfacecolor='blue', markersize=10)\n",
    "plt.title('Error Rate for K Value')\n",
    "plt.xlabel('K Value')\n",
    "plt.ylabel('Mean_Squared_Error')"
   ]
  },
  {
   "cell_type": "code",
   "execution_count": 34,
   "id": "5058eb83",
   "metadata": {},
   "outputs": [
    {
     "data": {
      "text/html": [
       "<style>#sk-container-id-2 {color: black;background-color: white;}#sk-container-id-2 pre{padding: 0;}#sk-container-id-2 div.sk-toggleable {background-color: white;}#sk-container-id-2 label.sk-toggleable__label {cursor: pointer;display: block;width: 100%;margin-bottom: 0;padding: 0.3em;box-sizing: border-box;text-align: center;}#sk-container-id-2 label.sk-toggleable__label-arrow:before {content: \"▸\";float: left;margin-right: 0.25em;color: #696969;}#sk-container-id-2 label.sk-toggleable__label-arrow:hover:before {color: black;}#sk-container-id-2 div.sk-estimator:hover label.sk-toggleable__label-arrow:before {color: black;}#sk-container-id-2 div.sk-toggleable__content {max-height: 0;max-width: 0;overflow: hidden;text-align: left;background-color: #f0f8ff;}#sk-container-id-2 div.sk-toggleable__content pre {margin: 0.2em;color: black;border-radius: 0.25em;background-color: #f0f8ff;}#sk-container-id-2 input.sk-toggleable__control:checked~div.sk-toggleable__content {max-height: 200px;max-width: 100%;overflow: auto;}#sk-container-id-2 input.sk-toggleable__control:checked~label.sk-toggleable__label-arrow:before {content: \"▾\";}#sk-container-id-2 div.sk-estimator input.sk-toggleable__control:checked~label.sk-toggleable__label {background-color: #d4ebff;}#sk-container-id-2 div.sk-label input.sk-toggleable__control:checked~label.sk-toggleable__label {background-color: #d4ebff;}#sk-container-id-2 input.sk-hidden--visually {border: 0;clip: rect(1px 1px 1px 1px);clip: rect(1px, 1px, 1px, 1px);height: 1px;margin: -1px;overflow: hidden;padding: 0;position: absolute;width: 1px;}#sk-container-id-2 div.sk-estimator {font-family: monospace;background-color: #f0f8ff;border: 1px dotted black;border-radius: 0.25em;box-sizing: border-box;margin-bottom: 0.5em;}#sk-container-id-2 div.sk-estimator:hover {background-color: #d4ebff;}#sk-container-id-2 div.sk-parallel-item::after {content: \"\";width: 100%;border-bottom: 1px solid gray;flex-grow: 1;}#sk-container-id-2 div.sk-label:hover label.sk-toggleable__label {background-color: #d4ebff;}#sk-container-id-2 div.sk-serial::before {content: \"\";position: absolute;border-left: 1px solid gray;box-sizing: border-box;top: 0;bottom: 0;left: 50%;z-index: 0;}#sk-container-id-2 div.sk-serial {display: flex;flex-direction: column;align-items: center;background-color: white;padding-right: 0.2em;padding-left: 0.2em;position: relative;}#sk-container-id-2 div.sk-item {position: relative;z-index: 1;}#sk-container-id-2 div.sk-parallel {display: flex;align-items: stretch;justify-content: center;background-color: white;position: relative;}#sk-container-id-2 div.sk-item::before, #sk-container-id-2 div.sk-parallel-item::before {content: \"\";position: absolute;border-left: 1px solid gray;box-sizing: border-box;top: 0;bottom: 0;left: 50%;z-index: -1;}#sk-container-id-2 div.sk-parallel-item {display: flex;flex-direction: column;z-index: 1;position: relative;background-color: white;}#sk-container-id-2 div.sk-parallel-item:first-child::after {align-self: flex-end;width: 50%;}#sk-container-id-2 div.sk-parallel-item:last-child::after {align-self: flex-start;width: 50%;}#sk-container-id-2 div.sk-parallel-item:only-child::after {width: 0;}#sk-container-id-2 div.sk-dashed-wrapped {border: 1px dashed gray;margin: 0 0.4em 0.5em 0.4em;box-sizing: border-box;padding-bottom: 0.4em;background-color: white;}#sk-container-id-2 div.sk-label label {font-family: monospace;font-weight: bold;display: inline-block;line-height: 1.2em;}#sk-container-id-2 div.sk-label-container {text-align: center;}#sk-container-id-2 div.sk-container {/* jupyter's `normalize.less` sets `[hidden] { display: none; }` but bootstrap.min.css set `[hidden] { display: none !important; }` so we also need the `!important` here to be able to override the default hidden behavior on the sphinx rendered scikit-learn.org. See: https://github.com/scikit-learn/scikit-learn/issues/21755 */display: inline-block !important;position: relative;}#sk-container-id-2 div.sk-text-repr-fallback {display: none;}</style><div id=\"sk-container-id-2\" class=\"sk-top-container\"><div class=\"sk-text-repr-fallback\"><pre>KNeighborsClassifier(n_neighbors=10)</pre><b>In a Jupyter environment, please rerun this cell to show the HTML representation or trust the notebook. <br />On GitHub, the HTML representation is unable to render, please try loading this page with nbviewer.org.</b></div><div class=\"sk-container\" hidden><div class=\"sk-item\"><div class=\"sk-estimator sk-toggleable\"><input class=\"sk-toggleable__control sk-hidden--visually\" id=\"sk-estimator-id-2\" type=\"checkbox\" checked><label for=\"sk-estimator-id-2\" class=\"sk-toggleable__label sk-toggleable__label-arrow\">KNeighborsClassifier</label><div class=\"sk-toggleable__content\"><pre>KNeighborsClassifier(n_neighbors=10)</pre></div></div></div></div></div>"
      ],
      "text/plain": [
       "KNeighborsClassifier(n_neighbors=10)"
      ]
     },
     "execution_count": 34,
     "metadata": {},
     "output_type": "execute_result"
    }
   ],
   "source": [
    "from sklearn.neighbors import KNeighborsClassifier\n",
    "KNN = KNeighborsClassifier(n_neighbors=kth)\n",
    "KNN.fit(X_train, y_train)"
   ]
  },
  {
   "cell_type": "code",
   "execution_count": 35,
   "id": "e28b294f",
   "metadata": {},
   "outputs": [],
   "source": [
    "y_pred = KNN.predict(X_test)"
   ]
  },
  {
   "cell_type": "code",
   "execution_count": 36,
   "id": "ce1a8735",
   "metadata": {},
   "outputs": [
    {
     "name": "stdout",
     "output_type": "stream",
     "text": [
      "              precision    recall  f1-score   support\n",
      "\n",
      "          -1       0.84      0.77      0.80      2006\n",
      "           1       0.79      0.85      0.82      2006\n",
      "\n",
      "    accuracy                           0.81      4012\n",
      "   macro avg       0.81      0.81      0.81      4012\n",
      "weighted avg       0.81      0.81      0.81      4012\n",
      "\n",
      "[[1544  462]\n",
      " [ 295 1711]]\n"
     ]
    }
   ],
   "source": [
    "from sklearn.metrics import classification_report, confusion_matrix\n",
    "print(classification_report(y_test, y_pred))\n",
    "print(confusion_matrix(y_test, y_pred))"
   ]
  },
  {
   "cell_type": "code",
   "execution_count": null,
   "id": "3406c620",
   "metadata": {},
   "outputs": [],
   "source": []
  }
 ],
 "metadata": {
  "kernelspec": {
   "display_name": "Python 3 (ipykernel)",
   "language": "python",
   "name": "python3"
  },
  "language_info": {
   "codemirror_mode": {
    "name": "ipython",
    "version": 3
   },
   "file_extension": ".py",
   "mimetype": "text/x-python",
   "name": "python",
   "nbconvert_exporter": "python",
   "pygments_lexer": "ipython3",
   "version": "3.10.3"
  }
 },
 "nbformat": 4,
 "nbformat_minor": 5
}
