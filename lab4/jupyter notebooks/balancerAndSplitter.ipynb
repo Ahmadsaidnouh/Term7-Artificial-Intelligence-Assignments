{
 "cells": [
  {
   "cell_type": "code",
   "execution_count": 1,
   "id": "03b0f20d",
   "metadata": {},
   "outputs": [],
   "source": [
    "import random\n",
    "from random import sample\n",
    "import numpy as np\n",
    "import pandas as pd"
   ]
  },
  {
   "cell_type": "code",
   "execution_count": 2,
   "id": "455e5652",
   "metadata": {},
   "outputs": [],
   "source": [
    "dataSet = pd.read_csv('../data/IMDB Dataset.csv').values.tolist()  # read the data"
   ]
  },
  {
   "cell_type": "code",
   "execution_count": 3,
   "id": "29f3088e",
   "metadata": {},
   "outputs": [
    {
     "name": "stdout",
     "output_type": "stream",
     "text": [
      "50000\n"
     ]
    }
   ],
   "source": [
    "print(len(dataSet))"
   ]
  },
  {
   "cell_type": "code",
   "execution_count": 4,
   "id": "016717f9",
   "metadata": {},
   "outputs": [
    {
     "name": "stdout",
     "output_type": "stream",
     "text": [
      "25000\n",
      "25000\n"
     ]
    }
   ],
   "source": [
    "positiveTemp = [x for x in dataSet if x[1] == \"positive\"]\n",
    "negativeTemp = [x for x in dataSet if x[1] == \"negative\"]\n",
    "print(len(positiveTemp))\n",
    "print(len(negativeTemp))"
   ]
  },
  {
   "cell_type": "code",
   "execution_count": 5,
   "id": "9a9073ec",
   "metadata": {},
   "outputs": [],
   "source": [
    "positive = [[sub[0], sub[1].replace('positive', '1')] for sub in positiveTemp]\n",
    "negative = [[sub[0], sub[1].replace('negative', '0')] for sub in negativeTemp]"
   ]
  },
  {
   "cell_type": "code",
   "execution_count": 6,
   "id": "0c9ecfd1",
   "metadata": {},
   "outputs": [
    {
     "name": "stdout",
     "output_type": "stream",
     "text": [
      "25000\n",
      "25000\n"
     ]
    }
   ],
   "source": [
    "print(len(positive))\n",
    "print(len(negative))\n",
    "# print(positive[:5])\n",
    "# print(negative[:5])"
   ]
  },
  {
   "cell_type": "code",
   "execution_count": 7,
   "id": "c5c92a03",
   "metadata": {},
   "outputs": [
    {
     "name": "stdout",
     "output_type": "stream",
     "text": [
      "17500\n",
      "2500\n",
      "5000\n"
     ]
    }
   ],
   "source": [
    "random.shuffle(positive)\n",
    "random.shuffle(positive)\n",
    "random.shuffle(positive)\n",
    "positive70 = positive[0:17500].copy() # 25000*0.7 = 17500\n",
    "positive10 = positive[17500:20000].copy() # 25000*0.1 = 2500\n",
    "positive20 = positive[20000:25000].copy() # 25000*0.2 = 5000\n",
    "print(len(positive70))\n",
    "print(len(positive10))\n",
    "print(len(positive20))"
   ]
  },
  {
   "cell_type": "code",
   "execution_count": 8,
   "id": "ba0d1d19",
   "metadata": {},
   "outputs": [
    {
     "name": "stdout",
     "output_type": "stream",
     "text": [
      "17500\n",
      "2500\n",
      "5000\n"
     ]
    }
   ],
   "source": [
    "random.shuffle(negative)\n",
    "random.shuffle(negative)\n",
    "random.shuffle(negative)\n",
    "negative70 = negative[0:17500].copy() # 25000*0.7 = 17500\n",
    "negative10 = negative[17500:20000].copy() # 25000*0.1 = 2500\n",
    "negative20 = negative[20000:25000].copy() # 25000*0.2 = 5000\n",
    "print(len(negative70))\n",
    "print(len(negative10))\n",
    "print(len(negative20))"
   ]
  },
  {
   "cell_type": "code",
   "execution_count": 9,
   "id": "dfacb178",
   "metadata": {},
   "outputs": [],
   "source": [
    "trainList = positive70 + negative70\n",
    "validationList = positive10 + negative10\n",
    "testList = positive20 + negative20\n",
    "random.shuffle(trainList)  # training data must be shuffled\n",
    "random.shuffle(validationList)  # validation data must be shuffled\n",
    "random.shuffle(testList)  # testing data needs to be shuffled"
   ]
  },
  {
   "cell_type": "code",
   "execution_count": 10,
   "id": "995ebc05",
   "metadata": {},
   "outputs": [
    {
     "name": "stdout",
     "output_type": "stream",
     "text": [
      "35000\n",
      "5000\n",
      "10000\n"
     ]
    }
   ],
   "source": [
    "print(len(trainList))\n",
    "print(len(validationList))\n",
    "print(len(testList))"
   ]
  },
  {
   "cell_type": "code",
   "execution_count": 27,
   "id": "69cbc3f5",
   "metadata": {},
   "outputs": [],
   "source": [
    "traindF = pd.DataFrame(trainList)\n",
    "traindF.to_csv('../data/training.csv', index=False, header=['review','sentiment'])"
   ]
  },
  {
   "cell_type": "code",
   "execution_count": 28,
   "id": "1d383e3f",
   "metadata": {},
   "outputs": [],
   "source": [
    "validationdF = pd.DataFrame(validationList)\n",
    "validationdF.to_csv('../data/validation.csv', index=False, header=['review','sentiment'])"
   ]
  },
  {
   "cell_type": "code",
   "execution_count": 29,
   "id": "a9a29284",
   "metadata": {},
   "outputs": [],
   "source": [
    "testdF = pd.DataFrame(testList)\n",
    "testdF.to_csv('../data/testing.csv', index=False, header=['review','sentiment'])"
   ]
  }
 ],
 "metadata": {
  "kernelspec": {
   "display_name": "Python 3.11.0 64-bit",
   "language": "python",
   "name": "python3"
  },
  "language_info": {
   "codemirror_mode": {
    "name": "ipython",
    "version": 3
   },
   "file_extension": ".py",
   "mimetype": "text/x-python",
   "name": "python",
   "nbconvert_exporter": "python",
   "pygments_lexer": "ipython3",
   "version": "3.11.0"
  },
  "vscode": {
   "interpreter": {
    "hash": "767d51c1340bd893661ea55ea3124f6de3c7a262a8b4abca0554b478b1e2ff90"
   }
  }
 },
 "nbformat": 4,
 "nbformat_minor": 5
}
