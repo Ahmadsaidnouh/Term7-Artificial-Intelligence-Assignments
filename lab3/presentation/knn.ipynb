{
 "cells": [
  {
   "cell_type": "code",
   "execution_count": 19,
   "id": "e57bef51",
   "metadata": {},
   "outputs": [],
   "source": [
    "import numpy as np\n",
    "import pandas as pd\n",
    "import matplotlib.pyplot as plt\n",
    "from sklearn.preprocessing import MinMaxScaler\n",
    "from sklearn.metrics import mean_squared_error\n",
    "from sklearn.neighbors import KNeighborsClassifier\n",
    "from sklearn.model_selection import StratifiedKFold, cross_val_score\n",
    "from sklearn.metrics import classification_report, confusion_matrix, precision_score, recall_score, f1_score, accuracy_score"
   ]
  },
  {
   "cell_type": "code",
   "execution_count": 2,
   "id": "f4d2a537",
   "metadata": {},
   "outputs": [],
   "source": [
    "trainingSet = pd.read_csv('data/training.csv')  # read the data\n",
    "testingSet = pd.read_csv('data/testing.csv')  # read the data"
   ]
  },
  {
   "cell_type": "code",
   "execution_count": 3,
   "id": "a13d36b1",
   "metadata": {},
   "outputs": [],
   "source": [
    "# print(trainingSet.head(10))  # displays the first 5 elements in training data\n",
    "# print(testingSet.head(10))  # displays the first 5 elements in testing data"
   ]
  },
  {
   "cell_type": "code",
   "execution_count": 4,
   "id": "9e853ed6",
   "metadata": {},
   "outputs": [],
   "source": [
    "# training data\n",
    "X_train = trainingSet.iloc[:, :-1]  # X_train contains the features only without the class\n",
    "y_train = trainingSet.iloc[:, -1]  # Y_train contains the class only without the features"
   ]
  },
  {
   "cell_type": "code",
   "execution_count": 5,
   "id": "23d641d6",
   "metadata": {},
   "outputs": [],
   "source": [
    "# testing data\n",
    "X_test = testingSet.iloc[:, :-1]  # X_test contains the features only without the class\n",
    "y_test = testingSet.iloc[:, -1]  # Y_test contains the class only without the features"
   ]
  },
  {
   "cell_type": "code",
   "execution_count": 6,
   "id": "988223c1",
   "metadata": {},
   "outputs": [],
   "source": [
    "# print(trainingSet.head(5))  # displays the first 5 elements in training data\n",
    "# print(X_train.head(5))  # displays the features of first 5 elements in training data\n",
    "# print(y_train.head(5))  # displays the class of first 5 elements in training data"
   ]
  },
  {
   "cell_type": "code",
   "execution_count": 7,
   "id": "0e702eca",
   "metadata": {},
   "outputs": [],
   "source": [
    "# print(testingSet.head(5))  # displays the first 5 elements in testing data\n",
    "# print(X_test.head(5))  # displays the features of first 5 elements in testing data\n",
    "# print(y_test.head(5))  # displays the class of first 5 elements in testing data"
   ]
  },
  {
   "cell_type": "code",
   "execution_count": 8,
   "id": "2d51193c",
   "metadata": {},
   "outputs": [],
   "source": [
    "# print(len(X_train))\n",
    "# print(len(X_test))\n",
    "# print(len(y_train))\n",
    "# print(len(y_test))"
   ]
  },
  {
   "cell_type": "code",
   "execution_count": 9,
   "id": "1ededcef",
   "metadata": {},
   "outputs": [],
   "source": [
    "scaler = MinMaxScaler(copy=True, feature_range=(0,1))\n",
    "scaler.fit(X_train)\n",
    "X_train = scaler.transform(X_train)\n",
    "X_test = scaler.transform(X_test)"
   ]
  },
  {
   "cell_type": "markdown",
   "id": "b374a9e4",
   "metadata": {},
   "source": [
    "## Cross validation range(1,100) with step 1"
   ]
  },
  {
   "cell_type": "code",
   "execution_count": 10,
   "id": "3a07d75b",
   "metadata": {},
   "outputs": [
    {
     "name": "stdout",
     "output_type": "stream",
     "text": [
      "K = 1 and mean score from 10 folds is 0.7729605077123753\n",
      "K = 2 and mean score from 10 folds is 0.7712513340448239\n",
      "K = 3 and mean score from 10 folds is 0.8015787337292141\n",
      "K = 4 and mean score from 10 folds is 0.7977347462806375\n",
      "K = 5 and mean score from 10 folds is 0.803713547510239\n",
      "K = 6 and mean score from 10 folds is 0.8064916673507921\n",
      "K = 7 and mean score from 10 folds is 0.8043561694442165\n",
      "K = 8 and mean score from 10 folds is 0.8105520665152468\n",
      "K = 9 and mean score from 10 folds is 0.8070266535314561\n",
      "K = 10 and mean score from 10 folds is 0.8104442027200832\n",
      "K = 11 and mean score from 10 folds is 0.8079862536372675\n",
      "K = 12 and mean score from 10 folds is 0.81268505596147\n",
      "K = 13 and mean score from 10 folds is 0.8105493300130441\n",
      "K = 14 and mean score from 10 folds is 0.8127934898612594\n",
      "K = 15 and mean score from 10 folds is 0.8086276213410686\n",
      "K = 16 and mean score from 10 folds is 0.808092863202255\n",
      "K = 17 and mean score from 10 folds is 0.8049959408550658\n",
      "K = 18 and mean score from 10 folds is 0.8073455700590173\n",
      "K = 19 and mean score from 10 folds is 0.8047836338924921\n",
      "K = 20 and mean score from 10 folds is 0.8067062547318684\n",
      "K = 21 and mean score from 10 folds is 0.8049965109596913\n",
      "K = 22 and mean score from 10 folds is 0.8063855138695054\n",
      "K = 23 and mean score from 10 folds is 0.8053171378011292\n",
      "K = 24 and mean score from 10 folds is 0.8065994171250308\n",
      "K = 25 and mean score from 10 folds is 0.8040359986864789\n",
      "K = 26 and mean score from 10 folds is 0.8063864260369062\n",
      "K = 27 and mean score from 10 folds is 0.8042495598792291\n",
      "K = 28 and mean score from 10 folds is 0.8041430643351669\n",
      "K = 29 and mean score from 10 folds is 0.8026474518603655\n",
      "K = 30 and mean score from 10 folds is 0.8028619252205165\n",
      "K = 31 and mean score from 10 folds is 0.8030753723923414\n",
      "K = 32 and mean score from 10 folds is 0.8041436344397924\n",
      "K = 33 and mean score from 10 folds is 0.8033956571710041\n",
      "K = 34 and mean score from 10 folds is 0.8037159419496668\n",
      "K = 35 and mean score from 10 folds is 0.8020069963239653\n",
      "K = 36 and mean score from 10 folds is 0.8038223234728037\n",
      "K = 37 and mean score from 10 folds is 0.8013658566620145\n",
      "K = 38 and mean score from 10 folds is 0.8020069963239654\n",
      "K = 39 and mean score from 10 folds is 0.7996569110363134\n",
      "K = 40 and mean score from 10 folds is 0.8008326948161526\n",
      "K = 41 and mean score from 10 folds is 0.7998711563546143\n",
      "K = 42 and mean score from 10 folds is 0.8021144040354287\n",
      "K = 43 and mean score from 10 folds is 0.7995508715759516\n",
      "K = 44 and mean score from 10 folds is 0.8004051163469519\n",
      "K = 45 and mean score from 10 folds is 0.7986967408258764\n",
      "K = 46 and mean score from 10 folds is 0.8001912130914265\n",
      "K = 47 and mean score from 10 folds is 0.7984826095285007\n",
      "K = 48 and mean score from 10 folds is 0.8008315546069016\n",
      "K = 49 and mean score from 10 folds is 0.7992297886508133\n",
      "K = 50 and mean score from 10 folds is 0.7999776518986765\n",
      "K = 51 and mean score from 10 folds is 0.7989096178930757\n",
      "K = 52 and mean score from 10 folds is 0.8001908710286513\n",
      "K = 53 and mean score from 10 folds is 0.8000841474427387\n",
      "K = 54 and mean score from 10 folds is 0.7986959426794005\n",
      "K = 55 and mean score from 10 folds is 0.7988027802862383\n",
      "K = 56 and mean score from 10 folds is 0.8000842614636638\n",
      "K = 57 and mean score from 10 folds is 0.7993373103832015\n",
      "K = 58 and mean score from 10 folds is 0.7996580512455647\n",
      "K = 59 and mean score from 10 folds is 0.7976297330086017\n",
      "K = 60 and mean score from 10 folds is 0.7979495617035639\n",
      "K = 61 and mean score from 10 folds is 0.7975222112762134\n",
      "K = 62 and mean score from 10 folds is 0.7976291629039761\n",
      "K = 63 and mean score from 10 folds is 0.7976288208412008\n",
      "K = 64 and mean score from 10 folds is 0.7983762280053636\n",
      "K = 65 and mean score from 10 folds is 0.7976282507365752\n",
      "K = 66 and mean score from 10 folds is 0.7979492196407885\n",
      "K = 67 and mean score from 10 folds is 0.7972013563929252\n",
      "K = 68 and mean score from 10 folds is 0.7975220972552883\n",
      "K = 69 and mean score from 10 folds is 0.7953860292440869\n",
      "K = 70 and mean score from 10 folds is 0.7967743480283502\n",
      "K = 71 and mean score from 10 folds is 0.7937838072042982\n",
      "K = 72 and mean score from 10 folds is 0.7959198752154996\n",
      "K = 73 and mean score from 10 folds is 0.794424946866249\n",
      "K = 74 and mean score from 10 folds is 0.7959198752154995\n",
      "K = 75 and mean score from 10 folds is 0.7930371981866112\n",
      "K = 76 and mean score from 10 folds is 0.7954929808718496\n",
      "K = 77 and mean score from 10 folds is 0.7930367421029108\n",
      "K = 78 and mean score from 10 folds is 0.7939978244807487\n",
      "K = 79 and mean score from 10 folds is 0.7929295624332978\n",
      "K = 80 and mean score from 10 folds is 0.7933571409024984\n",
      "K = 81 and mean score from 10 folds is 0.7920756597250727\n",
      "K = 82 and mean score from 10 folds is 0.7930365140610605\n",
      "K = 83 and mean score from 10 folds is 0.792716229282398\n",
      "K = 84 and mean score from 10 folds is 0.7932500752538106\n",
      "K = 85 and mean score from 10 folds is 0.7915412436490344\n",
      "K = 86 and mean score from 10 folds is 0.7931430096051226\n",
      "K = 87 and mean score from 10 folds is 0.791434520063122\n",
      "K = 88 and mean score from 10 folds is 0.7926087075500096\n",
      "K = 89 and mean score from 10 folds is 0.7906869988780341\n",
      "K = 90 and mean score from 10 folds is 0.7925022120059473\n",
      "K = 91 and mean score from 10 folds is 0.7912207308285216\n",
      "K = 92 and mean score from 10 folds is 0.791434634084047\n",
      "K = 93 and mean score from 10 folds is 0.790579705187496\n",
      "K = 94 and mean score from 10 folds is 0.7910068275729962\n",
      "K = 95 and mean score from 10 folds is 0.7904730956225088\n",
      "K = 96 and mean score from 10 folds is 0.7913274544144342\n",
      "K = 97 and mean score from 10 folds is 0.7896181667259576\n",
      "K = 98 and mean score from 10 folds is 0.7914340639794215\n",
      "K = 99 and mean score from 10 folds is 0.7906864287734086\n"
     ]
    }
   ],
   "source": [
    "k_scores = []\n",
    "stratifiedKF = StratifiedKFold(n_splits=10)\n",
    "for k in range(1,100):\n",
    "    KNN = KNeighborsClassifier(n_neighbors=k)\n",
    "    score = cross_val_score(KNN, X_train, y_train, cv=stratifiedKF, scoring='accuracy')\n",
    "    k_scores.append(score.mean())\n",
    "    print(\"K = \" + str(k) + \" and mean score from 10 folds is \" + str(score.mean()))"
   ]
  },
  {
   "cell_type": "code",
   "execution_count": 11,
   "id": "c4b56b0e",
   "metadata": {},
   "outputs": [
    {
     "data": {
      "text/plain": [
       "Text(0, 0.5, 'Accuracy')"
      ]
     },
     "execution_count": 11,
     "metadata": {},
     "output_type": "execute_result"
    },
    {
     "data": {
      "image/png": "[encoded data removed]",
      "text/plain": [
       "<Figure size 1200x800 with 1 Axes>"
      ]
     },
     "metadata": {},
     "output_type": "display_data"
    }
   ],
   "source": [
    "plt.figure(figsize=(12,8))\n",
    "plt.plot(range(1,100), k_scores, color='red', linestyle='dashed', marker='o',\n",
    "        markerfacecolor='blue', markersize=10)\n",
    "plt.title('Accuracy Rate for K Value')\n",
    "plt.xlabel('K Value')\n",
    "plt.ylabel('Accuracy')"
   ]
  },
  {
   "cell_type": "code",
   "execution_count": 23,
   "id": "eeac98df",
   "metadata": {},
   "outputs": [
    {
     "name": "stdout",
     "output_type": "stream",
     "text": [
      "Max accuracy at K = 14\n"
     ]
    }
   ],
   "source": [
    "maxAcc = max(k_scores)\n",
    "kth = k_scores.index(maxAcc) + 1\n",
    "print(\"Max accuracy at K = \" + str(kth))"
   ]
  },
  {
   "cell_type": "markdown",
   "id": "75a19e09",
   "metadata": {},
   "source": [
    "## Build the model using the tuned parameter"
   ]
  },
  {
   "cell_type": "code",
   "execution_count": 13,
   "id": "5058eb83",
   "metadata": {},
   "outputs": [
    {
     "data": {
      "text/html": [
       "<style>#sk-container-id-1 {color: black;background-color: white;}#sk-container-id-1 pre{padding: 0;}#sk-container-id-1 div.sk-toggleable {background-color: white;}#sk-container-id-1 label.sk-toggleable__label {cursor: pointer;display: block;width: 100%;margin-bottom: 0;padding: 0.3em;box-sizing: border-box;text-align: center;}#sk-container-id-1 label.sk-toggleable__label-arrow:before {content: \"▸\";float: left;margin-right: 0.25em;color: #696969;}#sk-container-id-1 label.sk-toggleable__label-arrow:hover:before {color: black;}#sk-container-id-1 div.sk-estimator:hover label.sk-toggleable__label-arrow:before {color: black;}#sk-container-id-1 div.sk-toggleable__content {max-height: 0;max-width: 0;overflow: hidden;text-align: left;background-color: #f0f8ff;}#sk-container-id-1 div.sk-toggleable__content pre {margin: 0.2em;color: black;border-radius: 0.25em;background-color: #f0f8ff;}#sk-container-id-1 input.sk-toggleable__control:checked~div.sk-toggleable__content {max-height: 200px;max-width: 100%;overflow: auto;}#sk-container-id-1 input.sk-toggleable__control:checked~label.sk-toggleable__label-arrow:before {content: \"▾\";}#sk-container-id-1 div.sk-estimator input.sk-toggleable__control:checked~label.sk-toggleable__label {background-color: #d4ebff;}#sk-container-id-1 div.sk-label input.sk-toggleable__control:checked~label.sk-toggleable__label {background-color: #d4ebff;}#sk-container-id-1 input.sk-hidden--visually {border: 0;clip: rect(1px 1px 1px 1px);clip: rect(1px, 1px, 1px, 1px);height: 1px;margin: -1px;overflow: hidden;padding: 0;position: absolute;width: 1px;}#sk-container-id-1 div.sk-estimator {font-family: monospace;background-color: #f0f8ff;border: 1px dotted black;border-radius: 0.25em;box-sizing: border-box;margin-bottom: 0.5em;}#sk-container-id-1 div.sk-estimator:hover {background-color: #d4ebff;}#sk-container-id-1 div.sk-parallel-item::after {content: \"\";width: 100%;border-bottom: 1px solid gray;flex-grow: 1;}#sk-container-id-1 div.sk-label:hover label.sk-toggleable__label {background-color: #d4ebff;}#sk-container-id-1 div.sk-serial::before {content: \"\";position: absolute;border-left: 1px solid gray;box-sizing: border-box;top: 0;bottom: 0;left: 50%;z-index: 0;}#sk-container-id-1 div.sk-serial {display: flex;flex-direction: column;align-items: center;background-color: white;padding-right: 0.2em;padding-left: 0.2em;position: relative;}#sk-container-id-1 div.sk-item {position: relative;z-index: 1;}#sk-container-id-1 div.sk-parallel {display: flex;align-items: stretch;justify-content: center;background-color: white;position: relative;}#sk-container-id-1 div.sk-item::before, #sk-container-id-1 div.sk-parallel-item::before {content: \"\";position: absolute;border-left: 1px solid gray;box-sizing: border-box;top: 0;bottom: 0;left: 50%;z-index: -1;}#sk-container-id-1 div.sk-parallel-item {display: flex;flex-direction: column;z-index: 1;position: relative;background-color: white;}#sk-container-id-1 div.sk-parallel-item:first-child::after {align-self: flex-end;width: 50%;}#sk-container-id-1 div.sk-parallel-item:last-child::after {align-self: flex-start;width: 50%;}#sk-container-id-1 div.sk-parallel-item:only-child::after {width: 0;}#sk-container-id-1 div.sk-dashed-wrapped {border: 1px dashed gray;margin: 0 0.4em 0.5em 0.4em;box-sizing: border-box;padding-bottom: 0.4em;background-color: white;}#sk-container-id-1 div.sk-label label {font-family: monospace;font-weight: bold;display: inline-block;line-height: 1.2em;}#sk-container-id-1 div.sk-label-container {text-align: center;}#sk-container-id-1 div.sk-container {/* jupyter's `normalize.less` sets `[hidden] { display: none; }` but bootstrap.min.css set `[hidden] { display: none !important; }` so we also need the `!important` here to be able to override the default hidden behavior on the sphinx rendered scikit-learn.org. See: https://github.com/scikit-learn/scikit-learn/issues/21755 */display: inline-block !important;position: relative;}#sk-container-id-1 div.sk-text-repr-fallback {display: none;}</style><div id=\"sk-container-id-1\" class=\"sk-top-container\"><div class=\"sk-text-repr-fallback\"><pre>KNeighborsClassifier(n_neighbors=14)</pre><b>In a Jupyter environment, please rerun this cell to show the HTML representation or trust the notebook. <br />On GitHub, the HTML representation is unable to render, please try loading this page with nbviewer.org.</b></div><div class=\"sk-container\" hidden><div class=\"sk-item\"><div class=\"sk-estimator sk-toggleable\"><input class=\"sk-toggleable__control sk-hidden--visually\" id=\"sk-estimator-id-1\" type=\"checkbox\" checked><label for=\"sk-estimator-id-1\" class=\"sk-toggleable__label sk-toggleable__label-arrow\">KNeighborsClassifier</label><div class=\"sk-toggleable__content\"><pre>KNeighborsClassifier(n_neighbors=14)</pre></div></div></div></div></div>"
      ],
      "text/plain": [
       "KNeighborsClassifier(n_neighbors=14)"
      ]
     },
     "execution_count": 13,
     "metadata": {},
     "output_type": "execute_result"
    }
   ],
   "source": [
    "KNN = KNeighborsClassifier(n_neighbors=kth)\n",
    "KNN.fit(X_train, y_train)"
   ]
  },
  {
   "cell_type": "code",
   "execution_count": 14,
   "id": "e28b294f",
   "metadata": {},
   "outputs": [],
   "source": [
    "y_pred = KNN.predict(X_test)"
   ]
  },
  {
   "cell_type": "code",
   "execution_count": 15,
   "id": "ce1a8735",
   "metadata": {},
   "outputs": [
    {
     "name": "stdout",
     "output_type": "stream",
     "text": [
      "              precision    recall  f1-score   support\n",
      "\n",
      "           0       0.84      0.78      0.81      2006\n",
      "           1       0.79      0.85      0.82      2006\n",
      "\n",
      "    accuracy                           0.81      4012\n",
      "   macro avg       0.82      0.81      0.81      4012\n",
      "weighted avg       0.82      0.81      0.81      4012\n",
      "\n"
     ]
    }
   ],
   "source": [
    "print(classification_report(y_test, y_pred))"
   ]
  },
  {
   "cell_type": "code",
   "execution_count": 16,
   "id": "b91b2422",
   "metadata": {},
   "outputs": [],
   "source": [
    "cm = confusion_matrix(y_test, y_pred)"
   ]
  },
  {
   "cell_type": "code",
   "execution_count": 17,
   "id": "3406c620",
   "metadata": {},
   "outputs": [
    {
     "data": {
      "text/html": [
       "<div>\n",
       "<style scoped>\n",
       "    .dataframe tbody tr th:only-of-type {\n",
       "        vertical-align: middle;\n",
       "    }\n",
       "\n",
       "    .dataframe tbody tr th {\n",
       "        vertical-align: top;\n",
       "    }\n",
       "\n",
       "    .dataframe thead th {\n",
       "        text-align: right;\n",
       "    }\n",
       "</style>\n",
       "<table border=\"1\" class=\"dataframe\">\n",
       "  <thead>\n",
       "    <tr style=\"text-align: right;\">\n",
       "      <th></th>\n",
       "      <th>Predicted h</th>\n",
       "      <th>Predicted g</th>\n",
       "    </tr>\n",
       "  </thead>\n",
       "  <tbody>\n",
       "    <tr>\n",
       "      <th>Actual h</th>\n",
       "      <td>1560</td>\n",
       "      <td>446</td>\n",
       "    </tr>\n",
       "    <tr>\n",
       "      <th>Actual g</th>\n",
       "      <td>299</td>\n",
       "      <td>1707</td>\n",
       "    </tr>\n",
       "  </tbody>\n",
       "</table>\n",
       "</div>"
      ],
      "text/plain": [
       "          Predicted h  Predicted g\n",
       "Actual h         1560          446\n",
       "Actual g          299         1707"
      ]
     },
     "execution_count": 17,
     "metadata": {},
     "output_type": "execute_result"
    }
   ],
   "source": [
    "labels = ['h','g']\n",
    "columns = [f'Predicted {label}' for label in labels]\n",
    "index = [f'Actual {label}' for label in labels]\n",
    "table = pd.DataFrame(cm, columns=columns, index=index)\n",
    "table"
   ]
  },
  {
   "cell_type": "code",
   "execution_count": 18,
   "id": "43944896",
   "metadata": {},
   "outputs": [
    {
     "name": "stdout",
     "output_type": "stream",
     "text": [
      "model_accuracy =  0.8143070787637089\n",
      "model_precision =  0.7928471899674873\n",
      "model_recall =  0.8509471585244267\n",
      "model_specificity =  0.7776669990029911\n",
      "model_f1 =  0.8208704015388315\n"
     ]
    }
   ],
   "source": [
    "acc = accuracy_score(y_test, y_pred)\n",
    "prec = precision_score(y_test, y_pred)\n",
    "recall = recall_score(y_test, y_pred)\n",
    "specificity = cm[0,0]/(cm[0,0] + cm[0,1])\n",
    "f1 = f1_score(y_test, y_pred)\n",
    "\n",
    "print('model_accuracy = ', acc)\n",
    "print('model_precision = ', prec)\n",
    "print('model_recall = ', recall)\n",
    "print('model_specificity = ', specificity)\n",
    "print('model_f1 = ', f1)"
   ]
  },
  {
   "cell_type": "code",
   "execution_count": null,
   "id": "16de0b26",
   "metadata": {},
   "outputs": [],
   "source": []
  }
 ],
 "metadata": {
  "kernelspec": {
   "display_name": "Python 3 (ipykernel)",
   "language": "python",
   "name": "python3"
  },
  "language_info": {
   "codemirror_mode": {
    "name": "ipython",
    "version": 3
   },
   "file_extension": ".py",
   "mimetype": "text/x-python",
   "name": "python",
   "nbconvert_exporter": "python",
   "pygments_lexer": "ipython3",
   "version": "3.10.3"
  }
 },
 "nbformat": 4,
 "nbformat_minor": 5
}
