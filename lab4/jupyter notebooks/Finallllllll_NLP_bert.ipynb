{
  "cells": [
    {
      "cell_type": "markdown",
      "metadata": {
        "id": "view-in-github"
      },
      "source": [
        "<a href=\"https://colab.research.google.com/github/Ahmadsaidnouh/Term7-Artificial-Intelligence-Assignments/blob/lab4%2Fhossam/lab4/jupyter%20notebooks/Finallllllll_NLP_bert.ipynb\" target=\"_parent\"><img src=\"https://colab.research.google.com/assets/colab-badge.svg\" alt=\"Open In Colab\"/></a>"
      ],
      "id": "view-in-github"
    },
    {
      "cell_type": "code",
      "execution_count": 1,
      "id": "6fed133d-61b7-4ce6-8a44-fe98acf0eed2",
      "metadata": {
        "id": "6fed133d-61b7-4ce6-8a44-fe98acf0eed2"
      },
      "outputs": [],
      "source": [
        "%%capture\n",
        "%pip install transformers\n",
        "%pip install pandas \n",
        "%pip install torch\n",
        "%pip install tqdm\n",
        "%pip install nltk\n",
        "%pip install configparser"
      ]
    },
    {
      "cell_type": "code",
      "execution_count": 2,
      "id": "2f3a8fd1-25a9-426d-a6be-c93b750cbcb8",
      "metadata": {
        "colab": {
          "base_uri": "https://localhost:8080/"
        },
        "id": "2f3a8fd1-25a9-426d-a6be-c93b750cbcb8",
        "outputId": "0bb56c56-d6cf-454c-8d4c-57245cb1f374"
      },
      "outputs": [
        {
          "output_type": "stream",
          "name": "stderr",
          "text": [
            "[nltk_data] Downloading package punkt to /root/nltk_data...\n",
            "[nltk_data]   Package punkt is already up-to-date!\n",
            "[nltk_data] Downloading package stopwords to /root/nltk_data...\n",
            "[nltk_data]   Package stopwords is already up-to-date!\n",
            "[nltk_data] Downloading package wordnet to /root/nltk_data...\n",
            "[nltk_data]   Package wordnet is already up-to-date!\n",
            "[nltk_data] Downloading package omw-1.4 to /root/nltk_data...\n",
            "[nltk_data]   Package omw-1.4 is already up-to-date!\n"
          ]
        },
        {
          "output_type": "execute_result",
          "data": {
            "text/plain": [
              "True"
            ]
          },
          "metadata": {},
          "execution_count": 2
        }
      ],
      "source": [
        "import pandas as pd\n",
        "import matplotlib.pyplot as plt\n",
        "import torch\n",
        "import numpy as np\n",
        "from transformers import BertTokenizer, BertModel\n",
        "from torch import nn\n",
        "from torch.optim import Adam\n",
        "from tqdm import tqdm\n",
        "import nltk\n",
        "from nltk.corpus import stopwords\n",
        "from nltk.stem import WordNetLemmatizer\n",
        "from nltk.stem import PorterStemmer\n",
        "import re\n",
        "import gc\n",
        "import configparser\n",
        "import ast\n",
        "nltk.download('punkt')\n",
        "nltk.download('stopwords')\n",
        "nltk.download('wordnet')\n",
        "nltk.download('omw-1.4')"
      ]
    },
    {
      "cell_type": "code",
      "execution_count": 3,
      "id": "8993a6d3",
      "metadata": {
        "colab": {
          "base_uri": "https://localhost:8080/"
        },
        "id": "8993a6d3",
        "outputId": "d01cad9f-a8f7-4692-d770-5fef88c7bd6d"
      },
      "outputs": [
        {
          "output_type": "stream",
          "name": "stdout",
          "text": [
            "Drive already mounted at /content/drive/; to attempt to forcibly remount, call drive.mount(\"/content/drive/\", force_remount=True).\n"
          ]
        }
      ],
      "source": [
        "from google.colab import drive\n",
        "drive.mount('/content/drive/')"
      ]
    },
    {
      "cell_type": "code",
      "execution_count": 4,
      "id": "84e927af",
      "metadata": {
        "colab": {
          "base_uri": "https://localhost:8080/",
          "height": 441
        },
        "id": "84e927af",
        "outputId": "eca43253-de34-4392-e85b-fe859aed6051"
      },
      "outputs": [
        {
          "output_type": "stream",
          "name": "stdout",
          "text": [
            "5000 715 1430\n"
          ]
        },
        {
          "output_type": "execute_result",
          "data": {
            "text/plain": [
              "                                                 review sentiment\n",
              "0     yep lot shouting screaming cheering arguing ce...  negative\n",
              "1     1st watched 832003 2 10dirbrad sykes mindless ...  negative\n",
              "2     think movie probably lot powerful first debute...  positive\n",
              "3     ive read lot review imdb well five one written...  negative\n",
              "4     got usenet wasnt prepared heavy mean exception...  negative\n",
              "...                                                 ...       ...\n",
              "4995  loved movie loved two family crossing path his...  positive\n",
              "4996  think found misogynistic film time darklightbr...  negative\n",
              "4997  dont know donald sutherland acting style vocal...  negative\n",
              "4998  end episode holmes asks watson record case pos...  negative\n",
              "4999  first child play original effective little hor...  positive\n",
              "\n",
              "[5000 rows x 2 columns]"
            ],
            "text/html": [
              "\n",
              "  <div id=\"df-915e68f7-ff7b-4249-9aee-5ee19ac6287c\">\n",
              "    <div class=\"colab-df-container\">\n",
              "      <div>\n",
              "<style scoped>\n",
              "    .dataframe tbody tr th:only-of-type {\n",
              "        vertical-align: middle;\n",
              "    }\n",
              "\n",
              "    .dataframe tbody tr th {\n",
              "        vertical-align: top;\n",
              "    }\n",
              "\n",
              "    .dataframe thead th {\n",
              "        text-align: right;\n",
              "    }\n",
              "</style>\n",
              "<table border=\"1\" class=\"dataframe\">\n",
              "  <thead>\n",
              "    <tr style=\"text-align: right;\">\n",
              "      <th></th>\n",
              "      <th>review</th>\n",
              "      <th>sentiment</th>\n",
              "    </tr>\n",
              "  </thead>\n",
              "  <tbody>\n",
              "    <tr>\n",
              "      <th>0</th>\n",
              "      <td>yep lot shouting screaming cheering arguing ce...</td>\n",
              "      <td>negative</td>\n",
              "    </tr>\n",
              "    <tr>\n",
              "      <th>1</th>\n",
              "      <td>1st watched 832003 2 10dirbrad sykes mindless ...</td>\n",
              "      <td>negative</td>\n",
              "    </tr>\n",
              "    <tr>\n",
              "      <th>2</th>\n",
              "      <td>think movie probably lot powerful first debute...</td>\n",
              "      <td>positive</td>\n",
              "    </tr>\n",
              "    <tr>\n",
              "      <th>3</th>\n",
              "      <td>ive read lot review imdb well five one written...</td>\n",
              "      <td>negative</td>\n",
              "    </tr>\n",
              "    <tr>\n",
              "      <th>4</th>\n",
              "      <td>got usenet wasnt prepared heavy mean exception...</td>\n",
              "      <td>negative</td>\n",
              "    </tr>\n",
              "    <tr>\n",
              "      <th>...</th>\n",
              "      <td>...</td>\n",
              "      <td>...</td>\n",
              "    </tr>\n",
              "    <tr>\n",
              "      <th>4995</th>\n",
              "      <td>loved movie loved two family crossing path his...</td>\n",
              "      <td>positive</td>\n",
              "    </tr>\n",
              "    <tr>\n",
              "      <th>4996</th>\n",
              "      <td>think found misogynistic film time darklightbr...</td>\n",
              "      <td>negative</td>\n",
              "    </tr>\n",
              "    <tr>\n",
              "      <th>4997</th>\n",
              "      <td>dont know donald sutherland acting style vocal...</td>\n",
              "      <td>negative</td>\n",
              "    </tr>\n",
              "    <tr>\n",
              "      <th>4998</th>\n",
              "      <td>end episode holmes asks watson record case pos...</td>\n",
              "      <td>negative</td>\n",
              "    </tr>\n",
              "    <tr>\n",
              "      <th>4999</th>\n",
              "      <td>first child play original effective little hor...</td>\n",
              "      <td>positive</td>\n",
              "    </tr>\n",
              "  </tbody>\n",
              "</table>\n",
              "<p>5000 rows × 2 columns</p>\n",
              "</div>\n",
              "      <button class=\"colab-df-convert\" onclick=\"convertToInteractive('df-915e68f7-ff7b-4249-9aee-5ee19ac6287c')\"\n",
              "              title=\"Convert this dataframe to an interactive table.\"\n",
              "              style=\"display:none;\">\n",
              "        \n",
              "  <svg xmlns=\"http://www.w3.org/2000/svg\" height=\"24px\"viewBox=\"0 0 24 24\"\n",
              "       width=\"24px\">\n",
              "    <path d=\"M0 0h24v24H0V0z\" fill=\"none\"/>\n",
              "    <path d=\"M18.56 5.44l.94 2.06.94-2.06 2.06-.94-2.06-.94-.94-2.06-.94 2.06-2.06.94zm-11 1L8.5 8.5l.94-2.06 2.06-.94-2.06-.94L8.5 2.5l-.94 2.06-2.06.94zm10 10l.94 2.06.94-2.06 2.06-.94-2.06-.94-.94-2.06-.94 2.06-2.06.94z\"/><path d=\"M17.41 7.96l-1.37-1.37c-.4-.4-.92-.59-1.43-.59-.52 0-1.04.2-1.43.59L10.3 9.45l-7.72 7.72c-.78.78-.78 2.05 0 2.83L4 21.41c.39.39.9.59 1.41.59.51 0 1.02-.2 1.41-.59l7.78-7.78 2.81-2.81c.8-.78.8-2.07 0-2.86zM5.41 20L4 18.59l7.72-7.72 1.47 1.35L5.41 20z\"/>\n",
              "  </svg>\n",
              "      </button>\n",
              "      \n",
              "  <style>\n",
              "    .colab-df-container {\n",
              "      display:flex;\n",
              "      flex-wrap:wrap;\n",
              "      gap: 12px;\n",
              "    }\n",
              "\n",
              "    .colab-df-convert {\n",
              "      background-color: #E8F0FE;\n",
              "      border: none;\n",
              "      border-radius: 50%;\n",
              "      cursor: pointer;\n",
              "      display: none;\n",
              "      fill: #1967D2;\n",
              "      height: 32px;\n",
              "      padding: 0 0 0 0;\n",
              "      width: 32px;\n",
              "    }\n",
              "\n",
              "    .colab-df-convert:hover {\n",
              "      background-color: #E2EBFA;\n",
              "      box-shadow: 0px 1px 2px rgba(60, 64, 67, 0.3), 0px 1px 3px 1px rgba(60, 64, 67, 0.15);\n",
              "      fill: #174EA6;\n",
              "    }\n",
              "\n",
              "    [theme=dark] .colab-df-convert {\n",
              "      background-color: #3B4455;\n",
              "      fill: #D2E3FC;\n",
              "    }\n",
              "\n",
              "    [theme=dark] .colab-df-convert:hover {\n",
              "      background-color: #434B5C;\n",
              "      box-shadow: 0px 1px 3px 1px rgba(0, 0, 0, 0.15);\n",
              "      filter: drop-shadow(0px 1px 2px rgba(0, 0, 0, 0.3));\n",
              "      fill: #FFFFFF;\n",
              "    }\n",
              "  </style>\n",
              "\n",
              "      <script>\n",
              "        const buttonEl =\n",
              "          document.querySelector('#df-915e68f7-ff7b-4249-9aee-5ee19ac6287c button.colab-df-convert');\n",
              "        buttonEl.style.display =\n",
              "          google.colab.kernel.accessAllowed ? 'block' : 'none';\n",
              "\n",
              "        async function convertToInteractive(key) {\n",
              "          const element = document.querySelector('#df-915e68f7-ff7b-4249-9aee-5ee19ac6287c');\n",
              "          const dataTable =\n",
              "            await google.colab.kernel.invokeFunction('convertToInteractive',\n",
              "                                                     [key], {});\n",
              "          if (!dataTable) return;\n",
              "\n",
              "          const docLinkHtml = 'Like what you see? Visit the ' +\n",
              "            '<a target=\"_blank\" href=https://colab.research.google.com/notebooks/data_table.ipynb>data table notebook</a>'\n",
              "            + ' to learn more about interactive tables.';\n",
              "          element.innerHTML = '';\n",
              "          dataTable['output_type'] = 'display_data';\n",
              "          await google.colab.output.renderOutput(dataTable, element);\n",
              "          const docLink = document.createElement('div');\n",
              "          docLink.innerHTML = docLinkHtml;\n",
              "          element.appendChild(docLink);\n",
              "        }\n",
              "      </script>\n",
              "    </div>\n",
              "  </div>\n",
              "  "
            ]
          },
          "metadata": {},
          "execution_count": 4
        }
      ],
      "source": [
        "df_train = pd.read_csv(f\"/content/drive/MyDrive/Lab4_Data/train.csv\")\n",
        "df_val = pd.read_csv(f\"/content/drive/MyDrive/Lab4_Data/val.csv\")\n",
        "df_test = pd.read_csv(f\"/content/drive/MyDrive/Lab4_Data/test.csv\")\n",
        "# df_train = df_train[0:5000]\n",
        "# df_val = df_val[0:715]\n",
        "# df_test = df_test[0:1430]\n",
        "\n",
        "\n",
        "print(len(df_train), len(df_val), len(df_test))\n",
        "df_train\n"
      ]
    },
    {
      "cell_type": "code",
      "execution_count": 5,
      "id": "5074c270-ed3e-4e1a-863d-71737c743cb8",
      "metadata": {
        "id": "5074c270-ed3e-4e1a-863d-71737c743cb8"
      },
      "outputs": [],
      "source": [
        "tokenizer = BertTokenizer.from_pretrained(\"bert-base-cased\")\n",
        "labels = {\n",
        "    \"negative\" : 0 ,\n",
        "    \"positive\" : 1,\n",
        "}\n",
        "\n",
        "\n",
        "class Dataset(torch.utils.data.TensorDataset):\n",
        "    def __init__(self, df):\n",
        "\n",
        "        self.labels = [labels[label] for label in df[\"sentiment\"]]\n",
        "        # self.labels = []\n",
        "        # for label in df[\"sentiment\"]:\n",
        "        #     self.labels.append(label)\n",
        "        self.texts = [\n",
        "            tokenizer(\n",
        "                text,\n",
        "                padding=\"max_length\",\n",
        "                max_length=512,\n",
        "                truncation=True,\n",
        "                return_tensors=\"pt\",\n",
        "            )\n",
        "            for text in df[\"review\"]\n",
        "        ]\n",
        "\n",
        "    def classes(self):\n",
        "        return self.labels\n",
        "\n",
        "    def __len__(self):\n",
        "        return len(self.labels)\n",
        "\n",
        "    def get_batch_labels(self, idx):\n",
        "        # Fetch a batch of labels\n",
        "        return np.array(self.labels[idx])\n",
        "\n",
        "    def get_batch_texts(self, idx):\n",
        "        # Fetch a batch of inputs\n",
        "        return self.texts[idx]\n",
        "\n",
        "    def __getitem__(self, idx):\n",
        "\n",
        "        batch_texts = self.get_batch_texts(idx)\n",
        "        batch_y = self.get_batch_labels(idx)\n",
        "\n",
        "        return batch_texts, batch_y\n"
      ]
    },
    {
      "cell_type": "code",
      "execution_count": 6,
      "id": "0c8a5d0f-80c3-42b3-9f06-ecfc3a21f395",
      "metadata": {
        "id": "0c8a5d0f-80c3-42b3-9f06-ecfc3a21f395"
      },
      "outputs": [],
      "source": [
        "class BertClassifier(nn.Module):\n",
        "    def __init__(self, dropout=0.5):\n",
        "\n",
        "        super(BertClassifier, self).__init__()\n",
        "        self.bert = BertModel.from_pretrained('bert-base-cased')\n",
        "        self.dropout_bert = nn.Dropout(0.5)\n",
        "        self.dropout = nn.Dropout(0.2)\n",
        "        self.linear1 = nn.Linear(768, 512)\n",
        "        self.batchnorm1 = nn.BatchNorm1d(512)\n",
        "        self.linear2 = nn.Linear(512, 256)\n",
        "        self.batchnorm2 = nn.BatchNorm1d(256)\n",
        "        self.linear3 = nn.Linear(256, 128)\n",
        "        self.linear4 = nn.Linear(128, 64)\n",
        "        self.linear_out = nn.Linear(64, 1)\n",
        "        self.relu1 = nn.ReLU()\n",
        "        self.relu2 = nn.ReLU()\n",
        "        self.relu3 = nn.ReLU()\n",
        "        self.relu4 = nn.ReLU()\n",
        "        self.sigmoid = nn.Sigmoid()\n",
        "\n",
        "    def forward(self, input_id, mask):\n",
        "        _, x = self.bert(input_ids=input_id, attention_mask=mask,return_dict=False)\n",
        "        x = self.dropout_bert(x)\n",
        "        x = self.relu1(self.linear1(x))\n",
        "        x = self.batchnorm1(x)\n",
        "        x = self.dropout(x)\n",
        "        x = self.relu2(self.linear2(x))\n",
        "        x = self.batchnorm2(x)\n",
        "        x = self.dropout(x)\n",
        "        x = self.relu3(self.linear3(x))\n",
        "        x = self.dropout(x)\n",
        "        x = self.relu4(self.linear4(x))\n",
        "        x = self.dropout(x)\n",
        "        x = self.sigmoid(self.linear_out(x))\n",
        "        return x\n"
      ]
    },
    {
      "cell_type": "code",
      "execution_count": 7,
      "id": "GtpHS-Zs1V2-",
      "metadata": {
        "id": "GtpHS-Zs1V2-"
      },
      "outputs": [],
      "source": [
        "def save_checkpoint(model, epoch, optimizer, best_acc, model_path):\n",
        "  state = {\n",
        "      'epoch' : epoch + 1,\n",
        "      'model' : model.state_dict(),\n",
        "      'best accuracy' : best_acc,\n",
        "      'optimizer' : optimizer.state_dict()\n",
        "  }\n",
        "  torch.save(state, model_path)"
      ]
    },
    {
      "cell_type": "code",
      "execution_count": 8,
      "id": "YcT8A84qyILR",
      "metadata": {
        "id": "YcT8A84qyILR"
      },
      "outputs": [],
      "source": [
        "batch_size=16   \n",
        "trainn, val, test = Dataset(df_train), Dataset(df_val), Dataset(df_test)"
      ]
    },
    {
      "cell_type": "code",
      "source": [
        "trainn"
      ],
      "metadata": {
        "colab": {
          "base_uri": "https://localhost:8080/"
        },
        "id": "9EfQnvuauO05",
        "outputId": "a9acdbc1-cb1b-4266-d905-46dbbd224a6b"
      },
      "id": "9EfQnvuauO05",
      "execution_count": 9,
      "outputs": [
        {
          "output_type": "execute_result",
          "data": {
            "text/plain": [
              "<__main__.Dataset at 0x7f018d9f2250>"
            ]
          },
          "metadata": {},
          "execution_count": 9
        }
      ]
    },
    {
      "cell_type": "code",
      "source": [
        "train_dataloader = torch.utils.data.DataLoader(trainn, batch_size=batch_size)\n",
        "val_dataloader = torch.utils.data.DataLoader(val, batch_size=batch_size)\n",
        "test_dataloader = torch.utils.data.DataLoader(test, batch_size=batch_size)"
      ],
      "metadata": {
        "id": "1eUTz7L_t_9N"
      },
      "id": "1eUTz7L_t_9N",
      "execution_count": 10,
      "outputs": []
    },
    {
      "cell_type": "code",
      "source": [
        "epoch_list = list()\n",
        "train_loss = list()\n",
        "val_loss = list()\n",
        "train_accuracy = list()\n",
        "val_accuracy = list()\n",
        "\n",
        "config_file = '/content/drive/MyDrive/Lab4_Data/config_1e6.ini'\n",
        "\n",
        "try:\n",
        "    # Load variables from config file\n",
        "    config = configparser.ConfigParser()\n",
        "    config.read(config_file)\n",
        "\n",
        "    epoch_list = ast.literal_eval(config['VARIABLES']['epoch_list'])\n",
        "    train_loss = ast.literal_eval(config['VARIABLES']['train_loss'])\n",
        "    val_loss = ast.literal_eval(config['VARIABLES']['val_loss'])\n",
        "    train_accuracy = ast.literal_eval(config['VARIABLES']['train_accuracy'])\n",
        "    val_accuracy = ast.literal_eval(config['VARIABLES']['val_accuracy'])\n",
        "\n",
        "    print(epoch_list)\n",
        "    print(train_loss)\n",
        "    print(val_loss)\n",
        "    print(train_accuracy)\n",
        "    print(val_accuracy)\n",
        "\n",
        "except:\n",
        "    print(f\"Error while reading config file {config_file}\")\n",
        "    # Save variables to config file\n",
        "    config = configparser.ConfigParser()\n",
        "    config['VARIABLES'] = {'epoch_list': '[]',\n",
        "                          'train_loss': '[]',\n",
        "                          'val_loss': '[]',\n",
        "                           'train_accuracy': '[]',\n",
        "                           'val_accuracy': '[]'}\n",
        "\n",
        "    with open(config_file, 'w') as configfile:\n",
        "        config.write(configfile)"
      ],
      "metadata": {
        "colab": {
          "base_uri": "https://localhost:8080/"
        },
        "id": "OeuK8TSSDLq0",
        "outputId": "c2330426-3108-4e09-9591-8b6d9f3f590f"
      },
      "id": "OeuK8TSSDLq0",
      "execution_count": 11,
      "outputs": [
        {
          "output_type": "stream",
          "name": "stdout",
          "text": [
            "[1]\n",
            "[0.043599981492757796]\n",
            "[0.04356334357932366]\n",
            "[0.4971]\n",
            "[0.5045486354093772]\n"
          ]
        }
      ]
    },
    {
      "cell_type": "code",
      "source": [
        "# train_loss = [0.04332565963949476, 0.04072417997632708, 0.03367434114473206, 0.043327143021992275]\n",
        "# val_loss = [0.042853252792358396, 0.036830956387519834, 0.02853200067281723, 0.04247245973348618]\n",
        "# train_accuracy = [0.5128, 0.6908, 0.8518571428571429, 0.5140285714285714]\n",
        "# val_accuracy = [0.6198, 0.835, 0.8782, 0.65]\n",
        "# epoch_list = [1,2,3,4]\n",
        "\n",
        "# config.update({'VARIABLES':{'train_loss':train_loss,\n",
        "#                             'val_loss':val_loss,\n",
        "#                             'train_accuracy':train_accuracy,\n",
        "#                             'val_accuracy':val_accuracy,\n",
        "#                             'epoch_list':epoch_list}})\n",
        "# with open(config_file, 'w') as configfile:\n",
        "#     config.write(configfile)\n",
        "def plot_all():\n",
        "    plt.figure(figsize = [18, 5])\n",
        "    plt.suptitle(\"Loss and Accuracy in training\")\n",
        "    plt.subplot(1,2,1)\n",
        "    plt.plot(epoch_list,train_loss);\n",
        "    plt.plot(epoch_list,val_loss);\n",
        "    plt.xlabel(\"Epochs\")\n",
        "    plt.ylabel(\"Loss\")\n",
        "    plt.legend([\"Train\",\"Validation\"])\n",
        "    plt.subplot(1,2,2)\n",
        "    plt.plot(epoch_list,train_accuracy);\n",
        "    plt.plot(epoch_list,val_accuracy);\n",
        "    plt.xlabel(\"Epochs\");\n",
        "    plt.ylabel(\"Accuracy\")\n",
        "    plt.legend([\"Train\",\"Validation\"]);\n",
        "    plt.show()\n",
        "    "
      ],
      "metadata": {
        "id": "ioh2iL4mTiKB"
      },
      "id": "ioh2iL4mTiKB",
      "execution_count": 12,
      "outputs": []
    },
    {
      "cell_type": "code",
      "execution_count": 13,
      "id": "9SF4UTQtSmUg",
      "metadata": {
        "id": "9SF4UTQtSmUg"
      },
      "outputs": [],
      "source": [
        "def train(model,train_data, val_data, train_dataloader, val_dataloader, learning_rate, epochs, bach_size, best_model_path, last_model_path,start_from_epoch = 0):                    \n",
        "    # Early stopping\n",
        "    val_avg_acc_best = 0\n",
        "    try:\n",
        "      val_acc_best = max(val_accuracy)\n",
        "    except:\n",
        "      val_acc_best = -1000\n",
        "      print(\"empty\")\n",
        "    early_stop_items_num = 5\n",
        "\n",
        "    use_cuda = torch.cuda.is_available()\n",
        "    device = torch.device(\"cuda\" if use_cuda else \"cpu\")\n",
        "\n",
        "    criterion = nn.BCELoss()\n",
        "    optimizer = Adam(model.parameters(), lr= learning_rate)\n",
        "\n",
        "    if use_cuda:\n",
        "\n",
        "            model = model.cuda()\n",
        "            criterion = criterion.cuda()\n",
        "\n",
        "    for epoch_num in range(start_from_epoch,epochs):\n",
        "            gc.collect()\n",
        "            # torch.cuda.empty_cache()\n",
        "\n",
        "            model.train()\n",
        "            total_acc_train = 0\n",
        "            total_loss_train = 0\n",
        "\n",
        "            for train_input, train_label in tqdm(train_dataloader):\n",
        "                gc.collect()\n",
        "                # torch.cuda.empty_cache()\n",
        "                train_label = train_label.to(device)\n",
        "                mask = train_input['attention_mask'].to(device)\n",
        "                input_id = train_input['input_ids'].squeeze(1).to(device)\n",
        "                output = model(input_id, mask)\n",
        "\n",
        "                batch_loss = criterion(output.squeeze(1), train_label.float())\n",
        "                total_loss_train += batch_loss.item()\n",
        "\n",
        "                y_pred_tag = torch.round(output.squeeze(1))\n",
        "                acc = (y_pred_tag == train_label).sum()\n",
        "\n",
        "                total_acc_train += acc\n",
        "\n",
        "                model.zero_grad()\n",
        "                batch_loss.backward()\n",
        "                optimizer.step()\n",
        "            \n",
        "            total_acc_val = 0\n",
        "            total_loss_val = 0\n",
        "            model.eval()\n",
        "            with torch.no_grad():\n",
        "\n",
        "                for val_input, val_label in val_dataloader:\n",
        "                    gc.collect()\n",
        "                    # torch.cuda.empty_cache()\n",
        "\n",
        "                    val_label = val_label.to(device)\n",
        "                    mask = val_input['attention_mask'].to(device)\n",
        "                    input_id = val_input['input_ids'].squeeze(1).to(device)\n",
        "\n",
        "                    output = model(input_id, mask)\n",
        "\n",
        "                    batch_loss = criterion(output.squeeze(1), val_label.float())\n",
        "                    total_loss_val += batch_loss.item()\n",
        "                    \n",
        "                    y_pred_tag = torch.round(output.squeeze(1))\n",
        "                    acc = (y_pred_tag == val_label).sum()\n",
        "                    total_acc_val += acc\n",
        "            \n",
        "            train_loss.append(total_loss_train / len(train_data))\n",
        "            train_accuracy.append(total_acc_train.item() / len(train_data))\n",
        "            val_loss.append(total_loss_val / len(val_data))\n",
        "            val_accuracy.append(total_acc_val.item() / len(val_data))\n",
        "            epoch_list.append(epoch_num+1)\n",
        "            val_acc_new = total_acc_val / len(val_data)\n",
        "            \n",
        "            \n",
        "            print(\n",
        "                f'Epochs: {epoch_num + 1} | Train Loss: {total_loss_train / len(train_data): .3f} \\\n",
        "                | Train Accuracy: {total_acc_train / len(train_data): .3f} \\\n",
        "                | Val Loss: {total_loss_val / len(val_data): .3f} \\\n",
        "                | Val Accuracy: {total_acc_val / len(val_data): .3f}')\n",
        "            \n",
        "            \n",
        "            if val_acc_new > val_acc_best:\n",
        "              val_acc_best = val_acc_new\n",
        "              save_checkpoint(model, epoch_num, optimizer, val_acc_best, best_model_path)\n",
        "\n",
        "            save_checkpoint(model, epoch_num, optimizer, val_acc_new, last_model_path)\n",
        "            # Early stopping\n",
        "            current_avg_acc = sum(val_accuracy[-early_stop_items_num:])/early_stop_items_num\n",
        "            val_avg_acc_best = max(val_avg_acc_best, current_avg_acc)\n",
        "            \n",
        "            print(val_accuracy)\n",
        "            print(early_stop_items_num)\n",
        "            print(val_accuracy[-early_stop_items_num:])\n",
        "            print(\"current_avg_acc = \", current_avg_acc)\n",
        "            print(\"val_avg_acc_best = \", val_avg_acc_best)\n",
        "            print(\"Difference = \", (val_avg_acc_best - current_avg_acc))\n",
        "\n",
        "            if len(val_accuracy) >= early_stop_items_num and (val_avg_acc_best - current_avg_acc) >= 0.04:\n",
        "                print(\"Early stopping at epoch:\", epoch_num+1)\n",
        "                break\n",
        "            the_current_loss = total_loss_val / len(val_data)\n",
        "            the_last_loss = the_current_loss\n",
        "            config.update({'VARIABLES':{\n",
        "                            'train_loss':train_loss,\n",
        "                            'val_loss':val_loss,\n",
        "                            'train_accuracy':train_accuracy,\n",
        "                            'val_accuracy':val_accuracy,\n",
        "                            'epoch_list':epoch_list}})\n",
        "            with open(config_file, 'w') as configfile:\n",
        "                config.write(configfile)\n",
        "            # plot_all()\n",
        "                  "
      ]
    },
    {
      "cell_type": "code",
      "execution_count": 14,
      "id": "ve3kDq-tS0Dk",
      "metadata": {
        "colab": {
          "base_uri": "https://localhost:8080/",
          "height": 1000
        },
        "id": "ve3kDq-tS0Dk",
        "outputId": "bf525e84-9eb3-4ee7-c814-ca5561826ac5"
      },
      "outputs": [
        {
          "output_type": "stream",
          "name": "stderr",
          "text": [
            "Some weights of the model checkpoint at bert-base-cased were not used when initializing BertModel: ['cls.seq_relationship.bias', 'cls.predictions.decoder.weight', 'cls.predictions.transform.LayerNorm.bias', 'cls.seq_relationship.weight', 'cls.predictions.transform.dense.weight', 'cls.predictions.transform.LayerNorm.weight', 'cls.predictions.bias', 'cls.predictions.transform.dense.bias']\n",
            "- This IS expected if you are initializing BertModel from the checkpoint of a model trained on another task or with another architecture (e.g. initializing a BertForSequenceClassification model from a BertForPreTraining model).\n",
            "- This IS NOT expected if you are initializing BertModel from the checkpoint of a model that you expect to be exactly identical (initializing a BertForSequenceClassification model from a BertForSequenceClassification model).\n"
          ]
        },
        {
          "output_type": "display_data",
          "data": {
            "text/plain": [
              "<Figure size 1296x360 with 2 Axes>"
            ],
            "image/png": "[encoded data removed]"
          },
          "metadata": {
            "needs_background": "light"
          }
        },
        {
          "output_type": "stream",
          "name": "stdout",
          "text": [
            "1\n"
          ]
        },
        {
          "output_type": "stream",
          "name": "stderr",
          "text": [
            "100%|██████████| 313/313 [08:00<00:00,  1.53s/it]\n"
          ]
        },
        {
          "output_type": "stream",
          "name": "stdout",
          "text": [
            "Epochs: 2 | Train Loss:  0.043                 | Train Accuracy:  0.513                 | Val Loss:  0.044                 | Val Accuracy:  0.502\n",
            "[0.5045486354093772, 0.5020979020979021]\n",
            "5\n",
            "[0.5045486354093772, 0.5020979020979021]\n",
            "current_avg_acc =  0.20132930750145586\n",
            "val_avg_acc_best =  0.20132930750145586\n",
            "Difference =  0.0\n"
          ]
        },
        {
          "output_type": "stream",
          "name": "stderr",
          "text": [
            "100%|██████████| 313/313 [08:00<00:00,  1.53s/it]\n"
          ]
        },
        {
          "output_type": "stream",
          "name": "stdout",
          "text": [
            "Epochs: 3 | Train Loss:  0.043                 | Train Accuracy:  0.507                 | Val Loss:  0.044                 | Val Accuracy:  0.474\n",
            "[0.5045486354093772, 0.5020979020979021, 0.47412587412587415]\n",
            "5\n",
            "[0.5045486354093772, 0.5020979020979021, 0.47412587412587415]\n",
            "current_avg_acc =  0.29615448232663066\n",
            "val_avg_acc_best =  0.29615448232663066\n",
            "Difference =  0.0\n"
          ]
        },
        {
          "output_type": "stream",
          "name": "stderr",
          "text": [
            "100%|██████████| 313/313 [07:57<00:00,  1.53s/it]\n"
          ]
        },
        {
          "output_type": "stream",
          "name": "stdout",
          "text": [
            "Epochs: 4 | Train Loss:  0.043                 | Train Accuracy:  0.520                 | Val Loss:  0.043                 | Val Accuracy:  0.541\n",
            "[0.5045486354093772, 0.5020979020979021, 0.47412587412587415, 0.5412587412587413]\n",
            "5\n",
            "[0.5045486354093772, 0.5020979020979021, 0.47412587412587415, 0.5412587412587413]\n",
            "current_avg_acc =  0.404406230578379\n",
            "val_avg_acc_best =  0.404406230578379\n",
            "Difference =  0.0\n"
          ]
        },
        {
          "output_type": "stream",
          "name": "stderr",
          "text": [
            "100%|██████████| 313/313 [07:58<00:00,  1.53s/it]\n"
          ]
        },
        {
          "output_type": "stream",
          "name": "stdout",
          "text": [
            "Epochs: 5 | Train Loss:  0.043                 | Train Accuracy:  0.510                 | Val Loss:  0.043                 | Val Accuracy:  0.566\n",
            "[0.5045486354093772, 0.5020979020979021, 0.47412587412587415, 0.5412587412587413, 0.5664335664335665]\n",
            "5\n",
            "[0.5045486354093772, 0.5020979020979021, 0.47412587412587415, 0.5412587412587413, 0.5664335664335665]\n",
            "current_avg_acc =  0.5176929438650923\n",
            "val_avg_acc_best =  0.5176929438650923\n",
            "Difference =  0.0\n"
          ]
        },
        {
          "output_type": "stream",
          "name": "stderr",
          "text": [
            "100%|██████████| 313/313 [08:00<00:00,  1.53s/it]\n"
          ]
        },
        {
          "output_type": "stream",
          "name": "stdout",
          "text": [
            "Epochs: 6 | Train Loss:  0.043                 | Train Accuracy:  0.529                 | Val Loss:  0.043                 | Val Accuracy:  0.622\n",
            "[0.5045486354093772, 0.5020979020979021, 0.47412587412587415, 0.5412587412587413, 0.5664335664335665, 0.6223776223776224]\n",
            "5\n",
            "[0.5020979020979021, 0.47412587412587415, 0.5412587412587413, 0.5664335664335665, 0.6223776223776224]\n",
            "current_avg_acc =  0.5412587412587413\n",
            "val_avg_acc_best =  0.5412587412587413\n",
            "Difference =  0.0\n"
          ]
        },
        {
          "output_type": "stream",
          "name": "stderr",
          "text": [
            "100%|██████████| 313/313 [07:58<00:00,  1.53s/it]\n"
          ]
        },
        {
          "output_type": "stream",
          "name": "stdout",
          "text": [
            "Epochs: 7 | Train Loss:  0.043                 | Train Accuracy:  0.543                 | Val Loss:  0.043                 | Val Accuracy:  0.670\n",
            "[0.5045486354093772, 0.5020979020979021, 0.47412587412587415, 0.5412587412587413, 0.5664335664335665, 0.6223776223776224, 0.66993006993007]\n",
            "5\n",
            "[0.47412587412587415, 0.5412587412587413, 0.5664335664335665, 0.6223776223776224, 0.66993006993007]\n",
            "current_avg_acc =  0.5748251748251748\n",
            "val_avg_acc_best =  0.5748251748251748\n",
            "Difference =  0.0\n"
          ]
        },
        {
          "output_type": "stream",
          "name": "stderr",
          "text": [
            "100%|██████████| 313/313 [07:57<00:00,  1.53s/it]\n"
          ]
        },
        {
          "output_type": "stream",
          "name": "stdout",
          "text": [
            "Epochs: 8 | Train Loss:  0.043                 | Train Accuracy:  0.581                 | Val Loss:  0.043                 | Val Accuracy:  0.691\n",
            "[0.5045486354093772, 0.5020979020979021, 0.47412587412587415, 0.5412587412587413, 0.5664335664335665, 0.6223776223776224, 0.66993006993007, 0.6909090909090909]\n",
            "5\n",
            "[0.5412587412587413, 0.5664335664335665, 0.6223776223776224, 0.66993006993007, 0.6909090909090909]\n",
            "current_avg_acc =  0.6181818181818183\n",
            "val_avg_acc_best =  0.6181818181818183\n",
            "Difference =  0.0\n"
          ]
        },
        {
          "output_type": "stream",
          "name": "stderr",
          "text": [
            "100%|██████████| 313/313 [07:58<00:00,  1.53s/it]\n"
          ]
        },
        {
          "output_type": "stream",
          "name": "stdout",
          "text": [
            "Epochs: 9 | Train Loss:  0.042                 | Train Accuracy:  0.613                 | Val Loss:  0.042                 | Val Accuracy:  0.762\n",
            "[0.5045486354093772, 0.5020979020979021, 0.47412587412587415, 0.5412587412587413, 0.5664335664335665, 0.6223776223776224, 0.66993006993007, 0.6909090909090909, 0.7622377622377622]\n",
            "5\n",
            "[0.5664335664335665, 0.6223776223776224, 0.66993006993007, 0.6909090909090909, 0.7622377622377622]\n",
            "current_avg_acc =  0.6623776223776223\n",
            "val_avg_acc_best =  0.6623776223776223\n",
            "Difference =  0.0\n"
          ]
        },
        {
          "output_type": "stream",
          "name": "stderr",
          "text": [
            "100%|██████████| 313/313 [07:56<00:00,  1.52s/it]\n"
          ]
        },
        {
          "output_type": "stream",
          "name": "stdout",
          "text": [
            "Epochs: 10 | Train Loss:  0.041                 | Train Accuracy:  0.667                 | Val Loss:  0.041                 | Val Accuracy:  0.779\n",
            "[0.5045486354093772, 0.5020979020979021, 0.47412587412587415, 0.5412587412587413, 0.5664335664335665, 0.6223776223776224, 0.66993006993007, 0.6909090909090909, 0.7622377622377622, 0.779020979020979]\n",
            "5\n",
            "[0.6223776223776224, 0.66993006993007, 0.6909090909090909, 0.7622377622377622, 0.779020979020979]\n",
            "current_avg_acc =  0.7048951048951049\n",
            "val_avg_acc_best =  0.7048951048951049\n",
            "Difference =  0.0\n"
          ]
        },
        {
          "output_type": "stream",
          "name": "stderr",
          "text": [
            " 46%|████▋     | 145/313 [03:43<04:19,  1.54s/it]\n"
          ]
        },
        {
          "output_type": "error",
          "ename": "KeyboardInterrupt",
          "evalue": "ignored",
          "traceback": [
            "\u001b[0;31m---------------------------------------------------------------------------\u001b[0m",
            "\u001b[0;31mKeyboardInterrupt\u001b[0m                         Traceback (most recent call last)",
            "\u001b[0;32m<ipython-input-14-af037c878ac8>\u001b[0m in \u001b[0;36m<module>\u001b[0;34m\u001b[0m\n\u001b[1;32m     11\u001b[0m   \u001b[0mepoch_num\u001b[0m \u001b[0;34m=\u001b[0m \u001b[0mepoch_list\u001b[0m\u001b[0;34m[\u001b[0m\u001b[0;34m-\u001b[0m\u001b[0;36m1\u001b[0m\u001b[0;34m]\u001b[0m\u001b[0;34m\u001b[0m\u001b[0;34m\u001b[0m\u001b[0m\n\u001b[1;32m     12\u001b[0m \u001b[0mprint\u001b[0m\u001b[0;34m(\u001b[0m\u001b[0mepoch_num\u001b[0m\u001b[0;34m)\u001b[0m\u001b[0;34m\u001b[0m\u001b[0;34m\u001b[0m\u001b[0m\n\u001b[0;32m---> 13\u001b[0;31m \u001b[0mtrain\u001b[0m\u001b[0;34m(\u001b[0m\u001b[0mmodel\u001b[0m\u001b[0;34m,\u001b[0m \u001b[0mdf_train\u001b[0m\u001b[0;34m,\u001b[0m \u001b[0mdf_val\u001b[0m\u001b[0;34m,\u001b[0m \u001b[0mtrain_dataloader\u001b[0m\u001b[0;34m,\u001b[0m \u001b[0mval_dataloader\u001b[0m\u001b[0;34m,\u001b[0m \u001b[0mLR\u001b[0m\u001b[0;34m,\u001b[0m \u001b[0mEPOCHS\u001b[0m\u001b[0;34m,\u001b[0m\u001b[0mbatch_size\u001b[0m\u001b[0;34m,\u001b[0m \u001b[0mbest_model_path\u001b[0m\u001b[0;34m,\u001b[0m \u001b[0mlast_model_path\u001b[0m\u001b[0;34m,\u001b[0m\u001b[0mstart_from_epoch\u001b[0m \u001b[0;34m=\u001b[0m \u001b[0mepoch_num\u001b[0m\u001b[0;34m)\u001b[0m\u001b[0;34m\u001b[0m\u001b[0;34m\u001b[0m\u001b[0m\n\u001b[0m\u001b[1;32m     14\u001b[0m \u001b[0mplot_all\u001b[0m\u001b[0;34m(\u001b[0m\u001b[0;34m)\u001b[0m\u001b[0;34m\u001b[0m\u001b[0;34m\u001b[0m\u001b[0m\n",
            "\u001b[0;32m<ipython-input-13-3e8541fe643b>\u001b[0m in \u001b[0;36mtrain\u001b[0;34m(model, train_data, val_data, train_dataloader, val_dataloader, learning_rate, epochs, bach_size, best_model_path, last_model_path, start_from_epoch)\u001b[0m\n\u001b[1;32m     45\u001b[0m \u001b[0;34m\u001b[0m\u001b[0m\n\u001b[1;32m     46\u001b[0m                 \u001b[0mmodel\u001b[0m\u001b[0;34m.\u001b[0m\u001b[0mzero_grad\u001b[0m\u001b[0;34m(\u001b[0m\u001b[0;34m)\u001b[0m\u001b[0;34m\u001b[0m\u001b[0;34m\u001b[0m\u001b[0m\n\u001b[0;32m---> 47\u001b[0;31m                 \u001b[0mbatch_loss\u001b[0m\u001b[0;34m.\u001b[0m\u001b[0mbackward\u001b[0m\u001b[0;34m(\u001b[0m\u001b[0;34m)\u001b[0m\u001b[0;34m\u001b[0m\u001b[0;34m\u001b[0m\u001b[0m\n\u001b[0m\u001b[1;32m     48\u001b[0m                 \u001b[0moptimizer\u001b[0m\u001b[0;34m.\u001b[0m\u001b[0mstep\u001b[0m\u001b[0;34m(\u001b[0m\u001b[0;34m)\u001b[0m\u001b[0;34m\u001b[0m\u001b[0;34m\u001b[0m\u001b[0m\n\u001b[1;32m     49\u001b[0m \u001b[0;34m\u001b[0m\u001b[0m\n",
            "\u001b[0;32m/usr/local/lib/python3.8/dist-packages/torch/_tensor.py\u001b[0m in \u001b[0;36mbackward\u001b[0;34m(self, gradient, retain_graph, create_graph, inputs)\u001b[0m\n\u001b[1;32m    486\u001b[0m                 \u001b[0minputs\u001b[0m\u001b[0;34m=\u001b[0m\u001b[0minputs\u001b[0m\u001b[0;34m,\u001b[0m\u001b[0;34m\u001b[0m\u001b[0;34m\u001b[0m\u001b[0m\n\u001b[1;32m    487\u001b[0m             )\n\u001b[0;32m--> 488\u001b[0;31m         torch.autograd.backward(\n\u001b[0m\u001b[1;32m    489\u001b[0m             \u001b[0mself\u001b[0m\u001b[0;34m,\u001b[0m \u001b[0mgradient\u001b[0m\u001b[0;34m,\u001b[0m \u001b[0mretain_graph\u001b[0m\u001b[0;34m,\u001b[0m \u001b[0mcreate_graph\u001b[0m\u001b[0;34m,\u001b[0m \u001b[0minputs\u001b[0m\u001b[0;34m=\u001b[0m\u001b[0minputs\u001b[0m\u001b[0;34m\u001b[0m\u001b[0;34m\u001b[0m\u001b[0m\n\u001b[1;32m    490\u001b[0m         )\n",
            "\u001b[0;32m/usr/local/lib/python3.8/dist-packages/torch/autograd/__init__.py\u001b[0m in \u001b[0;36mbackward\u001b[0;34m(tensors, grad_tensors, retain_graph, create_graph, grad_variables, inputs)\u001b[0m\n\u001b[1;32m    195\u001b[0m     \u001b[0;31m# some Python versions print out the first line of a multi-line function\u001b[0m\u001b[0;34m\u001b[0m\u001b[0;34m\u001b[0m\u001b[0;34m\u001b[0m\u001b[0m\n\u001b[1;32m    196\u001b[0m     \u001b[0;31m# calls in the traceback and some print out the last line\u001b[0m\u001b[0;34m\u001b[0m\u001b[0;34m\u001b[0m\u001b[0;34m\u001b[0m\u001b[0m\n\u001b[0;32m--> 197\u001b[0;31m     Variable._execution_engine.run_backward(  # Calls into the C++ engine to run the backward pass\n\u001b[0m\u001b[1;32m    198\u001b[0m         \u001b[0mtensors\u001b[0m\u001b[0;34m,\u001b[0m \u001b[0mgrad_tensors_\u001b[0m\u001b[0;34m,\u001b[0m \u001b[0mretain_graph\u001b[0m\u001b[0;34m,\u001b[0m \u001b[0mcreate_graph\u001b[0m\u001b[0;34m,\u001b[0m \u001b[0minputs\u001b[0m\u001b[0;34m,\u001b[0m\u001b[0;34m\u001b[0m\u001b[0;34m\u001b[0m\u001b[0m\n\u001b[1;32m    199\u001b[0m         allow_unreachable=True, accumulate_grad=True)  # Calls into the C++ engine to run the backward pass\n",
            "\u001b[0;31mKeyboardInterrupt\u001b[0m: "
          ]
        }
      ],
      "source": [
        "EPOCHS = 10000\n",
        "model = BertClassifier()\n",
        "LR = 1e-6\n",
        "best_model_path = f\"/content/drive/MyDrive/Lab4_Data/model_best.pth.tar\"\n",
        "last_model_path = f\"/content/drive/MyDrive/Lab4_Data/model_last.pth.tar\"\n",
        "gc.collect()\n",
        "torch.cuda.empty_cache()\n",
        "# plot_all()\n",
        "epoch_num = 0\n",
        "if len(epoch_list) != 0:\n",
        "  epoch_num = epoch_list[-1]\n",
        "print(epoch_num)\n",
        "train(model, df_train, df_val, train_dataloader, val_dataloader, LR, EPOCHS,batch_size, best_model_path, last_model_path,start_from_epoch = epoch_num)\n",
        "plot_all()"
      ]
    },
    {
      "cell_type": "code",
      "source": [
        "print(train_loss)\n",
        "print(train_accuracy)\n",
        "print(val_loss)\n",
        "print(val_accuracy)\n",
        "\n",
        "print(epoch_list)"
      ],
      "metadata": {
        "id": "IUBkAaY41wsC"
      },
      "id": "IUBkAaY41wsC",
      "execution_count": null,
      "outputs": []
    },
    {
      "cell_type": "code",
      "execution_count": null,
      "id": "jn_h6v_DU158",
      "metadata": {
        "id": "jn_h6v_DU158"
      },
      "outputs": [],
      "source": [
        "from sklearn.metrics import confusion_matrix\n",
        "\n",
        "def evaluate(model, test_data, test_dataloader):\n",
        "\n",
        "    use_cuda = torch.cuda.is_available()\n",
        "    device = torch.device(\"cuda\" if use_cuda else \"cpu\")\n",
        "    final_confusion_matrix = np.zeros([2,2])\n",
        "\n",
        "    if use_cuda:\n",
        "\n",
        "        model = model.cuda()\n",
        "\n",
        "    total_acc_test = 0\n",
        "    model.eval()\n",
        "    with torch.no_grad():\n",
        "\n",
        "        for test_input, test_label in test_dataloader:\n",
        "              test_label = test_label.to(device)\n",
        "              # print(test_label)\n",
        "              mask = test_input['attention_mask'].to(device)\n",
        "              input_id = test_input['input_ids'].squeeze(1).to(device)\n",
        "              output = model(input_id, mask)\n",
        "              y_pred_tag = torch.round(output.argmax(dim=1))\n",
        "              # print(y_pred_tag)\n",
        "              for i in range(len(input_id)):\n",
        "                tokens = tokenizer.convert_ids_to_tokens(input_id[i])\n",
        "                text = tokenizer.convert_tokens_to_string(tokens)\n",
        "                text = text.replace('[CLS] ','').replace(' [SEP]  ','').replace('[PAD]','')\n",
        "                # print(text + \" | Output : \"+ labels[y_pred_tag.cpu().data.numpy()[i]] + \" | Actual : \" + labels[test_label.cpu().data.numpy()[i]])\n",
        "              \n",
        "              acc = (y_pred_tag == test_label).sum()\n",
        "              total_acc_test += acc\n",
        "              final_confusion_matrix += confusion_matrix(test_label.cpu().data.numpy(), y_pred_tag.cpu().data.numpy())\n",
        "    \n",
        "    TP = final_confusion_matrix[0][0]\n",
        "    FP = final_confusion_matrix[0][1]\n",
        "    FN = final_confusion_matrix[1][0]\n",
        "    TN = final_confusion_matrix[1][1]\n",
        "    Percision = TP/(TP+FP)\n",
        "    Recall = TP/(TP+FN)\n",
        "    print(f'Test Accuracy: {total_acc_test / len(test_data): .3f}')\n",
        "    print(f'Percision : {Percision}')\n",
        "    print(f'Sensitivity (Recall) : {Recall}')\n",
        "    print(f'Specifity : {TN/(TN+FP)}')\n",
        "    print(f'F1 Score = {((2*Percision*Recall)/(Percision+Recall))}')\n",
        "    print('Confusion Matrix :')\n",
        "    print(final_confusion_matrix)\n",
        "    \n"
      ]
    },
    {
      "cell_type": "code",
      "execution_count": null,
      "id": "KXNwjO4L60M4",
      "metadata": {
        "id": "KXNwjO4L60M4"
      },
      "outputs": [],
      "source": [
        "loaded_checkpoint = torch.load(best_model_path)\n",
        "model = BertClassifier()\n",
        "model.load_state_dict(loaded_checkpoint[\"model\"])"
      ]
    },
    {
      "cell_type": "code",
      "source": [
        "evaluate(model, df_test, test_dataloader)"
      ],
      "metadata": {
        "id": "LbcWzQOlZ6_O"
      },
      "id": "LbcWzQOlZ6_O",
      "execution_count": null,
      "outputs": []
    },
    {
      "cell_type": "code",
      "source": [],
      "metadata": {
        "id": "HwxsbB_T9K-3"
      },
      "id": "HwxsbB_T9K-3",
      "execution_count": null,
      "outputs": []
    }
  ],
  "metadata": {
    "accelerator": "GPU",
    "colab": {
      "provenance": []
    },
    "gpuClass": "standard",
    "kernelspec": {
      "display_name": "Python 3 (ipykernel)",
      "language": "python",
      "name": "python3"
    },
    "language_info": {
      "codemirror_mode": {
        "name": "ipython",
        "version": 3
      },
      "file_extension": ".py",
      "mimetype": "text/x-python",
      "name": "python",
      "nbconvert_exporter": "python",
      "pygments_lexer": "ipython3",
      "version": "3.8.10"
    },
    "vscode": {
      "interpreter": {
        "hash": "767d51c1340bd893661ea55ea3124f6de3c7a262a8b4abca0554b478b1e2ff90"
      }
    }
  },
  "nbformat": 4,
  "nbformat_minor": 5
}