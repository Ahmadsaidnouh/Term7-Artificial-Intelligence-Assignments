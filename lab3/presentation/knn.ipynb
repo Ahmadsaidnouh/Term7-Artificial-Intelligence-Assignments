{
 "cells": [
  {
   "cell_type": "code",
   "execution_count": 1,
   "id": "e57bef51",
   "metadata": {},
   "outputs": [],
   "source": [
    "import numpy as np\n",
    "import pandas as pd\n",
    "import matplotlib.pyplot as plt\n",
    "from sklearn.preprocessing import MinMaxScaler\n",
    "from sklearn.metrics import mean_squared_error\n",
    "from sklearn.neighbors import KNeighborsClassifier\n",
    "from sklearn.metrics import classification_report, confusion_matrix"
   ]
  },
  {
   "cell_type": "code",
   "execution_count": 2,
   "id": "f4d2a537",
   "metadata": {},
   "outputs": [],
   "source": [
    "trainingSet = pd.read_csv('data/training.csv')  # read the data\n",
    "testingSet = pd.read_csv('data/testing.csv')  # read the data"
   ]
  },
  {
   "cell_type": "code",
   "execution_count": 3,
   "id": "a13d36b1",
   "metadata": {},
   "outputs": [],
   "source": [
    "# print(trainingSet.head(10))  # displays the first 5 elements in training data\n",
    "# print(testingSet.head(10))  # displays the first 5 elements in testing data"
   ]
  },
  {
   "cell_type": "code",
   "execution_count": 4,
   "id": "9e853ed6",
   "metadata": {},
   "outputs": [],
   "source": [
    "# training data\n",
    "X_train = trainingSet.iloc[:, :-1]  # X_train contains the features only without the class\n",
    "y_train = trainingSet.iloc[:, -1]  # Y_train contains the class only without the features"
   ]
  },
  {
   "cell_type": "code",
   "execution_count": 5,
   "id": "23d641d6",
   "metadata": {},
   "outputs": [],
   "source": [
    "# testing data\n",
    "X_test = testingSet.iloc[:, :-1]  # X_test contains the features only without the class\n",
    "y_test = testingSet.iloc[:, -1]  # Y_test contains the class only without the features"
   ]
  },
  {
   "cell_type": "code",
   "execution_count": 6,
   "id": "988223c1",
   "metadata": {},
   "outputs": [],
   "source": [
    "# print(trainingSet.head(5))  # displays the first 5 elements in training data\n",
    "# print(X_train.head(5))  # displays the features of first 5 elements in training data\n",
    "# print(y_train.head(5))  # displays the class of first 5 elements in training data"
   ]
  },
  {
   "cell_type": "code",
   "execution_count": 7,
   "id": "0e702eca",
   "metadata": {},
   "outputs": [],
   "source": [
    "# print(testingSet.head(5))  # displays the first 5 elements in testing data\n",
    "# print(X_test.head(5))  # displays the features of first 5 elements in testing data\n",
    "# print(y_test.head(5))  # displays the class of first 5 elements in testing data"
   ]
  },
  {
   "cell_type": "code",
   "execution_count": 8,
   "id": "2d51193c",
   "metadata": {},
   "outputs": [],
   "source": [
    "# print(len(X_train))\n",
    "# print(len(X_test))\n",
    "# print(len(y_train))\n",
    "# print(len(y_test))"
   ]
  },
  {
   "cell_type": "code",
   "execution_count": 9,
   "id": "1ededcef",
   "metadata": {},
   "outputs": [],
   "source": [
    "scaler = MinMaxScaler(copy=True, feature_range=(0,1))\n",
    "X_train = scaler.fit_transform(X_train)\n",
    "X_test = scaler.transform(X_test)"
   ]
  },
  {
   "cell_type": "code",
   "execution_count": 10,
   "id": "7d6bc290",
   "metadata": {},
   "outputs": [],
   "source": [
    "# print(type(X_train))\n",
    "# print(type(X_test))\n",
    "# print(type(y_train))\n",
    "# print(type(y_test))"
   ]
  },
  {
   "cell_type": "code",
   "execution_count": 11,
   "id": "aee0171b",
   "metadata": {},
   "outputs": [],
   "source": [
    "X_Ktrain = []\n",
    "y_Ktrain = []\n",
    "k = 4\n",
    "step = len(X_train)/k\n",
    "step = np.ceil(step)\n",
    "step = int(step)\n",
    "for i in range(0,len(X_train),step):\n",
    "    X_Ktrain.append(X_train[i:i+step])\n",
    "    y_Ktrain.append(y_train[i:i+step])\n",
    "    \n",
    "# print(type(X_train))\n",
    "# print(type(y_train))\n",
    "# print(type(y_Ktrain[0]))\n",
    "# print(type(X_Ktrain[0]))"
   ]
  },
  {
   "cell_type": "markdown",
   "id": "28b09c12",
   "metadata": {},
   "source": [
    "## Cross validation range(1,60) with step 1"
   ]
  },
  {
   "cell_type": "code",
   "execution_count": 13,
   "id": "3f30cf32",
   "metadata": {},
   "outputs": [
    {
     "name": "stdout",
     "output_type": "stream",
     "text": [
      "k =  1 err =  1.8094831268688596\n",
      "######################################\n",
      "\n",
      "k =  2 err =  1.9478855190089706\n",
      "######################################\n",
      "\n",
      "k =  3 err =  1.672789406236651\n",
      "######################################\n",
      "\n",
      "k =  4 err =  1.672789406236651\n",
      "######################################\n",
      "\n",
      "k =  5 err =  1.642033319094404\n",
      "######################################\n",
      "\n",
      "k =  6 err =  1.6369073045706963\n",
      "######################################\n",
      "\n",
      "k =  7 err =  1.5839384878257154\n",
      "######################################\n",
      "\n",
      "k =  8 err =  1.630072618539086\n",
      "######################################\n",
      "\n",
      "k =  9 err =  1.6215292609995728\n",
      "######################################\n",
      "\n",
      "k =  10 err =  1.650576676633917\n",
      "######################################\n",
      "\n",
      "k =  11 err =  1.636907304570696\n",
      "######################################\n",
      "\n",
      "k =  12 err =  1.6266552755232806\n",
      "######################################\n",
      "\n",
      "k =  13 err =  1.6146945749679624\n",
      "######################################\n",
      "\n",
      "k =  14 err =  1.6027338744126443\n",
      "######################################\n",
      "\n",
      "k =  15 err =  1.6181119179837675\n",
      "######################################\n",
      "\n",
      "k =  16 err =  1.6249466040153782\n",
      "######################################\n",
      "\n",
      "k =  17 err =  1.6010252029047416\n",
      "######################################\n",
      "\n",
      "k =  18 err =  1.6215292609995728\n",
      "######################################\n",
      "\n",
      "k =  19 err =  1.6095685604442544\n",
      "######################################\n",
      "\n",
      "k =  20 err =  1.6215292609995728\n",
      "######################################\n",
      "\n",
      "k =  21 err =  1.6283639470311833\n",
      "######################################\n",
      "\n",
      "k =  22 err =  1.6198205894916702\n",
      "######################################\n",
      "\n",
      "k =  23 err =  1.6027338744126443\n",
      "######################################\n",
      "\n",
      "k =  24 err =  1.6215292609995728\n",
      "######################################\n",
      "\n",
      "k =  25 err =  1.6232379325074755\n",
      "######################################\n",
      "\n",
      "k =  26 err =  1.638615976078599\n",
      "######################################\n",
      "\n",
      "k =  27 err =  1.630072618539086\n",
      "######################################\n",
      "\n",
      "k =  28 err =  1.6505766766339172\n",
      "######################################\n",
      "\n",
      "k =  29 err =  1.6454506621102092\n",
      "######################################\n",
      "\n",
      "k =  30 err =  1.647159333618112\n",
      "######################################\n",
      "\n",
      "k =  31 err =  1.6437419906023067\n",
      "######################################\n",
      "\n",
      "k =  32 err =  1.6471593336181118\n",
      "######################################\n",
      "\n",
      "k =  33 err =  1.655702691157625\n",
      "######################################\n",
      "\n",
      "k =  34 err =  1.6539940196497223\n",
      "######################################\n",
      "\n",
      "k =  35 err =  1.6625373771892353\n",
      "######################################\n",
      "\n",
      "k =  36 err =  1.6710807347287484\n",
      "######################################\n",
      "\n",
      "k =  37 err =  1.6642460486971378\n",
      "######################################\n",
      "\n",
      "k =  38 err =  1.65912003417343\n",
      "######################################\n",
      "\n",
      "k =  39 err =  1.6796240922682615\n",
      "######################################\n",
      "\n",
      "k =  40 err =  1.6932934643314823\n",
      "######################################\n",
      "\n",
      "k =  41 err =  1.6915847928235799\n",
      "######################################\n",
      "\n",
      "k =  42 err =  1.6881674498077746\n",
      "######################################\n",
      "\n",
      "k =  43 err =  1.681332763776164\n",
      "######################################\n",
      "\n",
      "k =  44 err =  1.664246048697138\n",
      "######################################\n",
      "\n",
      "k =  45 err =  1.65912003417343\n",
      "######################################\n",
      "\n",
      "k =  46 err =  1.6710807347287484\n",
      "######################################\n",
      "\n",
      "k =  47 err =  1.6710807347287484\n",
      "######################################\n",
      "\n",
      "k =  48 err =  1.6847501067919692\n",
      "######################################\n",
      "\n",
      "k =  49 err =  1.6915847928235797\n",
      "######################################\n",
      "\n",
      "k =  50 err =  1.6830414352840666\n",
      "######################################\n",
      "\n",
      "k =  51 err =  1.689876121315677\n",
      "######################################\n",
      "\n",
      "k =  52 err =  1.7069628363947031\n",
      "######################################\n",
      "\n",
      "k =  53 err =  1.712088850918411\n",
      "######################################\n",
      "\n",
      "k =  54 err =  1.7223408799658266\n",
      "######################################\n",
      "\n",
      "k =  55 err =  1.7274668944895344\n",
      "######################################\n",
      "\n",
      "k =  56 err =  1.7240495514737293\n",
      "######################################\n",
      "\n",
      "k =  57 err =  1.7360102520290472\n",
      "######################################\n",
      "\n",
      "k =  58 err =  1.7274668944895344\n",
      "######################################\n",
      "\n",
      "k =  59 err =  1.7155061939342162\n",
      "######################################\n",
      "\n",
      "[1.8094831268688596, 1.9478855190089706, 1.672789406236651, 1.672789406236651, 1.642033319094404, 1.6369073045706963, 1.5839384878257154, 1.630072618539086, 1.6215292609995728, 1.650576676633917, 1.636907304570696, 1.6266552755232806, 1.6146945749679624, 1.6027338744126443, 1.6181119179837675, 1.6249466040153782, 1.6010252029047416, 1.6215292609995728, 1.6095685604442544, 1.6215292609995728, 1.6283639470311833, 1.6198205894916702, 1.6027338744126443, 1.6215292609995728, 1.6232379325074755, 1.638615976078599, 1.630072618539086, 1.6505766766339172, 1.6454506621102092, 1.647159333618112, 1.6437419906023067, 1.6471593336181118, 1.655702691157625, 1.6539940196497223, 1.6625373771892353, 1.6710807347287484, 1.6642460486971378, 1.65912003417343, 1.6796240922682615, 1.6932934643314823, 1.6915847928235799, 1.6881674498077746, 1.681332763776164, 1.664246048697138, 1.65912003417343, 1.6710807347287484, 1.6710807347287484, 1.6847501067919692, 1.6915847928235797, 1.6830414352840666, 1.689876121315677, 1.7069628363947031, 1.712088850918411, 1.7223408799658266, 1.7274668944895344, 1.7240495514737293, 1.7360102520290472, 1.7274668944895344, 1.7155061939342162]\n"
     ]
    }
   ],
   "source": [
    "error = []\n",
    "for i in range(1,60):\n",
    "    for j in range(1,len(X_Ktrain)):\n",
    "        err1 = 0\n",
    "        for m in range(1,len(X_Ktrain)):\n",
    "            if m == j:\n",
    "                continue\n",
    "            KNN = KNeighborsClassifier(n_neighbors=i)\n",
    "            KNN.fit(X_Ktrain[m], y_Ktrain[m])\n",
    "            y_true = y_Ktrain[j]\n",
    "            y_pred = KNN.predict(X_Ktrain[j])\n",
    "            err = mean_squared_error(y_true, y_pred)\n",
    "            err1 = err1 + err\n",
    "    error.append(err1)\n",
    "    \n",
    "    print('k = ', i, 'err = ', err1)\n",
    "    print(\"######################################\\n\")     \n",
    "print(error)"
   ]
  },
  {
   "cell_type": "code",
   "execution_count": 14,
   "id": "c4b56b0e",
   "metadata": {},
   "outputs": [
    {
     "data": {
      "text/plain": [
       "Text(0, 0.5, 'Mean_Squared_Error')"
      ]
     },
     "execution_count": 14,
     "metadata": {},
     "output_type": "execute_result"
    },
    {
     "data": {
      "image/png": "[encoded data removed]",
      "text/plain": [
       "<Figure size 1200x800 with 1 Axes>"
      ]
     },
     "metadata": {},
     "output_type": "display_data"
    }
   ],
   "source": [
    "plt.figure(figsize=(12,8))\n",
    "plt.plot(range(1,60), error, color='red', linestyle='dashed', marker='o',\n",
    "        markerfacecolor='blue', markersize=10)\n",
    "plt.title('Error Rate for K Value')\n",
    "plt.xlabel('K Value')\n",
    "plt.ylabel('Mean_Squared_Error')"
   ]
  },
  {
   "cell_type": "code",
   "execution_count": 15,
   "id": "3e5e0329",
   "metadata": {},
   "outputs": [
    {
     "name": "stdout",
     "output_type": "stream",
     "text": [
      "7\n"
     ]
    }
   ],
   "source": [
    "minErr = min(error)\n",
    "kth = error.index(minErr) + 1\n",
    "print(kth)"
   ]
  },
  {
   "cell_type": "code",
   "execution_count": 16,
   "id": "5058eb83",
   "metadata": {},
   "outputs": [
    {
     "data": {
      "text/html": [
       "<style>#sk-container-id-1 {color: black;background-color: white;}#sk-container-id-1 pre{padding: 0;}#sk-container-id-1 div.sk-toggleable {background-color: white;}#sk-container-id-1 label.sk-toggleable__label {cursor: pointer;display: block;width: 100%;margin-bottom: 0;padding: 0.3em;box-sizing: border-box;text-align: center;}#sk-container-id-1 label.sk-toggleable__label-arrow:before {content: \"▸\";float: left;margin-right: 0.25em;color: #696969;}#sk-container-id-1 label.sk-toggleable__label-arrow:hover:before {color: black;}#sk-container-id-1 div.sk-estimator:hover label.sk-toggleable__label-arrow:before {color: black;}#sk-container-id-1 div.sk-toggleable__content {max-height: 0;max-width: 0;overflow: hidden;text-align: left;background-color: #f0f8ff;}#sk-container-id-1 div.sk-toggleable__content pre {margin: 0.2em;color: black;border-radius: 0.25em;background-color: #f0f8ff;}#sk-container-id-1 input.sk-toggleable__control:checked~div.sk-toggleable__content {max-height: 200px;max-width: 100%;overflow: auto;}#sk-container-id-1 input.sk-toggleable__control:checked~label.sk-toggleable__label-arrow:before {content: \"▾\";}#sk-container-id-1 div.sk-estimator input.sk-toggleable__control:checked~label.sk-toggleable__label {background-color: #d4ebff;}#sk-container-id-1 div.sk-label input.sk-toggleable__control:checked~label.sk-toggleable__label {background-color: #d4ebff;}#sk-container-id-1 input.sk-hidden--visually {border: 0;clip: rect(1px 1px 1px 1px);clip: rect(1px, 1px, 1px, 1px);height: 1px;margin: -1px;overflow: hidden;padding: 0;position: absolute;width: 1px;}#sk-container-id-1 div.sk-estimator {font-family: monospace;background-color: #f0f8ff;border: 1px dotted black;border-radius: 0.25em;box-sizing: border-box;margin-bottom: 0.5em;}#sk-container-id-1 div.sk-estimator:hover {background-color: #d4ebff;}#sk-container-id-1 div.sk-parallel-item::after {content: \"\";width: 100%;border-bottom: 1px solid gray;flex-grow: 1;}#sk-container-id-1 div.sk-label:hover label.sk-toggleable__label {background-color: #d4ebff;}#sk-container-id-1 div.sk-serial::before {content: \"\";position: absolute;border-left: 1px solid gray;box-sizing: border-box;top: 0;bottom: 0;left: 50%;z-index: 0;}#sk-container-id-1 div.sk-serial {display: flex;flex-direction: column;align-items: center;background-color: white;padding-right: 0.2em;padding-left: 0.2em;position: relative;}#sk-container-id-1 div.sk-item {position: relative;z-index: 1;}#sk-container-id-1 div.sk-parallel {display: flex;align-items: stretch;justify-content: center;background-color: white;position: relative;}#sk-container-id-1 div.sk-item::before, #sk-container-id-1 div.sk-parallel-item::before {content: \"\";position: absolute;border-left: 1px solid gray;box-sizing: border-box;top: 0;bottom: 0;left: 50%;z-index: -1;}#sk-container-id-1 div.sk-parallel-item {display: flex;flex-direction: column;z-index: 1;position: relative;background-color: white;}#sk-container-id-1 div.sk-parallel-item:first-child::after {align-self: flex-end;width: 50%;}#sk-container-id-1 div.sk-parallel-item:last-child::after {align-self: flex-start;width: 50%;}#sk-container-id-1 div.sk-parallel-item:only-child::after {width: 0;}#sk-container-id-1 div.sk-dashed-wrapped {border: 1px dashed gray;margin: 0 0.4em 0.5em 0.4em;box-sizing: border-box;padding-bottom: 0.4em;background-color: white;}#sk-container-id-1 div.sk-label label {font-family: monospace;font-weight: bold;display: inline-block;line-height: 1.2em;}#sk-container-id-1 div.sk-label-container {text-align: center;}#sk-container-id-1 div.sk-container {/* jupyter's `normalize.less` sets `[hidden] { display: none; }` but bootstrap.min.css set `[hidden] { display: none !important; }` so we also need the `!important` here to be able to override the default hidden behavior on the sphinx rendered scikit-learn.org. See: https://github.com/scikit-learn/scikit-learn/issues/21755 */display: inline-block !important;position: relative;}#sk-container-id-1 div.sk-text-repr-fallback {display: none;}</style><div id=\"sk-container-id-1\" class=\"sk-top-container\"><div class=\"sk-text-repr-fallback\"><pre>KNeighborsClassifier(n_neighbors=7)</pre><b>In a Jupyter environment, please rerun this cell to show the HTML representation or trust the notebook. <br />On GitHub, the HTML representation is unable to render, please try loading this page with nbviewer.org.</b></div><div class=\"sk-container\" hidden><div class=\"sk-item\"><div class=\"sk-estimator sk-toggleable\"><input class=\"sk-toggleable__control sk-hidden--visually\" id=\"sk-estimator-id-1\" type=\"checkbox\" checked><label for=\"sk-estimator-id-1\" class=\"sk-toggleable__label sk-toggleable__label-arrow\">KNeighborsClassifier</label><div class=\"sk-toggleable__content\"><pre>KNeighborsClassifier(n_neighbors=7)</pre></div></div></div></div></div>"
      ],
      "text/plain": [
       "KNeighborsClassifier(n_neighbors=7)"
      ]
     },
     "execution_count": 16,
     "metadata": {},
     "output_type": "execute_result"
    }
   ],
   "source": [
    "KNN = KNeighborsClassifier(n_neighbors=kth)\n",
    "KNN.fit(X_train, y_train)"
   ]
  },
  {
   "cell_type": "code",
   "execution_count": 17,
   "id": "e28b294f",
   "metadata": {},
   "outputs": [],
   "source": [
    "y_pred = KNN.predict(X_test)"
   ]
  },
  {
   "cell_type": "code",
   "execution_count": 18,
   "id": "ce1a8735",
   "metadata": {},
   "outputs": [
    {
     "name": "stdout",
     "output_type": "stream",
     "text": [
      "              precision    recall  f1-score   support\n",
      "\n",
      "          -1       0.84      0.75      0.79      2006\n",
      "           1       0.78      0.86      0.82      2006\n",
      "\n",
      "    accuracy                           0.81      4012\n",
      "   macro avg       0.81      0.81      0.80      4012\n",
      "weighted avg       0.81      0.81      0.80      4012\n",
      "\n"
     ]
    }
   ],
   "source": [
    "print(classification_report(y_test, y_pred))"
   ]
  },
  {
   "cell_type": "code",
   "execution_count": 19,
   "id": "3406c620",
   "metadata": {},
   "outputs": [
    {
     "name": "stdout",
     "output_type": "stream",
     "text": [
      "[[1507  499]\n",
      " [ 282 1724]]\n"
     ]
    }
   ],
   "source": [
    "print(confusion_matrix(y_test, y_pred))"
   ]
  },
  {
   "cell_type": "code",
   "execution_count": null,
   "id": "43944896",
   "metadata": {},
   "outputs": [],
   "source": []
  }
 ],
 "metadata": {
  "kernelspec": {
   "display_name": "Python 3 (ipykernel)",
   "language": "python",
   "name": "python3"
  },
  "language_info": {
   "codemirror_mode": {
    "name": "ipython",
    "version": 3
   },
   "file_extension": ".py",
   "mimetype": "text/x-python",
   "name": "python",
   "nbconvert_exporter": "python",
   "pygments_lexer": "ipython3",
   "version": "3.10.3"
  }
 },
 "nbformat": 4,
 "nbformat_minor": 5
}
